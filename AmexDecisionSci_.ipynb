{
  "nbformat": 4,
  "nbformat_minor": 0,
  "metadata": {
    "colab": {
      "provenance": [],
      "collapsed_sections": [
        "L5VV_AnEaU-o",
        "BjwbDvMeaaOd",
        "KWgu11pLyDih",
        "ZZnRGg7ttSot",
        "z-XGPUVN49y-"
      ],
      "include_colab_link": true
    },
    "kernelspec": {
      "name": "python3",
      "display_name": "Python 3"
    },
    "language_info": {
      "name": "python"
    }
  },
  "cells": [
    {
      "cell_type": "markdown",
      "metadata": {
        "id": "view-in-github",
        "colab_type": "text"
      },
      "source": [
        "<a href=\"https://colab.research.google.com/github/RitwizSarma/ocr-for-policy/blob/main/AmexDecisionSci_.ipynb\" target=\"_parent\"><img src=\"https://colab.research.google.com/assets/colab-badge.svg\" alt=\"Open In Colab\"/></a>"
      ]
    },
    {
      "cell_type": "markdown",
      "source": [
        "# Preface"
      ],
      "metadata": {
        "id": "tmIHaymwaM-D"
      }
    },
    {
      "cell_type": "markdown",
      "source": [
        "## Libraries"
      ],
      "metadata": {
        "id": "L5VV_AnEaU-o"
      }
    },
    {
      "cell_type": "code",
      "execution_count": null,
      "metadata": {
        "id": "h_HMfIBmSgms"
      },
      "outputs": [],
      "source": [
        "import pandas as pd\n",
        "import numpy as np\n",
        "from matplotlib import pyplot as plt\n",
        "from tqdm import tqdm\n",
        "tqdm.pandas()"
      ]
    },
    {
      "cell_type": "code",
      "source": [
        "from sklearn.ensemble import GradientBoostingClassifier as gbc\n",
        "from sklearn.ensemble import GradientBoostingRegressor as gbr\n",
        "from xgboost import XGBClassifier as xgbc\n",
        "from xgboost import XGBRegressor as xgbr\n",
        "from lightgbm import LGBMClassifier as lgbmc\n",
        "from lightgbm import LGBMRegressor as lgbmr\n",
        "!pip install catboost\n",
        "from catboost import CatBoostClassifier as cbc\n",
        "from catboost import CatBoostRegressor as cbr\n",
        "\n",
        "from sklearn.model_selection import train_test_split as TTS\n",
        "from sklearn.metrics import mean_squared_error as mse\n",
        "from sklearn.metrics import accuracy_score as acc\n",
        "from sklearn.metrics import r2_score as r2\n",
        "from sklearn.metrics import mean_absolute_error as mae\n",
        "from sklearn.metrics import mean_squared_log_error as msle\n",
        "from sklearn.metrics import classification_report as classrep"
      ],
      "metadata": {
        "id": "R8FEhJmzZ_e2",
        "colab": {
          "base_uri": "https://localhost:8080/"
        },
        "outputId": "ba91717e-3d83-44a2-eae7-b0d5387d996d"
      },
      "execution_count": null,
      "outputs": [
        {
          "output_type": "stream",
          "name": "stdout",
          "text": [
            "Collecting catboost\n",
            "  Downloading catboost-1.2.5-cp310-cp310-manylinux2014_x86_64.whl (98.2 MB)\n",
            "\u001b[2K     \u001b[90m━━━━━━━━━━━━━━━━━━━━━━━━━━━━━━━━━━━━━━━━\u001b[0m \u001b[32m98.2/98.2 MB\u001b[0m \u001b[31m8.1 MB/s\u001b[0m eta \u001b[36m0:00:00\u001b[0m\n",
            "\u001b[?25hRequirement already satisfied: graphviz in /usr/local/lib/python3.10/dist-packages (from catboost) (0.20.3)\n",
            "Requirement already satisfied: matplotlib in /usr/local/lib/python3.10/dist-packages (from catboost) (3.7.1)\n",
            "Requirement already satisfied: numpy>=1.16.0 in /usr/local/lib/python3.10/dist-packages (from catboost) (1.25.2)\n",
            "Requirement already satisfied: pandas>=0.24 in /usr/local/lib/python3.10/dist-packages (from catboost) (2.0.3)\n",
            "Requirement already satisfied: scipy in /usr/local/lib/python3.10/dist-packages (from catboost) (1.11.4)\n",
            "Requirement already satisfied: plotly in /usr/local/lib/python3.10/dist-packages (from catboost) (5.15.0)\n",
            "Requirement already satisfied: six in /usr/local/lib/python3.10/dist-packages (from catboost) (1.16.0)\n",
            "Requirement already satisfied: python-dateutil>=2.8.2 in /usr/local/lib/python3.10/dist-packages (from pandas>=0.24->catboost) (2.8.2)\n",
            "Requirement already satisfied: pytz>=2020.1 in /usr/local/lib/python3.10/dist-packages (from pandas>=0.24->catboost) (2023.4)\n",
            "Requirement already satisfied: tzdata>=2022.1 in /usr/local/lib/python3.10/dist-packages (from pandas>=0.24->catboost) (2024.1)\n",
            "Requirement already satisfied: contourpy>=1.0.1 in /usr/local/lib/python3.10/dist-packages (from matplotlib->catboost) (1.2.1)\n",
            "Requirement already satisfied: cycler>=0.10 in /usr/local/lib/python3.10/dist-packages (from matplotlib->catboost) (0.12.1)\n",
            "Requirement already satisfied: fonttools>=4.22.0 in /usr/local/lib/python3.10/dist-packages (from matplotlib->catboost) (4.53.0)\n",
            "Requirement already satisfied: kiwisolver>=1.0.1 in /usr/local/lib/python3.10/dist-packages (from matplotlib->catboost) (1.4.5)\n",
            "Requirement already satisfied: packaging>=20.0 in /usr/local/lib/python3.10/dist-packages (from matplotlib->catboost) (24.1)\n",
            "Requirement already satisfied: pillow>=6.2.0 in /usr/local/lib/python3.10/dist-packages (from matplotlib->catboost) (9.4.0)\n",
            "Requirement already satisfied: pyparsing>=2.3.1 in /usr/local/lib/python3.10/dist-packages (from matplotlib->catboost) (3.1.2)\n",
            "Requirement already satisfied: tenacity>=6.2.0 in /usr/local/lib/python3.10/dist-packages (from plotly->catboost) (8.4.1)\n",
            "Installing collected packages: catboost\n",
            "Successfully installed catboost-1.2.5\n"
          ]
        }
      ]
    },
    {
      "cell_type": "markdown",
      "source": [
        "<h3> Some notes </h3>\n",
        "\n",
        "Datasets given:\n",
        " - Batsman level \\[for use in feature engg\\]\n",
        " - Bowler level \\[for use in feature engg\\]\n",
        " - Match level \\[for use in feature engg\\]\n",
        " - Train dataset \\[needed for running models\\]\n",
        " - Test dataset \\[needed for running models\\]"
      ],
      "metadata": {
        "id": "wVQjNEXA5lie"
      }
    },
    {
      "cell_type": "markdown",
      "source": [
        "# Exploratory data analysis"
      ],
      "metadata": {
        "id": "BjwbDvMeaaOd"
      }
    },
    {
      "cell_type": "markdown",
      "source": [
        "## Reading data"
      ],
      "metadata": {
        "id": "KWgu11pLyDih"
      }
    },
    {
      "cell_type": "code",
      "source": [
        "bt_df = pd.read_csv(\"/content/663e2b548c98c_batsman_level_scorecard.csv\")\n",
        "bwl_df = pd.read_csv(\"/content/663e2b2c60743_bowler_level_scorecard.csv\")\n",
        "match_df = pd.read_csv(\"/content/664389efa0868_match_level_scorecard.csv\")\n",
        "train = pd.read_csv(\"/content/663e2b6d54457_train_data_with_samplefeatures.csv\")\n",
        "test = pd.read_csv(\"/content/6644a1e287df6_test_data_with_samplefeatures.csv\")"
      ],
      "metadata": {
        "id": "s9qBpkkJyDJH"
      },
      "execution_count": null,
      "outputs": []
    },
    {
      "cell_type": "markdown",
      "source": [
        "## Batsman-level dataset"
      ],
      "metadata": {
        "id": "kNWJrHFqaBzt"
      }
    },
    {
      "cell_type": "code",
      "source": [],
      "metadata": {
        "id": "xrnZpTBmaE5i",
        "colab": {
          "base_uri": "https://localhost:8080/",
          "height": 287
        },
        "outputId": "7bbda58a-e5da-499d-b271-63ba81670f5c"
      },
      "execution_count": null,
      "outputs": [
        {
          "output_type": "error",
          "ename": "FileNotFoundError",
          "evalue": "[Errno 2] No such file or directory: '/content/663e2b548c98c_batsman_level_scorecard.csv'",
          "traceback": [
            "\u001b[0;31m---------------------------------------------------------------------------\u001b[0m",
            "\u001b[0;31mFileNotFoundError\u001b[0m                         Traceback (most recent call last)",
            "\u001b[0;32m<ipython-input-3-c48e81d4dab4>\u001b[0m in \u001b[0;36m<cell line: 1>\u001b[0;34m()\u001b[0m\n\u001b[0;32m----> 1\u001b[0;31m \u001b[0mbt_df\u001b[0m \u001b[0;34m=\u001b[0m \u001b[0mpd\u001b[0m\u001b[0;34m.\u001b[0m\u001b[0mread_csv\u001b[0m\u001b[0;34m(\u001b[0m\u001b[0;34m\"/content/663e2b548c98c_batsman_level_scorecard.csv\"\u001b[0m\u001b[0;34m)\u001b[0m\u001b[0;34m\u001b[0m\u001b[0;34m\u001b[0m\u001b[0m\n\u001b[0m",
            "\u001b[0;32m/usr/local/lib/python3.10/dist-packages/pandas/io/parsers/readers.py\u001b[0m in \u001b[0;36mread_csv\u001b[0;34m(filepath_or_buffer, sep, delimiter, header, names, index_col, usecols, dtype, engine, converters, true_values, false_values, skipinitialspace, skiprows, skipfooter, nrows, na_values, keep_default_na, na_filter, verbose, skip_blank_lines, parse_dates, infer_datetime_format, keep_date_col, date_parser, date_format, dayfirst, cache_dates, iterator, chunksize, compression, thousands, decimal, lineterminator, quotechar, quoting, doublequote, escapechar, comment, encoding, encoding_errors, dialect, on_bad_lines, delim_whitespace, low_memory, memory_map, float_precision, storage_options, dtype_backend)\u001b[0m\n\u001b[1;32m    910\u001b[0m     \u001b[0mkwds\u001b[0m\u001b[0;34m.\u001b[0m\u001b[0mupdate\u001b[0m\u001b[0;34m(\u001b[0m\u001b[0mkwds_defaults\u001b[0m\u001b[0;34m)\u001b[0m\u001b[0;34m\u001b[0m\u001b[0;34m\u001b[0m\u001b[0m\n\u001b[1;32m    911\u001b[0m \u001b[0;34m\u001b[0m\u001b[0m\n\u001b[0;32m--> 912\u001b[0;31m     \u001b[0;32mreturn\u001b[0m \u001b[0m_read\u001b[0m\u001b[0;34m(\u001b[0m\u001b[0mfilepath_or_buffer\u001b[0m\u001b[0;34m,\u001b[0m \u001b[0mkwds\u001b[0m\u001b[0;34m)\u001b[0m\u001b[0;34m\u001b[0m\u001b[0;34m\u001b[0m\u001b[0m\n\u001b[0m\u001b[1;32m    913\u001b[0m \u001b[0;34m\u001b[0m\u001b[0m\n\u001b[1;32m    914\u001b[0m \u001b[0;34m\u001b[0m\u001b[0m\n",
            "\u001b[0;32m/usr/local/lib/python3.10/dist-packages/pandas/io/parsers/readers.py\u001b[0m in \u001b[0;36m_read\u001b[0;34m(filepath_or_buffer, kwds)\u001b[0m\n\u001b[1;32m    575\u001b[0m \u001b[0;34m\u001b[0m\u001b[0m\n\u001b[1;32m    576\u001b[0m     \u001b[0;31m# Create the parser.\u001b[0m\u001b[0;34m\u001b[0m\u001b[0;34m\u001b[0m\u001b[0m\n\u001b[0;32m--> 577\u001b[0;31m     \u001b[0mparser\u001b[0m \u001b[0;34m=\u001b[0m \u001b[0mTextFileReader\u001b[0m\u001b[0;34m(\u001b[0m\u001b[0mfilepath_or_buffer\u001b[0m\u001b[0;34m,\u001b[0m \u001b[0;34m**\u001b[0m\u001b[0mkwds\u001b[0m\u001b[0;34m)\u001b[0m\u001b[0;34m\u001b[0m\u001b[0;34m\u001b[0m\u001b[0m\n\u001b[0m\u001b[1;32m    578\u001b[0m \u001b[0;34m\u001b[0m\u001b[0m\n\u001b[1;32m    579\u001b[0m     \u001b[0;32mif\u001b[0m \u001b[0mchunksize\u001b[0m \u001b[0;32mor\u001b[0m \u001b[0miterator\u001b[0m\u001b[0;34m:\u001b[0m\u001b[0;34m\u001b[0m\u001b[0;34m\u001b[0m\u001b[0m\n",
            "\u001b[0;32m/usr/local/lib/python3.10/dist-packages/pandas/io/parsers/readers.py\u001b[0m in \u001b[0;36m__init__\u001b[0;34m(self, f, engine, **kwds)\u001b[0m\n\u001b[1;32m   1405\u001b[0m \u001b[0;34m\u001b[0m\u001b[0m\n\u001b[1;32m   1406\u001b[0m         \u001b[0mself\u001b[0m\u001b[0;34m.\u001b[0m\u001b[0mhandles\u001b[0m\u001b[0;34m:\u001b[0m \u001b[0mIOHandles\u001b[0m \u001b[0;34m|\u001b[0m \u001b[0;32mNone\u001b[0m \u001b[0;34m=\u001b[0m \u001b[0;32mNone\u001b[0m\u001b[0;34m\u001b[0m\u001b[0;34m\u001b[0m\u001b[0m\n\u001b[0;32m-> 1407\u001b[0;31m         \u001b[0mself\u001b[0m\u001b[0;34m.\u001b[0m\u001b[0m_engine\u001b[0m \u001b[0;34m=\u001b[0m \u001b[0mself\u001b[0m\u001b[0;34m.\u001b[0m\u001b[0m_make_engine\u001b[0m\u001b[0;34m(\u001b[0m\u001b[0mf\u001b[0m\u001b[0;34m,\u001b[0m \u001b[0mself\u001b[0m\u001b[0;34m.\u001b[0m\u001b[0mengine\u001b[0m\u001b[0;34m)\u001b[0m\u001b[0;34m\u001b[0m\u001b[0;34m\u001b[0m\u001b[0m\n\u001b[0m\u001b[1;32m   1408\u001b[0m \u001b[0;34m\u001b[0m\u001b[0m\n\u001b[1;32m   1409\u001b[0m     \u001b[0;32mdef\u001b[0m \u001b[0mclose\u001b[0m\u001b[0;34m(\u001b[0m\u001b[0mself\u001b[0m\u001b[0;34m)\u001b[0m \u001b[0;34m->\u001b[0m \u001b[0;32mNone\u001b[0m\u001b[0;34m:\u001b[0m\u001b[0;34m\u001b[0m\u001b[0;34m\u001b[0m\u001b[0m\n",
            "\u001b[0;32m/usr/local/lib/python3.10/dist-packages/pandas/io/parsers/readers.py\u001b[0m in \u001b[0;36m_make_engine\u001b[0;34m(self, f, engine)\u001b[0m\n\u001b[1;32m   1659\u001b[0m                 \u001b[0;32mif\u001b[0m \u001b[0;34m\"b\"\u001b[0m \u001b[0;32mnot\u001b[0m \u001b[0;32min\u001b[0m \u001b[0mmode\u001b[0m\u001b[0;34m:\u001b[0m\u001b[0;34m\u001b[0m\u001b[0;34m\u001b[0m\u001b[0m\n\u001b[1;32m   1660\u001b[0m                     \u001b[0mmode\u001b[0m \u001b[0;34m+=\u001b[0m \u001b[0;34m\"b\"\u001b[0m\u001b[0;34m\u001b[0m\u001b[0;34m\u001b[0m\u001b[0m\n\u001b[0;32m-> 1661\u001b[0;31m             self.handles = get_handle(\n\u001b[0m\u001b[1;32m   1662\u001b[0m                 \u001b[0mf\u001b[0m\u001b[0;34m,\u001b[0m\u001b[0;34m\u001b[0m\u001b[0;34m\u001b[0m\u001b[0m\n\u001b[1;32m   1663\u001b[0m                 \u001b[0mmode\u001b[0m\u001b[0;34m,\u001b[0m\u001b[0;34m\u001b[0m\u001b[0;34m\u001b[0m\u001b[0m\n",
            "\u001b[0;32m/usr/local/lib/python3.10/dist-packages/pandas/io/common.py\u001b[0m in \u001b[0;36mget_handle\u001b[0;34m(path_or_buf, mode, encoding, compression, memory_map, is_text, errors, storage_options)\u001b[0m\n\u001b[1;32m    857\u001b[0m         \u001b[0;32mif\u001b[0m \u001b[0mioargs\u001b[0m\u001b[0;34m.\u001b[0m\u001b[0mencoding\u001b[0m \u001b[0;32mand\u001b[0m \u001b[0;34m\"b\"\u001b[0m \u001b[0;32mnot\u001b[0m \u001b[0;32min\u001b[0m \u001b[0mioargs\u001b[0m\u001b[0;34m.\u001b[0m\u001b[0mmode\u001b[0m\u001b[0;34m:\u001b[0m\u001b[0;34m\u001b[0m\u001b[0;34m\u001b[0m\u001b[0m\n\u001b[1;32m    858\u001b[0m             \u001b[0;31m# Encoding\u001b[0m\u001b[0;34m\u001b[0m\u001b[0;34m\u001b[0m\u001b[0m\n\u001b[0;32m--> 859\u001b[0;31m             handle = open(\n\u001b[0m\u001b[1;32m    860\u001b[0m                 \u001b[0mhandle\u001b[0m\u001b[0;34m,\u001b[0m\u001b[0;34m\u001b[0m\u001b[0;34m\u001b[0m\u001b[0m\n\u001b[1;32m    861\u001b[0m                 \u001b[0mioargs\u001b[0m\u001b[0;34m.\u001b[0m\u001b[0mmode\u001b[0m\u001b[0;34m,\u001b[0m\u001b[0;34m\u001b[0m\u001b[0;34m\u001b[0m\u001b[0m\n",
            "\u001b[0;31mFileNotFoundError\u001b[0m: [Errno 2] No such file or directory: '/content/663e2b548c98c_batsman_level_scorecard.csv'"
          ]
        }
      ]
    },
    {
      "cell_type": "code",
      "source": [
        "bt_df"
      ],
      "metadata": {
        "colab": {
          "base_uri": "https://localhost:8080/",
          "height": 790
        },
        "collapsed": true,
        "id": "w-ZiT3PgaFt9",
        "outputId": "10855d81-b5d3-4695-e65e-3635ba362846"
      },
      "execution_count": null,
      "outputs": [
        {
          "output_type": "execute_result",
          "data": {
            "text/plain": [
              "       match id batsman  batsman_id                           batsman_details  \\\n",
              "0       8638034   KD Ce   7907451.0  NZ:Right-hand bat:Right-arm medium-fast:   \n",
              "1       8638034   TL St   4381761.0                   NZ:Right-hand bat:None:   \n",
              "2       8638034   HR Cr   4949790.0     NZ:Right-hand bat:Right-arm offbreak:   \n",
              "3       8638034   BR Hn   3834305.0  NZ:Right-hand bat:Right-arm medium-fast:   \n",
              "4       8638034   SC Kn   3776849.0  NZ:Right-hand bat:Right-arm fast-medium:   \n",
              "...         ...     ...         ...                                       ...   \n",
              "24478   9433633   CP Wd   2173688.0  ENG:Right-hand bat:Left-arm medium-fast:   \n",
              "24479   9433633   JJ Wy   5241564.0    ENG:Right-hand bat:Right-arm offbreak:   \n",
              "24480   9433633    G Rn   4898074.0                   SA:Right-hand bat:None:   \n",
              "24481   9433633   BJ Ws   8048074.0                  ENG:Right-hand bat:None:   \n",
              "24482   9433633   BG Ch   6988596.0  ENG:Left-hand bat:Right-arm medium-fast:   \n",
              "\n",
              "       is_batsman_captain  is_batsman_keeper  inning  runs  balls_faced  \\\n",
              "0                     0.0                0.0       1     7            5   \n",
              "1                     0.0                1.0       1    46           46   \n",
              "2                     0.0                0.0       1     9           10   \n",
              "3                     0.0                0.0       1    28           22   \n",
              "4                     0.0                0.0       1    18           13   \n",
              "...                   ...                ...     ...   ...          ...   \n",
              "24478                 0.0                0.0       1     1            1   \n",
              "24479                 0.0                0.0       1    37           28   \n",
              "24480                 0.0                1.0       2     1            6   \n",
              "24481                 0.0                0.0       2    43           22   \n",
              "24482                 0.0                0.0       2    29           15   \n",
              "\n",
              "       over_faced_first  ... out_by_bowler out_by_fielder  bowler_id  \\\n",
              "0                   1.1  ...         JS Nm          TM Jn  2486896.0   \n",
              "1                   1.2  ...          R Ra          MG Bl  6718382.0   \n",
              "2                  12.1  ...         PF Yd           R Ra  4950294.0   \n",
              "3                  13.6  ...         HK Bt          FH An  1585464.0   \n",
              "4                  17.2  ...           NaN            NaN        NaN   \n",
              "...                 ...  ...           ...            ...        ...   \n",
              "24478              20.4  ...           NaN            NaN        NaN   \n",
              "24479               6.6  ...         TJ Sh           G Rn  1707628.0   \n",
              "24480               1.1  ...         JA Tr          LA Dn  8833075.0   \n",
              "24481               2.3  ...           NaN            NaN        NaN   \n",
              "24482               5.2  ...           NaN            NaN        NaN   \n",
              "\n",
              "                                   bowler_details is_bowler_keeper  \\\n",
              "0         NZ:Left-hand bat:Right-arm medium-fast:              0.0   \n",
              "1        NZ:Left-hand bat:Slow left-arm orthodox:              0.0   \n",
              "2              NZ:Right-hand bat:Legbreak googly:              0.0   \n",
              "3         NZ:Left-hand bat:Right-arm medium-fast:              0.0   \n",
              "4                                             NaN              NaN   \n",
              "...                                           ...              ...   \n",
              "24478                                         NaN              NaN   \n",
              "24479  ENG:Right-hand bat:Slow left-arm orthodox:              0.0   \n",
              "24480   ENG:Right-hand bat:Right-arm fast-medium:              0.0   \n",
              "24481                                         NaN              NaN   \n",
              "24482                                         NaN              NaN   \n",
              "\n",
              "       is_bowler_captain  strike_rate  Fours  Sixes    match_dt  \n",
              "0                    0.0       140.00    1.0    NaN  2021-01-01  \n",
              "1                    0.0       100.00    4.0    1.0  2021-01-01  \n",
              "2                    0.0        90.00    NaN    NaN  2021-01-01  \n",
              "3                    0.0       127.27    3.0    NaN  2021-01-01  \n",
              "4                    NaN       138.46    NaN    1.0  2021-01-01  \n",
              "...                  ...          ...    ...    ...         ...  \n",
              "24478                NaN       100.00    NaN    NaN  2023-06-20  \n",
              "24479                0.0       132.14    4.0    1.0  2023-06-20  \n",
              "24480                0.0        16.67    NaN    NaN  2023-06-20  \n",
              "24481                NaN       195.45    3.0    3.0  2023-06-20  \n",
              "24482                NaN       193.33    3.0    2.0  2023-06-20  \n",
              "\n",
              "[24483 rows x 21 columns]"
            ],
            "text/html": [
              "\n",
              "  <div id=\"df-f70e2281-ce52-4db2-b373-a5dea8b3618d\" class=\"colab-df-container\">\n",
              "    <div>\n",
              "<style scoped>\n",
              "    .dataframe tbody tr th:only-of-type {\n",
              "        vertical-align: middle;\n",
              "    }\n",
              "\n",
              "    .dataframe tbody tr th {\n",
              "        vertical-align: top;\n",
              "    }\n",
              "\n",
              "    .dataframe thead th {\n",
              "        text-align: right;\n",
              "    }\n",
              "</style>\n",
              "<table border=\"1\" class=\"dataframe\">\n",
              "  <thead>\n",
              "    <tr style=\"text-align: right;\">\n",
              "      <th></th>\n",
              "      <th>match id</th>\n",
              "      <th>batsman</th>\n",
              "      <th>batsman_id</th>\n",
              "      <th>batsman_details</th>\n",
              "      <th>is_batsman_captain</th>\n",
              "      <th>is_batsman_keeper</th>\n",
              "      <th>inning</th>\n",
              "      <th>runs</th>\n",
              "      <th>balls_faced</th>\n",
              "      <th>over_faced_first</th>\n",
              "      <th>...</th>\n",
              "      <th>out_by_bowler</th>\n",
              "      <th>out_by_fielder</th>\n",
              "      <th>bowler_id</th>\n",
              "      <th>bowler_details</th>\n",
              "      <th>is_bowler_keeper</th>\n",
              "      <th>is_bowler_captain</th>\n",
              "      <th>strike_rate</th>\n",
              "      <th>Fours</th>\n",
              "      <th>Sixes</th>\n",
              "      <th>match_dt</th>\n",
              "    </tr>\n",
              "  </thead>\n",
              "  <tbody>\n",
              "    <tr>\n",
              "      <th>0</th>\n",
              "      <td>8638034</td>\n",
              "      <td>KD Ce</td>\n",
              "      <td>7907451.0</td>\n",
              "      <td>NZ:Right-hand bat:Right-arm medium-fast:</td>\n",
              "      <td>0.0</td>\n",
              "      <td>0.0</td>\n",
              "      <td>1</td>\n",
              "      <td>7</td>\n",
              "      <td>5</td>\n",
              "      <td>1.1</td>\n",
              "      <td>...</td>\n",
              "      <td>JS Nm</td>\n",
              "      <td>TM Jn</td>\n",
              "      <td>2486896.0</td>\n",
              "      <td>NZ:Left-hand bat:Right-arm medium-fast:</td>\n",
              "      <td>0.0</td>\n",
              "      <td>0.0</td>\n",
              "      <td>140.00</td>\n",
              "      <td>1.0</td>\n",
              "      <td>NaN</td>\n",
              "      <td>2021-01-01</td>\n",
              "    </tr>\n",
              "    <tr>\n",
              "      <th>1</th>\n",
              "      <td>8638034</td>\n",
              "      <td>TL St</td>\n",
              "      <td>4381761.0</td>\n",
              "      <td>NZ:Right-hand bat:None:</td>\n",
              "      <td>0.0</td>\n",
              "      <td>1.0</td>\n",
              "      <td>1</td>\n",
              "      <td>46</td>\n",
              "      <td>46</td>\n",
              "      <td>1.2</td>\n",
              "      <td>...</td>\n",
              "      <td>R Ra</td>\n",
              "      <td>MG Bl</td>\n",
              "      <td>6718382.0</td>\n",
              "      <td>NZ:Left-hand bat:Slow left-arm orthodox:</td>\n",
              "      <td>0.0</td>\n",
              "      <td>0.0</td>\n",
              "      <td>100.00</td>\n",
              "      <td>4.0</td>\n",
              "      <td>1.0</td>\n",
              "      <td>2021-01-01</td>\n",
              "    </tr>\n",
              "    <tr>\n",
              "      <th>2</th>\n",
              "      <td>8638034</td>\n",
              "      <td>HR Cr</td>\n",
              "      <td>4949790.0</td>\n",
              "      <td>NZ:Right-hand bat:Right-arm offbreak:</td>\n",
              "      <td>0.0</td>\n",
              "      <td>0.0</td>\n",
              "      <td>1</td>\n",
              "      <td>9</td>\n",
              "      <td>10</td>\n",
              "      <td>12.1</td>\n",
              "      <td>...</td>\n",
              "      <td>PF Yd</td>\n",
              "      <td>R Ra</td>\n",
              "      <td>4950294.0</td>\n",
              "      <td>NZ:Right-hand bat:Legbreak googly:</td>\n",
              "      <td>0.0</td>\n",
              "      <td>0.0</td>\n",
              "      <td>90.00</td>\n",
              "      <td>NaN</td>\n",
              "      <td>NaN</td>\n",
              "      <td>2021-01-01</td>\n",
              "    </tr>\n",
              "    <tr>\n",
              "      <th>3</th>\n",
              "      <td>8638034</td>\n",
              "      <td>BR Hn</td>\n",
              "      <td>3834305.0</td>\n",
              "      <td>NZ:Right-hand bat:Right-arm medium-fast:</td>\n",
              "      <td>0.0</td>\n",
              "      <td>0.0</td>\n",
              "      <td>1</td>\n",
              "      <td>28</td>\n",
              "      <td>22</td>\n",
              "      <td>13.6</td>\n",
              "      <td>...</td>\n",
              "      <td>HK Bt</td>\n",
              "      <td>FH An</td>\n",
              "      <td>1585464.0</td>\n",
              "      <td>NZ:Left-hand bat:Right-arm medium-fast:</td>\n",
              "      <td>0.0</td>\n",
              "      <td>0.0</td>\n",
              "      <td>127.27</td>\n",
              "      <td>3.0</td>\n",
              "      <td>NaN</td>\n",
              "      <td>2021-01-01</td>\n",
              "    </tr>\n",
              "    <tr>\n",
              "      <th>4</th>\n",
              "      <td>8638034</td>\n",
              "      <td>SC Kn</td>\n",
              "      <td>3776849.0</td>\n",
              "      <td>NZ:Right-hand bat:Right-arm fast-medium:</td>\n",
              "      <td>0.0</td>\n",
              "      <td>0.0</td>\n",
              "      <td>1</td>\n",
              "      <td>18</td>\n",
              "      <td>13</td>\n",
              "      <td>17.2</td>\n",
              "      <td>...</td>\n",
              "      <td>NaN</td>\n",
              "      <td>NaN</td>\n",
              "      <td>NaN</td>\n",
              "      <td>NaN</td>\n",
              "      <td>NaN</td>\n",
              "      <td>NaN</td>\n",
              "      <td>138.46</td>\n",
              "      <td>NaN</td>\n",
              "      <td>1.0</td>\n",
              "      <td>2021-01-01</td>\n",
              "    </tr>\n",
              "    <tr>\n",
              "      <th>...</th>\n",
              "      <td>...</td>\n",
              "      <td>...</td>\n",
              "      <td>...</td>\n",
              "      <td>...</td>\n",
              "      <td>...</td>\n",
              "      <td>...</td>\n",
              "      <td>...</td>\n",
              "      <td>...</td>\n",
              "      <td>...</td>\n",
              "      <td>...</td>\n",
              "      <td>...</td>\n",
              "      <td>...</td>\n",
              "      <td>...</td>\n",
              "      <td>...</td>\n",
              "      <td>...</td>\n",
              "      <td>...</td>\n",
              "      <td>...</td>\n",
              "      <td>...</td>\n",
              "      <td>...</td>\n",
              "      <td>...</td>\n",
              "      <td>...</td>\n",
              "    </tr>\n",
              "    <tr>\n",
              "      <th>24478</th>\n",
              "      <td>9433633</td>\n",
              "      <td>CP Wd</td>\n",
              "      <td>2173688.0</td>\n",
              "      <td>ENG:Right-hand bat:Left-arm medium-fast:</td>\n",
              "      <td>0.0</td>\n",
              "      <td>0.0</td>\n",
              "      <td>1</td>\n",
              "      <td>1</td>\n",
              "      <td>1</td>\n",
              "      <td>20.4</td>\n",
              "      <td>...</td>\n",
              "      <td>NaN</td>\n",
              "      <td>NaN</td>\n",
              "      <td>NaN</td>\n",
              "      <td>NaN</td>\n",
              "      <td>NaN</td>\n",
              "      <td>NaN</td>\n",
              "      <td>100.00</td>\n",
              "      <td>NaN</td>\n",
              "      <td>NaN</td>\n",
              "      <td>2023-06-20</td>\n",
              "    </tr>\n",
              "    <tr>\n",
              "      <th>24479</th>\n",
              "      <td>9433633</td>\n",
              "      <td>JJ Wy</td>\n",
              "      <td>5241564.0</td>\n",
              "      <td>ENG:Right-hand bat:Right-arm offbreak:</td>\n",
              "      <td>0.0</td>\n",
              "      <td>0.0</td>\n",
              "      <td>1</td>\n",
              "      <td>37</td>\n",
              "      <td>28</td>\n",
              "      <td>6.6</td>\n",
              "      <td>...</td>\n",
              "      <td>TJ Sh</td>\n",
              "      <td>G Rn</td>\n",
              "      <td>1707628.0</td>\n",
              "      <td>ENG:Right-hand bat:Slow left-arm orthodox:</td>\n",
              "      <td>0.0</td>\n",
              "      <td>0.0</td>\n",
              "      <td>132.14</td>\n",
              "      <td>4.0</td>\n",
              "      <td>1.0</td>\n",
              "      <td>2023-06-20</td>\n",
              "    </tr>\n",
              "    <tr>\n",
              "      <th>24480</th>\n",
              "      <td>9433633</td>\n",
              "      <td>G Rn</td>\n",
              "      <td>4898074.0</td>\n",
              "      <td>SA:Right-hand bat:None:</td>\n",
              "      <td>0.0</td>\n",
              "      <td>1.0</td>\n",
              "      <td>2</td>\n",
              "      <td>1</td>\n",
              "      <td>6</td>\n",
              "      <td>1.1</td>\n",
              "      <td>...</td>\n",
              "      <td>JA Tr</td>\n",
              "      <td>LA Dn</td>\n",
              "      <td>8833075.0</td>\n",
              "      <td>ENG:Right-hand bat:Right-arm fast-medium:</td>\n",
              "      <td>0.0</td>\n",
              "      <td>0.0</td>\n",
              "      <td>16.67</td>\n",
              "      <td>NaN</td>\n",
              "      <td>NaN</td>\n",
              "      <td>2023-06-20</td>\n",
              "    </tr>\n",
              "    <tr>\n",
              "      <th>24481</th>\n",
              "      <td>9433633</td>\n",
              "      <td>BJ Ws</td>\n",
              "      <td>8048074.0</td>\n",
              "      <td>ENG:Right-hand bat:None:</td>\n",
              "      <td>0.0</td>\n",
              "      <td>0.0</td>\n",
              "      <td>2</td>\n",
              "      <td>43</td>\n",
              "      <td>22</td>\n",
              "      <td>2.3</td>\n",
              "      <td>...</td>\n",
              "      <td>NaN</td>\n",
              "      <td>NaN</td>\n",
              "      <td>NaN</td>\n",
              "      <td>NaN</td>\n",
              "      <td>NaN</td>\n",
              "      <td>NaN</td>\n",
              "      <td>195.45</td>\n",
              "      <td>3.0</td>\n",
              "      <td>3.0</td>\n",
              "      <td>2023-06-20</td>\n",
              "    </tr>\n",
              "    <tr>\n",
              "      <th>24482</th>\n",
              "      <td>9433633</td>\n",
              "      <td>BG Ch</td>\n",
              "      <td>6988596.0</td>\n",
              "      <td>ENG:Left-hand bat:Right-arm medium-fast:</td>\n",
              "      <td>0.0</td>\n",
              "      <td>0.0</td>\n",
              "      <td>2</td>\n",
              "      <td>29</td>\n",
              "      <td>15</td>\n",
              "      <td>5.2</td>\n",
              "      <td>...</td>\n",
              "      <td>NaN</td>\n",
              "      <td>NaN</td>\n",
              "      <td>NaN</td>\n",
              "      <td>NaN</td>\n",
              "      <td>NaN</td>\n",
              "      <td>NaN</td>\n",
              "      <td>193.33</td>\n",
              "      <td>3.0</td>\n",
              "      <td>2.0</td>\n",
              "      <td>2023-06-20</td>\n",
              "    </tr>\n",
              "  </tbody>\n",
              "</table>\n",
              "<p>24483 rows × 21 columns</p>\n",
              "</div>\n",
              "    <div class=\"colab-df-buttons\">\n",
              "\n",
              "  <div class=\"colab-df-container\">\n",
              "    <button class=\"colab-df-convert\" onclick=\"convertToInteractive('df-f70e2281-ce52-4db2-b373-a5dea8b3618d')\"\n",
              "            title=\"Convert this dataframe to an interactive table.\"\n",
              "            style=\"display:none;\">\n",
              "\n",
              "  <svg xmlns=\"http://www.w3.org/2000/svg\" height=\"24px\" viewBox=\"0 -960 960 960\">\n",
              "    <path d=\"M120-120v-720h720v720H120Zm60-500h600v-160H180v160Zm220 220h160v-160H400v160Zm0 220h160v-160H400v160ZM180-400h160v-160H180v160Zm440 0h160v-160H620v160ZM180-180h160v-160H180v160Zm440 0h160v-160H620v160Z\"/>\n",
              "  </svg>\n",
              "    </button>\n",
              "\n",
              "  <style>\n",
              "    .colab-df-container {\n",
              "      display:flex;\n",
              "      gap: 12px;\n",
              "    }\n",
              "\n",
              "    .colab-df-convert {\n",
              "      background-color: #E8F0FE;\n",
              "      border: none;\n",
              "      border-radius: 50%;\n",
              "      cursor: pointer;\n",
              "      display: none;\n",
              "      fill: #1967D2;\n",
              "      height: 32px;\n",
              "      padding: 0 0 0 0;\n",
              "      width: 32px;\n",
              "    }\n",
              "\n",
              "    .colab-df-convert:hover {\n",
              "      background-color: #E2EBFA;\n",
              "      box-shadow: 0px 1px 2px rgba(60, 64, 67, 0.3), 0px 1px 3px 1px rgba(60, 64, 67, 0.15);\n",
              "      fill: #174EA6;\n",
              "    }\n",
              "\n",
              "    .colab-df-buttons div {\n",
              "      margin-bottom: 4px;\n",
              "    }\n",
              "\n",
              "    [theme=dark] .colab-df-convert {\n",
              "      background-color: #3B4455;\n",
              "      fill: #D2E3FC;\n",
              "    }\n",
              "\n",
              "    [theme=dark] .colab-df-convert:hover {\n",
              "      background-color: #434B5C;\n",
              "      box-shadow: 0px 1px 3px 1px rgba(0, 0, 0, 0.15);\n",
              "      filter: drop-shadow(0px 1px 2px rgba(0, 0, 0, 0.3));\n",
              "      fill: #FFFFFF;\n",
              "    }\n",
              "  </style>\n",
              "\n",
              "    <script>\n",
              "      const buttonEl =\n",
              "        document.querySelector('#df-f70e2281-ce52-4db2-b373-a5dea8b3618d button.colab-df-convert');\n",
              "      buttonEl.style.display =\n",
              "        google.colab.kernel.accessAllowed ? 'block' : 'none';\n",
              "\n",
              "      async function convertToInteractive(key) {\n",
              "        const element = document.querySelector('#df-f70e2281-ce52-4db2-b373-a5dea8b3618d');\n",
              "        const dataTable =\n",
              "          await google.colab.kernel.invokeFunction('convertToInteractive',\n",
              "                                                    [key], {});\n",
              "        if (!dataTable) return;\n",
              "\n",
              "        const docLinkHtml = 'Like what you see? Visit the ' +\n",
              "          '<a target=\"_blank\" href=https://colab.research.google.com/notebooks/data_table.ipynb>data table notebook</a>'\n",
              "          + ' to learn more about interactive tables.';\n",
              "        element.innerHTML = '';\n",
              "        dataTable['output_type'] = 'display_data';\n",
              "        await google.colab.output.renderOutput(dataTable, element);\n",
              "        const docLink = document.createElement('div');\n",
              "        docLink.innerHTML = docLinkHtml;\n",
              "        element.appendChild(docLink);\n",
              "      }\n",
              "    </script>\n",
              "  </div>\n",
              "\n",
              "\n",
              "<div id=\"df-e24ebd15-3cde-4b93-932a-854f12a73954\">\n",
              "  <button class=\"colab-df-quickchart\" onclick=\"quickchart('df-e24ebd15-3cde-4b93-932a-854f12a73954')\"\n",
              "            title=\"Suggest charts\"\n",
              "            style=\"display:none;\">\n",
              "\n",
              "<svg xmlns=\"http://www.w3.org/2000/svg\" height=\"24px\"viewBox=\"0 0 24 24\"\n",
              "     width=\"24px\">\n",
              "    <g>\n",
              "        <path d=\"M19 3H5c-1.1 0-2 .9-2 2v14c0 1.1.9 2 2 2h14c1.1 0 2-.9 2-2V5c0-1.1-.9-2-2-2zM9 17H7v-7h2v7zm4 0h-2V7h2v10zm4 0h-2v-4h2v4z\"/>\n",
              "    </g>\n",
              "</svg>\n",
              "  </button>\n",
              "\n",
              "<style>\n",
              "  .colab-df-quickchart {\n",
              "      --bg-color: #E8F0FE;\n",
              "      --fill-color: #1967D2;\n",
              "      --hover-bg-color: #E2EBFA;\n",
              "      --hover-fill-color: #174EA6;\n",
              "      --disabled-fill-color: #AAA;\n",
              "      --disabled-bg-color: #DDD;\n",
              "  }\n",
              "\n",
              "  [theme=dark] .colab-df-quickchart {\n",
              "      --bg-color: #3B4455;\n",
              "      --fill-color: #D2E3FC;\n",
              "      --hover-bg-color: #434B5C;\n",
              "      --hover-fill-color: #FFFFFF;\n",
              "      --disabled-bg-color: #3B4455;\n",
              "      --disabled-fill-color: #666;\n",
              "  }\n",
              "\n",
              "  .colab-df-quickchart {\n",
              "    background-color: var(--bg-color);\n",
              "    border: none;\n",
              "    border-radius: 50%;\n",
              "    cursor: pointer;\n",
              "    display: none;\n",
              "    fill: var(--fill-color);\n",
              "    height: 32px;\n",
              "    padding: 0;\n",
              "    width: 32px;\n",
              "  }\n",
              "\n",
              "  .colab-df-quickchart:hover {\n",
              "    background-color: var(--hover-bg-color);\n",
              "    box-shadow: 0 1px 2px rgba(60, 64, 67, 0.3), 0 1px 3px 1px rgba(60, 64, 67, 0.15);\n",
              "    fill: var(--button-hover-fill-color);\n",
              "  }\n",
              "\n",
              "  .colab-df-quickchart-complete:disabled,\n",
              "  .colab-df-quickchart-complete:disabled:hover {\n",
              "    background-color: var(--disabled-bg-color);\n",
              "    fill: var(--disabled-fill-color);\n",
              "    box-shadow: none;\n",
              "  }\n",
              "\n",
              "  .colab-df-spinner {\n",
              "    border: 2px solid var(--fill-color);\n",
              "    border-color: transparent;\n",
              "    border-bottom-color: var(--fill-color);\n",
              "    animation:\n",
              "      spin 1s steps(1) infinite;\n",
              "  }\n",
              "\n",
              "  @keyframes spin {\n",
              "    0% {\n",
              "      border-color: transparent;\n",
              "      border-bottom-color: var(--fill-color);\n",
              "      border-left-color: var(--fill-color);\n",
              "    }\n",
              "    20% {\n",
              "      border-color: transparent;\n",
              "      border-left-color: var(--fill-color);\n",
              "      border-top-color: var(--fill-color);\n",
              "    }\n",
              "    30% {\n",
              "      border-color: transparent;\n",
              "      border-left-color: var(--fill-color);\n",
              "      border-top-color: var(--fill-color);\n",
              "      border-right-color: var(--fill-color);\n",
              "    }\n",
              "    40% {\n",
              "      border-color: transparent;\n",
              "      border-right-color: var(--fill-color);\n",
              "      border-top-color: var(--fill-color);\n",
              "    }\n",
              "    60% {\n",
              "      border-color: transparent;\n",
              "      border-right-color: var(--fill-color);\n",
              "    }\n",
              "    80% {\n",
              "      border-color: transparent;\n",
              "      border-right-color: var(--fill-color);\n",
              "      border-bottom-color: var(--fill-color);\n",
              "    }\n",
              "    90% {\n",
              "      border-color: transparent;\n",
              "      border-bottom-color: var(--fill-color);\n",
              "    }\n",
              "  }\n",
              "</style>\n",
              "\n",
              "  <script>\n",
              "    async function quickchart(key) {\n",
              "      const quickchartButtonEl =\n",
              "        document.querySelector('#' + key + ' button');\n",
              "      quickchartButtonEl.disabled = true;  // To prevent multiple clicks.\n",
              "      quickchartButtonEl.classList.add('colab-df-spinner');\n",
              "      try {\n",
              "        const charts = await google.colab.kernel.invokeFunction(\n",
              "            'suggestCharts', [key], {});\n",
              "      } catch (error) {\n",
              "        console.error('Error during call to suggestCharts:', error);\n",
              "      }\n",
              "      quickchartButtonEl.classList.remove('colab-df-spinner');\n",
              "      quickchartButtonEl.classList.add('colab-df-quickchart-complete');\n",
              "    }\n",
              "    (() => {\n",
              "      let quickchartButtonEl =\n",
              "        document.querySelector('#df-e24ebd15-3cde-4b93-932a-854f12a73954 button');\n",
              "      quickchartButtonEl.style.display =\n",
              "        google.colab.kernel.accessAllowed ? 'block' : 'none';\n",
              "    })();\n",
              "  </script>\n",
              "</div>\n",
              "\n",
              "  <div id=\"id_1f433133-6be6-4fec-ab12-4b11a82c0807\">\n",
              "    <style>\n",
              "      .colab-df-generate {\n",
              "        background-color: #E8F0FE;\n",
              "        border: none;\n",
              "        border-radius: 50%;\n",
              "        cursor: pointer;\n",
              "        display: none;\n",
              "        fill: #1967D2;\n",
              "        height: 32px;\n",
              "        padding: 0 0 0 0;\n",
              "        width: 32px;\n",
              "      }\n",
              "\n",
              "      .colab-df-generate:hover {\n",
              "        background-color: #E2EBFA;\n",
              "        box-shadow: 0px 1px 2px rgba(60, 64, 67, 0.3), 0px 1px 3px 1px rgba(60, 64, 67, 0.15);\n",
              "        fill: #174EA6;\n",
              "      }\n",
              "\n",
              "      [theme=dark] .colab-df-generate {\n",
              "        background-color: #3B4455;\n",
              "        fill: #D2E3FC;\n",
              "      }\n",
              "\n",
              "      [theme=dark] .colab-df-generate:hover {\n",
              "        background-color: #434B5C;\n",
              "        box-shadow: 0px 1px 3px 1px rgba(0, 0, 0, 0.15);\n",
              "        filter: drop-shadow(0px 1px 2px rgba(0, 0, 0, 0.3));\n",
              "        fill: #FFFFFF;\n",
              "      }\n",
              "    </style>\n",
              "    <button class=\"colab-df-generate\" onclick=\"generateWithVariable('bt_df')\"\n",
              "            title=\"Generate code using this dataframe.\"\n",
              "            style=\"display:none;\">\n",
              "\n",
              "  <svg xmlns=\"http://www.w3.org/2000/svg\" height=\"24px\"viewBox=\"0 0 24 24\"\n",
              "       width=\"24px\">\n",
              "    <path d=\"M7,19H8.4L18.45,9,17,7.55,7,17.6ZM5,21V16.75L18.45,3.32a2,2,0,0,1,2.83,0l1.4,1.43a1.91,1.91,0,0,1,.58,1.4,1.91,1.91,0,0,1-.58,1.4L9.25,21ZM18.45,9,17,7.55Zm-12,3A5.31,5.31,0,0,0,4.9,8.1,5.31,5.31,0,0,0,1,6.5,5.31,5.31,0,0,0,4.9,4.9,5.31,5.31,0,0,0,6.5,1,5.31,5.31,0,0,0,8.1,4.9,5.31,5.31,0,0,0,12,6.5,5.46,5.46,0,0,0,6.5,12Z\"/>\n",
              "  </svg>\n",
              "    </button>\n",
              "    <script>\n",
              "      (() => {\n",
              "      const buttonEl =\n",
              "        document.querySelector('#id_1f433133-6be6-4fec-ab12-4b11a82c0807 button.colab-df-generate');\n",
              "      buttonEl.style.display =\n",
              "        google.colab.kernel.accessAllowed ? 'block' : 'none';\n",
              "\n",
              "      buttonEl.onclick = () => {\n",
              "        google.colab.notebook.generateWithVariable('bt_df');\n",
              "      }\n",
              "      })();\n",
              "    </script>\n",
              "  </div>\n",
              "\n",
              "    </div>\n",
              "  </div>\n"
            ],
            "application/vnd.google.colaboratory.intrinsic+json": {
              "type": "dataframe",
              "variable_name": "bt_df"
            }
          },
          "metadata": {},
          "execution_count": 14
        }
      ]
    },
    {
      "cell_type": "code",
      "source": [
        "bt_df.columns"
      ],
      "metadata": {
        "colab": {
          "base_uri": "https://localhost:8080/"
        },
        "id": "YoPfaor5aLFc",
        "outputId": "f1df83d6-466a-49d8-ce5b-a189d09dc45b"
      },
      "execution_count": null,
      "outputs": [
        {
          "output_type": "execute_result",
          "data": {
            "text/plain": [
              "Index(['match id', 'batsman', 'batsman_id', 'batsman_details',\n",
              "       'is_batsman_captain', 'is_batsman_keeper', 'inning', 'runs',\n",
              "       'balls_faced', 'over_faced_first', 'wicket kind', 'out_by_bowler',\n",
              "       'out_by_fielder', 'bowler_id', 'bowler_details', 'is_bowler_keeper',\n",
              "       'is_bowler_captain', 'strike_rate', 'Fours', 'Sixes', 'match_dt'],\n",
              "      dtype='object')"
            ]
          },
          "metadata": {},
          "execution_count": 6
        }
      ]
    },
    {
      "cell_type": "code",
      "source": [
        "train_bt = bt_df[bt_df['match id'].isin(train['match id'])]"
      ],
      "metadata": {
        "id": "Nf0Zmstwa7K-"
      },
      "execution_count": null,
      "outputs": []
    },
    {
      "cell_type": "code",
      "source": [
        "train_bt[train_bt['wicket kind'].isna()]"
      ],
      "metadata": {
        "colab": {
          "base_uri": "https://localhost:8080/",
          "height": 756
        },
        "id": "W6D0sow9FYtj",
        "outputId": "a35794e4-2708-4d1d-cc1f-f2ed46eae174"
      },
      "execution_count": null,
      "outputs": [
        {
          "output_type": "execute_result",
          "data": {
            "text/plain": [
              "       match id batsman  batsman_id  \\\n",
              "10031   9331181   VR An   2526390.0   \n",
              "10034   9331181    P Ca   3500958.0   \n",
              "10035   9331181    R Dn   2035102.0   \n",
              "10042   8797060   AU Rd   1711492.0   \n",
              "10043   8797060    S Md   4507208.0   \n",
              "...         ...     ...         ...   \n",
              "24469   9516695    M Jn   4874820.0   \n",
              "24473   9433633   RA Wy   2020332.0   \n",
              "24478   9433633   CP Wd   2173688.0   \n",
              "24481   9433633   BJ Ws   8048074.0   \n",
              "24482   9433633   BG Ch   6988596.0   \n",
              "\n",
              "                                 batsman_details  is_batsman_captain  \\\n",
              "10031         IND:Right-hand bat:Right-arm fast:                 0.0   \n",
              "10034        IND:Right-hand bat:Legbreak googly:                 0.0   \n",
              "10035  IND:Right-hand bat:Right-arm medium-fast:                 1.0   \n",
              "10042               ENG:Right-hand bat:Legbreak:                 0.0   \n",
              "10043  ENG:Right-hand bat:Right-arm fast-medium:                 0.0   \n",
              "...                                          ...                 ...   \n",
              "24469    SA:Right-hand bat:Left-arm medium-fast:                 0.0   \n",
              "24473         ENG:Left-hand bat:Left-arm medium:                 0.0   \n",
              "24478   ENG:Right-hand bat:Left-arm medium-fast:                 0.0   \n",
              "24481                   ENG:Right-hand bat:None:                 0.0   \n",
              "24482   ENG:Left-hand bat:Right-arm medium-fast:                 0.0   \n",
              "\n",
              "       is_batsman_keeper  inning  runs  balls_faced  over_faced_first  ...  \\\n",
              "10031                0.0       1     9            6              18.6  ...   \n",
              "10034                0.0       2    61           48               1.1  ...   \n",
              "10035                0.0       2     4            7              15.4  ...   \n",
              "10042                0.0       1     2            3              19.6  ...   \n",
              "10043                0.0       1     7            4              20.3  ...   \n",
              "...                  ...     ...   ...          ...               ...  ...   \n",
              "24469                0.0       2     3            2              19.6  ...   \n",
              "24473                0.0       1    41           25              12.5  ...   \n",
              "24478                0.0       1     1            1              20.4  ...   \n",
              "24481                0.0       2    43           22               2.3  ...   \n",
              "24482                0.0       2    29           15               5.2  ...   \n",
              "\n",
              "      out_by_bowler out_by_fielder bowler_id  bowler_details is_bowler_keeper  \\\n",
              "10031           NaN            NaN       NaN             NaN              NaN   \n",
              "10034           NaN            NaN       NaN             NaN              NaN   \n",
              "10035           NaN            NaN       NaN             NaN              NaN   \n",
              "10042           NaN            NaN       NaN             NaN              NaN   \n",
              "10043           NaN            NaN       NaN             NaN              NaN   \n",
              "...             ...            ...       ...             ...              ...   \n",
              "24469           NaN            NaN       NaN             NaN              NaN   \n",
              "24473           NaN            NaN       NaN             NaN              NaN   \n",
              "24478           NaN            NaN       NaN             NaN              NaN   \n",
              "24481           NaN            NaN       NaN             NaN              NaN   \n",
              "24482           NaN            NaN       NaN             NaN              NaN   \n",
              "\n",
              "       is_bowler_captain  strike_rate  Fours  Sixes    match_dt  \n",
              "10031                NaN       150.00    NaN    1.0  2022-10-20  \n",
              "10034                NaN       127.08    4.0    2.0  2022-10-20  \n",
              "10035                NaN        57.14    NaN    NaN  2022-10-20  \n",
              "10042                NaN        66.67    NaN    NaN  2022-01-23  \n",
              "10043                NaN       175.00    1.0    NaN  2022-01-23  \n",
              "...                  ...          ...    ...    ...         ...  \n",
              "24469                NaN       150.00    NaN    NaN  2023-05-07  \n",
              "24473                NaN       164.00    3.0    2.0  2023-06-20  \n",
              "24478                NaN       100.00    NaN    NaN  2023-06-20  \n",
              "24481                NaN       195.45    3.0    3.0  2023-06-20  \n",
              "24482                NaN       193.33    3.0    2.0  2023-06-20  \n",
              "\n",
              "[3139 rows x 21 columns]"
            ],
            "text/html": [
              "\n",
              "  <div id=\"df-2944699a-a1b4-4ad2-a33b-81fd24312cb0\" class=\"colab-df-container\">\n",
              "    <div>\n",
              "<style scoped>\n",
              "    .dataframe tbody tr th:only-of-type {\n",
              "        vertical-align: middle;\n",
              "    }\n",
              "\n",
              "    .dataframe tbody tr th {\n",
              "        vertical-align: top;\n",
              "    }\n",
              "\n",
              "    .dataframe thead th {\n",
              "        text-align: right;\n",
              "    }\n",
              "</style>\n",
              "<table border=\"1\" class=\"dataframe\">\n",
              "  <thead>\n",
              "    <tr style=\"text-align: right;\">\n",
              "      <th></th>\n",
              "      <th>match id</th>\n",
              "      <th>batsman</th>\n",
              "      <th>batsman_id</th>\n",
              "      <th>batsman_details</th>\n",
              "      <th>is_batsman_captain</th>\n",
              "      <th>is_batsman_keeper</th>\n",
              "      <th>inning</th>\n",
              "      <th>runs</th>\n",
              "      <th>balls_faced</th>\n",
              "      <th>over_faced_first</th>\n",
              "      <th>...</th>\n",
              "      <th>out_by_bowler</th>\n",
              "      <th>out_by_fielder</th>\n",
              "      <th>bowler_id</th>\n",
              "      <th>bowler_details</th>\n",
              "      <th>is_bowler_keeper</th>\n",
              "      <th>is_bowler_captain</th>\n",
              "      <th>strike_rate</th>\n",
              "      <th>Fours</th>\n",
              "      <th>Sixes</th>\n",
              "      <th>match_dt</th>\n",
              "    </tr>\n",
              "  </thead>\n",
              "  <tbody>\n",
              "    <tr>\n",
              "      <th>10031</th>\n",
              "      <td>9331181</td>\n",
              "      <td>VR An</td>\n",
              "      <td>2526390.0</td>\n",
              "      <td>IND:Right-hand bat:Right-arm fast:</td>\n",
              "      <td>0.0</td>\n",
              "      <td>0.0</td>\n",
              "      <td>1</td>\n",
              "      <td>9</td>\n",
              "      <td>6</td>\n",
              "      <td>18.6</td>\n",
              "      <td>...</td>\n",
              "      <td>NaN</td>\n",
              "      <td>NaN</td>\n",
              "      <td>NaN</td>\n",
              "      <td>NaN</td>\n",
              "      <td>NaN</td>\n",
              "      <td>NaN</td>\n",
              "      <td>150.00</td>\n",
              "      <td>NaN</td>\n",
              "      <td>1.0</td>\n",
              "      <td>2022-10-20</td>\n",
              "    </tr>\n",
              "    <tr>\n",
              "      <th>10034</th>\n",
              "      <td>9331181</td>\n",
              "      <td>P Ca</td>\n",
              "      <td>3500958.0</td>\n",
              "      <td>IND:Right-hand bat:Legbreak googly:</td>\n",
              "      <td>0.0</td>\n",
              "      <td>0.0</td>\n",
              "      <td>2</td>\n",
              "      <td>61</td>\n",
              "      <td>48</td>\n",
              "      <td>1.1</td>\n",
              "      <td>...</td>\n",
              "      <td>NaN</td>\n",
              "      <td>NaN</td>\n",
              "      <td>NaN</td>\n",
              "      <td>NaN</td>\n",
              "      <td>NaN</td>\n",
              "      <td>NaN</td>\n",
              "      <td>127.08</td>\n",
              "      <td>4.0</td>\n",
              "      <td>2.0</td>\n",
              "      <td>2022-10-20</td>\n",
              "    </tr>\n",
              "    <tr>\n",
              "      <th>10035</th>\n",
              "      <td>9331181</td>\n",
              "      <td>R Dn</td>\n",
              "      <td>2035102.0</td>\n",
              "      <td>IND:Right-hand bat:Right-arm medium-fast:</td>\n",
              "      <td>1.0</td>\n",
              "      <td>0.0</td>\n",
              "      <td>2</td>\n",
              "      <td>4</td>\n",
              "      <td>7</td>\n",
              "      <td>15.4</td>\n",
              "      <td>...</td>\n",
              "      <td>NaN</td>\n",
              "      <td>NaN</td>\n",
              "      <td>NaN</td>\n",
              "      <td>NaN</td>\n",
              "      <td>NaN</td>\n",
              "      <td>NaN</td>\n",
              "      <td>57.14</td>\n",
              "      <td>NaN</td>\n",
              "      <td>NaN</td>\n",
              "      <td>2022-10-20</td>\n",
              "    </tr>\n",
              "    <tr>\n",
              "      <th>10042</th>\n",
              "      <td>8797060</td>\n",
              "      <td>AU Rd</td>\n",
              "      <td>1711492.0</td>\n",
              "      <td>ENG:Right-hand bat:Legbreak:</td>\n",
              "      <td>0.0</td>\n",
              "      <td>0.0</td>\n",
              "      <td>1</td>\n",
              "      <td>2</td>\n",
              "      <td>3</td>\n",
              "      <td>19.6</td>\n",
              "      <td>...</td>\n",
              "      <td>NaN</td>\n",
              "      <td>NaN</td>\n",
              "      <td>NaN</td>\n",
              "      <td>NaN</td>\n",
              "      <td>NaN</td>\n",
              "      <td>NaN</td>\n",
              "      <td>66.67</td>\n",
              "      <td>NaN</td>\n",
              "      <td>NaN</td>\n",
              "      <td>2022-01-23</td>\n",
              "    </tr>\n",
              "    <tr>\n",
              "      <th>10043</th>\n",
              "      <td>8797060</td>\n",
              "      <td>S Md</td>\n",
              "      <td>4507208.0</td>\n",
              "      <td>ENG:Right-hand bat:Right-arm fast-medium:</td>\n",
              "      <td>0.0</td>\n",
              "      <td>0.0</td>\n",
              "      <td>1</td>\n",
              "      <td>7</td>\n",
              "      <td>4</td>\n",
              "      <td>20.3</td>\n",
              "      <td>...</td>\n",
              "      <td>NaN</td>\n",
              "      <td>NaN</td>\n",
              "      <td>NaN</td>\n",
              "      <td>NaN</td>\n",
              "      <td>NaN</td>\n",
              "      <td>NaN</td>\n",
              "      <td>175.00</td>\n",
              "      <td>1.0</td>\n",
              "      <td>NaN</td>\n",
              "      <td>2022-01-23</td>\n",
              "    </tr>\n",
              "    <tr>\n",
              "      <th>...</th>\n",
              "      <td>...</td>\n",
              "      <td>...</td>\n",
              "      <td>...</td>\n",
              "      <td>...</td>\n",
              "      <td>...</td>\n",
              "      <td>...</td>\n",
              "      <td>...</td>\n",
              "      <td>...</td>\n",
              "      <td>...</td>\n",
              "      <td>...</td>\n",
              "      <td>...</td>\n",
              "      <td>...</td>\n",
              "      <td>...</td>\n",
              "      <td>...</td>\n",
              "      <td>...</td>\n",
              "      <td>...</td>\n",
              "      <td>...</td>\n",
              "      <td>...</td>\n",
              "      <td>...</td>\n",
              "      <td>...</td>\n",
              "      <td>...</td>\n",
              "    </tr>\n",
              "    <tr>\n",
              "      <th>24469</th>\n",
              "      <td>9516695</td>\n",
              "      <td>M Jn</td>\n",
              "      <td>4874820.0</td>\n",
              "      <td>SA:Right-hand bat:Left-arm medium-fast:</td>\n",
              "      <td>0.0</td>\n",
              "      <td>0.0</td>\n",
              "      <td>2</td>\n",
              "      <td>3</td>\n",
              "      <td>2</td>\n",
              "      <td>19.6</td>\n",
              "      <td>...</td>\n",
              "      <td>NaN</td>\n",
              "      <td>NaN</td>\n",
              "      <td>NaN</td>\n",
              "      <td>NaN</td>\n",
              "      <td>NaN</td>\n",
              "      <td>NaN</td>\n",
              "      <td>150.00</td>\n",
              "      <td>NaN</td>\n",
              "      <td>NaN</td>\n",
              "      <td>2023-05-07</td>\n",
              "    </tr>\n",
              "    <tr>\n",
              "      <th>24473</th>\n",
              "      <td>9433633</td>\n",
              "      <td>RA Wy</td>\n",
              "      <td>2020332.0</td>\n",
              "      <td>ENG:Left-hand bat:Left-arm medium:</td>\n",
              "      <td>0.0</td>\n",
              "      <td>0.0</td>\n",
              "      <td>1</td>\n",
              "      <td>41</td>\n",
              "      <td>25</td>\n",
              "      <td>12.5</td>\n",
              "      <td>...</td>\n",
              "      <td>NaN</td>\n",
              "      <td>NaN</td>\n",
              "      <td>NaN</td>\n",
              "      <td>NaN</td>\n",
              "      <td>NaN</td>\n",
              "      <td>NaN</td>\n",
              "      <td>164.00</td>\n",
              "      <td>3.0</td>\n",
              "      <td>2.0</td>\n",
              "      <td>2023-06-20</td>\n",
              "    </tr>\n",
              "    <tr>\n",
              "      <th>24478</th>\n",
              "      <td>9433633</td>\n",
              "      <td>CP Wd</td>\n",
              "      <td>2173688.0</td>\n",
              "      <td>ENG:Right-hand bat:Left-arm medium-fast:</td>\n",
              "      <td>0.0</td>\n",
              "      <td>0.0</td>\n",
              "      <td>1</td>\n",
              "      <td>1</td>\n",
              "      <td>1</td>\n",
              "      <td>20.4</td>\n",
              "      <td>...</td>\n",
              "      <td>NaN</td>\n",
              "      <td>NaN</td>\n",
              "      <td>NaN</td>\n",
              "      <td>NaN</td>\n",
              "      <td>NaN</td>\n",
              "      <td>NaN</td>\n",
              "      <td>100.00</td>\n",
              "      <td>NaN</td>\n",
              "      <td>NaN</td>\n",
              "      <td>2023-06-20</td>\n",
              "    </tr>\n",
              "    <tr>\n",
              "      <th>24481</th>\n",
              "      <td>9433633</td>\n",
              "      <td>BJ Ws</td>\n",
              "      <td>8048074.0</td>\n",
              "      <td>ENG:Right-hand bat:None:</td>\n",
              "      <td>0.0</td>\n",
              "      <td>0.0</td>\n",
              "      <td>2</td>\n",
              "      <td>43</td>\n",
              "      <td>22</td>\n",
              "      <td>2.3</td>\n",
              "      <td>...</td>\n",
              "      <td>NaN</td>\n",
              "      <td>NaN</td>\n",
              "      <td>NaN</td>\n",
              "      <td>NaN</td>\n",
              "      <td>NaN</td>\n",
              "      <td>NaN</td>\n",
              "      <td>195.45</td>\n",
              "      <td>3.0</td>\n",
              "      <td>3.0</td>\n",
              "      <td>2023-06-20</td>\n",
              "    </tr>\n",
              "    <tr>\n",
              "      <th>24482</th>\n",
              "      <td>9433633</td>\n",
              "      <td>BG Ch</td>\n",
              "      <td>6988596.0</td>\n",
              "      <td>ENG:Left-hand bat:Right-arm medium-fast:</td>\n",
              "      <td>0.0</td>\n",
              "      <td>0.0</td>\n",
              "      <td>2</td>\n",
              "      <td>29</td>\n",
              "      <td>15</td>\n",
              "      <td>5.2</td>\n",
              "      <td>...</td>\n",
              "      <td>NaN</td>\n",
              "      <td>NaN</td>\n",
              "      <td>NaN</td>\n",
              "      <td>NaN</td>\n",
              "      <td>NaN</td>\n",
              "      <td>NaN</td>\n",
              "      <td>193.33</td>\n",
              "      <td>3.0</td>\n",
              "      <td>2.0</td>\n",
              "      <td>2023-06-20</td>\n",
              "    </tr>\n",
              "  </tbody>\n",
              "</table>\n",
              "<p>3139 rows × 21 columns</p>\n",
              "</div>\n",
              "    <div class=\"colab-df-buttons\">\n",
              "\n",
              "  <div class=\"colab-df-container\">\n",
              "    <button class=\"colab-df-convert\" onclick=\"convertToInteractive('df-2944699a-a1b4-4ad2-a33b-81fd24312cb0')\"\n",
              "            title=\"Convert this dataframe to an interactive table.\"\n",
              "            style=\"display:none;\">\n",
              "\n",
              "  <svg xmlns=\"http://www.w3.org/2000/svg\" height=\"24px\" viewBox=\"0 -960 960 960\">\n",
              "    <path d=\"M120-120v-720h720v720H120Zm60-500h600v-160H180v160Zm220 220h160v-160H400v160Zm0 220h160v-160H400v160ZM180-400h160v-160H180v160Zm440 0h160v-160H620v160ZM180-180h160v-160H180v160Zm440 0h160v-160H620v160Z\"/>\n",
              "  </svg>\n",
              "    </button>\n",
              "\n",
              "  <style>\n",
              "    .colab-df-container {\n",
              "      display:flex;\n",
              "      gap: 12px;\n",
              "    }\n",
              "\n",
              "    .colab-df-convert {\n",
              "      background-color: #E8F0FE;\n",
              "      border: none;\n",
              "      border-radius: 50%;\n",
              "      cursor: pointer;\n",
              "      display: none;\n",
              "      fill: #1967D2;\n",
              "      height: 32px;\n",
              "      padding: 0 0 0 0;\n",
              "      width: 32px;\n",
              "    }\n",
              "\n",
              "    .colab-df-convert:hover {\n",
              "      background-color: #E2EBFA;\n",
              "      box-shadow: 0px 1px 2px rgba(60, 64, 67, 0.3), 0px 1px 3px 1px rgba(60, 64, 67, 0.15);\n",
              "      fill: #174EA6;\n",
              "    }\n",
              "\n",
              "    .colab-df-buttons div {\n",
              "      margin-bottom: 4px;\n",
              "    }\n",
              "\n",
              "    [theme=dark] .colab-df-convert {\n",
              "      background-color: #3B4455;\n",
              "      fill: #D2E3FC;\n",
              "    }\n",
              "\n",
              "    [theme=dark] .colab-df-convert:hover {\n",
              "      background-color: #434B5C;\n",
              "      box-shadow: 0px 1px 3px 1px rgba(0, 0, 0, 0.15);\n",
              "      filter: drop-shadow(0px 1px 2px rgba(0, 0, 0, 0.3));\n",
              "      fill: #FFFFFF;\n",
              "    }\n",
              "  </style>\n",
              "\n",
              "    <script>\n",
              "      const buttonEl =\n",
              "        document.querySelector('#df-2944699a-a1b4-4ad2-a33b-81fd24312cb0 button.colab-df-convert');\n",
              "      buttonEl.style.display =\n",
              "        google.colab.kernel.accessAllowed ? 'block' : 'none';\n",
              "\n",
              "      async function convertToInteractive(key) {\n",
              "        const element = document.querySelector('#df-2944699a-a1b4-4ad2-a33b-81fd24312cb0');\n",
              "        const dataTable =\n",
              "          await google.colab.kernel.invokeFunction('convertToInteractive',\n",
              "                                                    [key], {});\n",
              "        if (!dataTable) return;\n",
              "\n",
              "        const docLinkHtml = 'Like what you see? Visit the ' +\n",
              "          '<a target=\"_blank\" href=https://colab.research.google.com/notebooks/data_table.ipynb>data table notebook</a>'\n",
              "          + ' to learn more about interactive tables.';\n",
              "        element.innerHTML = '';\n",
              "        dataTable['output_type'] = 'display_data';\n",
              "        await google.colab.output.renderOutput(dataTable, element);\n",
              "        const docLink = document.createElement('div');\n",
              "        docLink.innerHTML = docLinkHtml;\n",
              "        element.appendChild(docLink);\n",
              "      }\n",
              "    </script>\n",
              "  </div>\n",
              "\n",
              "\n",
              "<div id=\"df-e54216fe-0980-448f-8b0e-4ad2c494fc0f\">\n",
              "  <button class=\"colab-df-quickchart\" onclick=\"quickchart('df-e54216fe-0980-448f-8b0e-4ad2c494fc0f')\"\n",
              "            title=\"Suggest charts\"\n",
              "            style=\"display:none;\">\n",
              "\n",
              "<svg xmlns=\"http://www.w3.org/2000/svg\" height=\"24px\"viewBox=\"0 0 24 24\"\n",
              "     width=\"24px\">\n",
              "    <g>\n",
              "        <path d=\"M19 3H5c-1.1 0-2 .9-2 2v14c0 1.1.9 2 2 2h14c1.1 0 2-.9 2-2V5c0-1.1-.9-2-2-2zM9 17H7v-7h2v7zm4 0h-2V7h2v10zm4 0h-2v-4h2v4z\"/>\n",
              "    </g>\n",
              "</svg>\n",
              "  </button>\n",
              "\n",
              "<style>\n",
              "  .colab-df-quickchart {\n",
              "      --bg-color: #E8F0FE;\n",
              "      --fill-color: #1967D2;\n",
              "      --hover-bg-color: #E2EBFA;\n",
              "      --hover-fill-color: #174EA6;\n",
              "      --disabled-fill-color: #AAA;\n",
              "      --disabled-bg-color: #DDD;\n",
              "  }\n",
              "\n",
              "  [theme=dark] .colab-df-quickchart {\n",
              "      --bg-color: #3B4455;\n",
              "      --fill-color: #D2E3FC;\n",
              "      --hover-bg-color: #434B5C;\n",
              "      --hover-fill-color: #FFFFFF;\n",
              "      --disabled-bg-color: #3B4455;\n",
              "      --disabled-fill-color: #666;\n",
              "  }\n",
              "\n",
              "  .colab-df-quickchart {\n",
              "    background-color: var(--bg-color);\n",
              "    border: none;\n",
              "    border-radius: 50%;\n",
              "    cursor: pointer;\n",
              "    display: none;\n",
              "    fill: var(--fill-color);\n",
              "    height: 32px;\n",
              "    padding: 0;\n",
              "    width: 32px;\n",
              "  }\n",
              "\n",
              "  .colab-df-quickchart:hover {\n",
              "    background-color: var(--hover-bg-color);\n",
              "    box-shadow: 0 1px 2px rgba(60, 64, 67, 0.3), 0 1px 3px 1px rgba(60, 64, 67, 0.15);\n",
              "    fill: var(--button-hover-fill-color);\n",
              "  }\n",
              "\n",
              "  .colab-df-quickchart-complete:disabled,\n",
              "  .colab-df-quickchart-complete:disabled:hover {\n",
              "    background-color: var(--disabled-bg-color);\n",
              "    fill: var(--disabled-fill-color);\n",
              "    box-shadow: none;\n",
              "  }\n",
              "\n",
              "  .colab-df-spinner {\n",
              "    border: 2px solid var(--fill-color);\n",
              "    border-color: transparent;\n",
              "    border-bottom-color: var(--fill-color);\n",
              "    animation:\n",
              "      spin 1s steps(1) infinite;\n",
              "  }\n",
              "\n",
              "  @keyframes spin {\n",
              "    0% {\n",
              "      border-color: transparent;\n",
              "      border-bottom-color: var(--fill-color);\n",
              "      border-left-color: var(--fill-color);\n",
              "    }\n",
              "    20% {\n",
              "      border-color: transparent;\n",
              "      border-left-color: var(--fill-color);\n",
              "      border-top-color: var(--fill-color);\n",
              "    }\n",
              "    30% {\n",
              "      border-color: transparent;\n",
              "      border-left-color: var(--fill-color);\n",
              "      border-top-color: var(--fill-color);\n",
              "      border-right-color: var(--fill-color);\n",
              "    }\n",
              "    40% {\n",
              "      border-color: transparent;\n",
              "      border-right-color: var(--fill-color);\n",
              "      border-top-color: var(--fill-color);\n",
              "    }\n",
              "    60% {\n",
              "      border-color: transparent;\n",
              "      border-right-color: var(--fill-color);\n",
              "    }\n",
              "    80% {\n",
              "      border-color: transparent;\n",
              "      border-right-color: var(--fill-color);\n",
              "      border-bottom-color: var(--fill-color);\n",
              "    }\n",
              "    90% {\n",
              "      border-color: transparent;\n",
              "      border-bottom-color: var(--fill-color);\n",
              "    }\n",
              "  }\n",
              "</style>\n",
              "\n",
              "  <script>\n",
              "    async function quickchart(key) {\n",
              "      const quickchartButtonEl =\n",
              "        document.querySelector('#' + key + ' button');\n",
              "      quickchartButtonEl.disabled = true;  // To prevent multiple clicks.\n",
              "      quickchartButtonEl.classList.add('colab-df-spinner');\n",
              "      try {\n",
              "        const charts = await google.colab.kernel.invokeFunction(\n",
              "            'suggestCharts', [key], {});\n",
              "      } catch (error) {\n",
              "        console.error('Error during call to suggestCharts:', error);\n",
              "      }\n",
              "      quickchartButtonEl.classList.remove('colab-df-spinner');\n",
              "      quickchartButtonEl.classList.add('colab-df-quickchart-complete');\n",
              "    }\n",
              "    (() => {\n",
              "      let quickchartButtonEl =\n",
              "        document.querySelector('#df-e54216fe-0980-448f-8b0e-4ad2c494fc0f button');\n",
              "      quickchartButtonEl.style.display =\n",
              "        google.colab.kernel.accessAllowed ? 'block' : 'none';\n",
              "    })();\n",
              "  </script>\n",
              "</div>\n",
              "\n",
              "    </div>\n",
              "  </div>\n"
            ],
            "application/vnd.google.colaboratory.intrinsic+json": {
              "type": "dataframe"
            }
          },
          "metadata": {},
          "execution_count": 14
        }
      ]
    },
    {
      "cell_type": "code",
      "source": [
        "train_bt['wicket kind'].unique()"
      ],
      "metadata": {
        "colab": {
          "base_uri": "https://localhost:8080/"
        },
        "id": "zBCJMokpIjzP",
        "outputId": "ffd0227d-2402-437f-ef29-0ac4ccfe92c4"
      },
      "execution_count": null,
      "outputs": [
        {
          "output_type": "execute_result",
          "data": {
            "text/plain": [
              "array(['run out', 'caught', nan, 'bowled', 'caught and bowled', 'lbw',\n",
              "       'stumped', 'hit wicket', 'retired hurt', 'retired out',\n",
              "       'retired not out'], dtype=object)"
            ]
          },
          "metadata": {},
          "execution_count": 15
        }
      ]
    },
    {
      "cell_type": "code",
      "source": [
        "keepers = train_bt[train_bt['wicket kind']=='stumped']['out_by_fielder'].unique()"
      ],
      "metadata": {
        "id": "_ZalX64iJ4BQ"
      },
      "execution_count": null,
      "outputs": []
    },
    {
      "cell_type": "code",
      "source": [
        "train_bt[train_bt['wicket kind']=='retired out']"
      ],
      "metadata": {
        "colab": {
          "base_uri": "https://localhost:8080/",
          "height": 512
        },
        "id": "3MkeWbJkG1WM",
        "outputId": "7070c878-09ee-4b91-e9ce-9b46ab0add09"
      },
      "execution_count": null,
      "outputs": [
        {
          "output_type": "execute_result",
          "data": {
            "text/plain": [
              "       match id batsman  batsman_id  \\\n",
              "14170   9684800    N Jn   7341704.0   \n",
              "14826   9084886   CR Be   3200756.0   \n",
              "14833   9084886   SR Pl    130437.0   \n",
              "16628   9587038   SE Rd   6401800.0   \n",
              "18393   9128475    R An    184960.0   \n",
              "21878   9271681   KA Ba   6710850.0   \n",
              "\n",
              "                                  batsman_details  is_batsman_captain  \\\n",
              "14170                    IND:Right-hand bat:None:                 0.0   \n",
              "14826    WI:Right-hand bat:Right-arm fast-medium:                 1.0   \n",
              "14833  ENG:Right-hand bat:Slow left-arm orthodox:                 0.0   \n",
              "16628     WI:Left-hand bat:Right-arm fast-medium:                 1.0   \n",
              "18393      IND:Right-hand bat:Right-arm offbreak:                 0.0   \n",
              "21878                 SL:Right-hand bat:Legbreak:                 0.0   \n",
              "\n",
              "       is_batsman_keeper  inning  runs  balls_faced  over_faced_first  ...  \\\n",
              "14170                1.0       1    15           13              16.3  ...   \n",
              "14826                0.0       1    17           11               5.6  ...   \n",
              "14833                0.0       2     2            2               8.2  ...   \n",
              "16628                0.0       1    65           27              14.3  ...   \n",
              "18393                0.0       1    28           23              10.6  ...   \n",
              "21878                0.0       2    44           39               6.6  ...   \n",
              "\n",
              "      out_by_bowler out_by_fielder  bowler_id  \\\n",
              "14170         Ah Kn            NaN  4859490.0   \n",
              "14826         JT Bl            NaN  2904943.0   \n",
              "14833         CN Ms            NaN  2855138.0   \n",
              "16628         JO Hr            NaN  2740408.0   \n",
              "18393         Ah Kn            NaN  4859490.0   \n",
              "21878         Zn Kn            NaN  8907338.0   \n",
              "\n",
              "                                  bowler_details is_bowler_keeper  \\\n",
              "14170  IND:Right-hand bat:Right-arm fast-medium:              0.0   \n",
              "14826  ENG:Right-hand bat:Right-arm fast-medium:              0.0   \n",
              "14833       ENG:Right-hand bat:Right-arm medium:              0.0   \n",
              "16628   WI:Right-hand bat:Right-arm medium-fast:              0.0   \n",
              "18393  IND:Right-hand bat:Right-arm fast-medium:              0.0   \n",
              "21878         PAK:Right-hand bat:Right-arm fast:              0.0   \n",
              "\n",
              "       is_bowler_captain  strike_rate  Fours  Sixes    match_dt  \n",
              "14170                0.0       115.38    NaN    1.0  2023-10-25  \n",
              "14826                0.0       154.55    2.0    1.0  2022-06-05  \n",
              "14833                0.0       100.00    NaN    NaN  2022-06-05  \n",
              "16628                0.0       240.74    5.0    5.0  2023-09-03  \n",
              "18393                0.0       121.74    NaN    2.0  2022-04-10  \n",
              "21878                0.0       112.82    3.0    NaN  2022-12-10  \n",
              "\n",
              "[6 rows x 21 columns]"
            ],
            "text/html": [
              "\n",
              "  <div id=\"df-fd30702b-cb3c-46a7-a666-6d49c1c2d0f6\" class=\"colab-df-container\">\n",
              "    <div>\n",
              "<style scoped>\n",
              "    .dataframe tbody tr th:only-of-type {\n",
              "        vertical-align: middle;\n",
              "    }\n",
              "\n",
              "    .dataframe tbody tr th {\n",
              "        vertical-align: top;\n",
              "    }\n",
              "\n",
              "    .dataframe thead th {\n",
              "        text-align: right;\n",
              "    }\n",
              "</style>\n",
              "<table border=\"1\" class=\"dataframe\">\n",
              "  <thead>\n",
              "    <tr style=\"text-align: right;\">\n",
              "      <th></th>\n",
              "      <th>match id</th>\n",
              "      <th>batsman</th>\n",
              "      <th>batsman_id</th>\n",
              "      <th>batsman_details</th>\n",
              "      <th>is_batsman_captain</th>\n",
              "      <th>is_batsman_keeper</th>\n",
              "      <th>inning</th>\n",
              "      <th>runs</th>\n",
              "      <th>balls_faced</th>\n",
              "      <th>over_faced_first</th>\n",
              "      <th>...</th>\n",
              "      <th>out_by_bowler</th>\n",
              "      <th>out_by_fielder</th>\n",
              "      <th>bowler_id</th>\n",
              "      <th>bowler_details</th>\n",
              "      <th>is_bowler_keeper</th>\n",
              "      <th>is_bowler_captain</th>\n",
              "      <th>strike_rate</th>\n",
              "      <th>Fours</th>\n",
              "      <th>Sixes</th>\n",
              "      <th>match_dt</th>\n",
              "    </tr>\n",
              "  </thead>\n",
              "  <tbody>\n",
              "    <tr>\n",
              "      <th>14170</th>\n",
              "      <td>9684800</td>\n",
              "      <td>N Jn</td>\n",
              "      <td>7341704.0</td>\n",
              "      <td>IND:Right-hand bat:None:</td>\n",
              "      <td>0.0</td>\n",
              "      <td>1.0</td>\n",
              "      <td>1</td>\n",
              "      <td>15</td>\n",
              "      <td>13</td>\n",
              "      <td>16.3</td>\n",
              "      <td>...</td>\n",
              "      <td>Ah Kn</td>\n",
              "      <td>NaN</td>\n",
              "      <td>4859490.0</td>\n",
              "      <td>IND:Right-hand bat:Right-arm fast-medium:</td>\n",
              "      <td>0.0</td>\n",
              "      <td>0.0</td>\n",
              "      <td>115.38</td>\n",
              "      <td>NaN</td>\n",
              "      <td>1.0</td>\n",
              "      <td>2023-10-25</td>\n",
              "    </tr>\n",
              "    <tr>\n",
              "      <th>14826</th>\n",
              "      <td>9084886</td>\n",
              "      <td>CR Be</td>\n",
              "      <td>3200756.0</td>\n",
              "      <td>WI:Right-hand bat:Right-arm fast-medium:</td>\n",
              "      <td>1.0</td>\n",
              "      <td>0.0</td>\n",
              "      <td>1</td>\n",
              "      <td>17</td>\n",
              "      <td>11</td>\n",
              "      <td>5.6</td>\n",
              "      <td>...</td>\n",
              "      <td>JT Bl</td>\n",
              "      <td>NaN</td>\n",
              "      <td>2904943.0</td>\n",
              "      <td>ENG:Right-hand bat:Right-arm fast-medium:</td>\n",
              "      <td>0.0</td>\n",
              "      <td>0.0</td>\n",
              "      <td>154.55</td>\n",
              "      <td>2.0</td>\n",
              "      <td>1.0</td>\n",
              "      <td>2022-06-05</td>\n",
              "    </tr>\n",
              "    <tr>\n",
              "      <th>14833</th>\n",
              "      <td>9084886</td>\n",
              "      <td>SR Pl</td>\n",
              "      <td>130437.0</td>\n",
              "      <td>ENG:Right-hand bat:Slow left-arm orthodox:</td>\n",
              "      <td>0.0</td>\n",
              "      <td>0.0</td>\n",
              "      <td>2</td>\n",
              "      <td>2</td>\n",
              "      <td>2</td>\n",
              "      <td>8.2</td>\n",
              "      <td>...</td>\n",
              "      <td>CN Ms</td>\n",
              "      <td>NaN</td>\n",
              "      <td>2855138.0</td>\n",
              "      <td>ENG:Right-hand bat:Right-arm medium:</td>\n",
              "      <td>0.0</td>\n",
              "      <td>0.0</td>\n",
              "      <td>100.00</td>\n",
              "      <td>NaN</td>\n",
              "      <td>NaN</td>\n",
              "      <td>2022-06-05</td>\n",
              "    </tr>\n",
              "    <tr>\n",
              "      <th>16628</th>\n",
              "      <td>9587038</td>\n",
              "      <td>SE Rd</td>\n",
              "      <td>6401800.0</td>\n",
              "      <td>WI:Left-hand bat:Right-arm fast-medium:</td>\n",
              "      <td>1.0</td>\n",
              "      <td>0.0</td>\n",
              "      <td>1</td>\n",
              "      <td>65</td>\n",
              "      <td>27</td>\n",
              "      <td>14.3</td>\n",
              "      <td>...</td>\n",
              "      <td>JO Hr</td>\n",
              "      <td>NaN</td>\n",
              "      <td>2740408.0</td>\n",
              "      <td>WI:Right-hand bat:Right-arm medium-fast:</td>\n",
              "      <td>0.0</td>\n",
              "      <td>0.0</td>\n",
              "      <td>240.74</td>\n",
              "      <td>5.0</td>\n",
              "      <td>5.0</td>\n",
              "      <td>2023-09-03</td>\n",
              "    </tr>\n",
              "    <tr>\n",
              "      <th>18393</th>\n",
              "      <td>9128475</td>\n",
              "      <td>R An</td>\n",
              "      <td>184960.0</td>\n",
              "      <td>IND:Right-hand bat:Right-arm offbreak:</td>\n",
              "      <td>0.0</td>\n",
              "      <td>0.0</td>\n",
              "      <td>1</td>\n",
              "      <td>28</td>\n",
              "      <td>23</td>\n",
              "      <td>10.6</td>\n",
              "      <td>...</td>\n",
              "      <td>Ah Kn</td>\n",
              "      <td>NaN</td>\n",
              "      <td>4859490.0</td>\n",
              "      <td>IND:Right-hand bat:Right-arm fast-medium:</td>\n",
              "      <td>0.0</td>\n",
              "      <td>0.0</td>\n",
              "      <td>121.74</td>\n",
              "      <td>NaN</td>\n",
              "      <td>2.0</td>\n",
              "      <td>2022-04-10</td>\n",
              "    </tr>\n",
              "    <tr>\n",
              "      <th>21878</th>\n",
              "      <td>9271681</td>\n",
              "      <td>KA Ba</td>\n",
              "      <td>6710850.0</td>\n",
              "      <td>SL:Right-hand bat:Legbreak:</td>\n",
              "      <td>0.0</td>\n",
              "      <td>0.0</td>\n",
              "      <td>2</td>\n",
              "      <td>44</td>\n",
              "      <td>39</td>\n",
              "      <td>6.6</td>\n",
              "      <td>...</td>\n",
              "      <td>Zn Kn</td>\n",
              "      <td>NaN</td>\n",
              "      <td>8907338.0</td>\n",
              "      <td>PAK:Right-hand bat:Right-arm fast:</td>\n",
              "      <td>0.0</td>\n",
              "      <td>0.0</td>\n",
              "      <td>112.82</td>\n",
              "      <td>3.0</td>\n",
              "      <td>NaN</td>\n",
              "      <td>2022-12-10</td>\n",
              "    </tr>\n",
              "  </tbody>\n",
              "</table>\n",
              "<p>6 rows × 21 columns</p>\n",
              "</div>\n",
              "    <div class=\"colab-df-buttons\">\n",
              "\n",
              "  <div class=\"colab-df-container\">\n",
              "    <button class=\"colab-df-convert\" onclick=\"convertToInteractive('df-fd30702b-cb3c-46a7-a666-6d49c1c2d0f6')\"\n",
              "            title=\"Convert this dataframe to an interactive table.\"\n",
              "            style=\"display:none;\">\n",
              "\n",
              "  <svg xmlns=\"http://www.w3.org/2000/svg\" height=\"24px\" viewBox=\"0 -960 960 960\">\n",
              "    <path d=\"M120-120v-720h720v720H120Zm60-500h600v-160H180v160Zm220 220h160v-160H400v160Zm0 220h160v-160H400v160ZM180-400h160v-160H180v160Zm440 0h160v-160H620v160ZM180-180h160v-160H180v160Zm440 0h160v-160H620v160Z\"/>\n",
              "  </svg>\n",
              "    </button>\n",
              "\n",
              "  <style>\n",
              "    .colab-df-container {\n",
              "      display:flex;\n",
              "      gap: 12px;\n",
              "    }\n",
              "\n",
              "    .colab-df-convert {\n",
              "      background-color: #E8F0FE;\n",
              "      border: none;\n",
              "      border-radius: 50%;\n",
              "      cursor: pointer;\n",
              "      display: none;\n",
              "      fill: #1967D2;\n",
              "      height: 32px;\n",
              "      padding: 0 0 0 0;\n",
              "      width: 32px;\n",
              "    }\n",
              "\n",
              "    .colab-df-convert:hover {\n",
              "      background-color: #E2EBFA;\n",
              "      box-shadow: 0px 1px 2px rgba(60, 64, 67, 0.3), 0px 1px 3px 1px rgba(60, 64, 67, 0.15);\n",
              "      fill: #174EA6;\n",
              "    }\n",
              "\n",
              "    .colab-df-buttons div {\n",
              "      margin-bottom: 4px;\n",
              "    }\n",
              "\n",
              "    [theme=dark] .colab-df-convert {\n",
              "      background-color: #3B4455;\n",
              "      fill: #D2E3FC;\n",
              "    }\n",
              "\n",
              "    [theme=dark] .colab-df-convert:hover {\n",
              "      background-color: #434B5C;\n",
              "      box-shadow: 0px 1px 3px 1px rgba(0, 0, 0, 0.15);\n",
              "      filter: drop-shadow(0px 1px 2px rgba(0, 0, 0, 0.3));\n",
              "      fill: #FFFFFF;\n",
              "    }\n",
              "  </style>\n",
              "\n",
              "    <script>\n",
              "      const buttonEl =\n",
              "        document.querySelector('#df-fd30702b-cb3c-46a7-a666-6d49c1c2d0f6 button.colab-df-convert');\n",
              "      buttonEl.style.display =\n",
              "        google.colab.kernel.accessAllowed ? 'block' : 'none';\n",
              "\n",
              "      async function convertToInteractive(key) {\n",
              "        const element = document.querySelector('#df-fd30702b-cb3c-46a7-a666-6d49c1c2d0f6');\n",
              "        const dataTable =\n",
              "          await google.colab.kernel.invokeFunction('convertToInteractive',\n",
              "                                                    [key], {});\n",
              "        if (!dataTable) return;\n",
              "\n",
              "        const docLinkHtml = 'Like what you see? Visit the ' +\n",
              "          '<a target=\"_blank\" href=https://colab.research.google.com/notebooks/data_table.ipynb>data table notebook</a>'\n",
              "          + ' to learn more about interactive tables.';\n",
              "        element.innerHTML = '';\n",
              "        dataTable['output_type'] = 'display_data';\n",
              "        await google.colab.output.renderOutput(dataTable, element);\n",
              "        const docLink = document.createElement('div');\n",
              "        docLink.innerHTML = docLinkHtml;\n",
              "        element.appendChild(docLink);\n",
              "      }\n",
              "    </script>\n",
              "  </div>\n",
              "\n",
              "\n",
              "<div id=\"df-0b074c20-2b84-43a1-994b-be0b5df4b51e\">\n",
              "  <button class=\"colab-df-quickchart\" onclick=\"quickchart('df-0b074c20-2b84-43a1-994b-be0b5df4b51e')\"\n",
              "            title=\"Suggest charts\"\n",
              "            style=\"display:none;\">\n",
              "\n",
              "<svg xmlns=\"http://www.w3.org/2000/svg\" height=\"24px\"viewBox=\"0 0 24 24\"\n",
              "     width=\"24px\">\n",
              "    <g>\n",
              "        <path d=\"M19 3H5c-1.1 0-2 .9-2 2v14c0 1.1.9 2 2 2h14c1.1 0 2-.9 2-2V5c0-1.1-.9-2-2-2zM9 17H7v-7h2v7zm4 0h-2V7h2v10zm4 0h-2v-4h2v4z\"/>\n",
              "    </g>\n",
              "</svg>\n",
              "  </button>\n",
              "\n",
              "<style>\n",
              "  .colab-df-quickchart {\n",
              "      --bg-color: #E8F0FE;\n",
              "      --fill-color: #1967D2;\n",
              "      --hover-bg-color: #E2EBFA;\n",
              "      --hover-fill-color: #174EA6;\n",
              "      --disabled-fill-color: #AAA;\n",
              "      --disabled-bg-color: #DDD;\n",
              "  }\n",
              "\n",
              "  [theme=dark] .colab-df-quickchart {\n",
              "      --bg-color: #3B4455;\n",
              "      --fill-color: #D2E3FC;\n",
              "      --hover-bg-color: #434B5C;\n",
              "      --hover-fill-color: #FFFFFF;\n",
              "      --disabled-bg-color: #3B4455;\n",
              "      --disabled-fill-color: #666;\n",
              "  }\n",
              "\n",
              "  .colab-df-quickchart {\n",
              "    background-color: var(--bg-color);\n",
              "    border: none;\n",
              "    border-radius: 50%;\n",
              "    cursor: pointer;\n",
              "    display: none;\n",
              "    fill: var(--fill-color);\n",
              "    height: 32px;\n",
              "    padding: 0;\n",
              "    width: 32px;\n",
              "  }\n",
              "\n",
              "  .colab-df-quickchart:hover {\n",
              "    background-color: var(--hover-bg-color);\n",
              "    box-shadow: 0 1px 2px rgba(60, 64, 67, 0.3), 0 1px 3px 1px rgba(60, 64, 67, 0.15);\n",
              "    fill: var(--button-hover-fill-color);\n",
              "  }\n",
              "\n",
              "  .colab-df-quickchart-complete:disabled,\n",
              "  .colab-df-quickchart-complete:disabled:hover {\n",
              "    background-color: var(--disabled-bg-color);\n",
              "    fill: var(--disabled-fill-color);\n",
              "    box-shadow: none;\n",
              "  }\n",
              "\n",
              "  .colab-df-spinner {\n",
              "    border: 2px solid var(--fill-color);\n",
              "    border-color: transparent;\n",
              "    border-bottom-color: var(--fill-color);\n",
              "    animation:\n",
              "      spin 1s steps(1) infinite;\n",
              "  }\n",
              "\n",
              "  @keyframes spin {\n",
              "    0% {\n",
              "      border-color: transparent;\n",
              "      border-bottom-color: var(--fill-color);\n",
              "      border-left-color: var(--fill-color);\n",
              "    }\n",
              "    20% {\n",
              "      border-color: transparent;\n",
              "      border-left-color: var(--fill-color);\n",
              "      border-top-color: var(--fill-color);\n",
              "    }\n",
              "    30% {\n",
              "      border-color: transparent;\n",
              "      border-left-color: var(--fill-color);\n",
              "      border-top-color: var(--fill-color);\n",
              "      border-right-color: var(--fill-color);\n",
              "    }\n",
              "    40% {\n",
              "      border-color: transparent;\n",
              "      border-right-color: var(--fill-color);\n",
              "      border-top-color: var(--fill-color);\n",
              "    }\n",
              "    60% {\n",
              "      border-color: transparent;\n",
              "      border-right-color: var(--fill-color);\n",
              "    }\n",
              "    80% {\n",
              "      border-color: transparent;\n",
              "      border-right-color: var(--fill-color);\n",
              "      border-bottom-color: var(--fill-color);\n",
              "    }\n",
              "    90% {\n",
              "      border-color: transparent;\n",
              "      border-bottom-color: var(--fill-color);\n",
              "    }\n",
              "  }\n",
              "</style>\n",
              "\n",
              "  <script>\n",
              "    async function quickchart(key) {\n",
              "      const quickchartButtonEl =\n",
              "        document.querySelector('#' + key + ' button');\n",
              "      quickchartButtonEl.disabled = true;  // To prevent multiple clicks.\n",
              "      quickchartButtonEl.classList.add('colab-df-spinner');\n",
              "      try {\n",
              "        const charts = await google.colab.kernel.invokeFunction(\n",
              "            'suggestCharts', [key], {});\n",
              "      } catch (error) {\n",
              "        console.error('Error during call to suggestCharts:', error);\n",
              "      }\n",
              "      quickchartButtonEl.classList.remove('colab-df-spinner');\n",
              "      quickchartButtonEl.classList.add('colab-df-quickchart-complete');\n",
              "    }\n",
              "    (() => {\n",
              "      let quickchartButtonEl =\n",
              "        document.querySelector('#df-0b074c20-2b84-43a1-994b-be0b5df4b51e button');\n",
              "      quickchartButtonEl.style.display =\n",
              "        google.colab.kernel.accessAllowed ? 'block' : 'none';\n",
              "    })();\n",
              "  </script>\n",
              "</div>\n",
              "\n",
              "    </div>\n",
              "  </div>\n"
            ],
            "application/vnd.google.colaboratory.intrinsic+json": {
              "type": "dataframe"
            }
          },
          "metadata": {},
          "execution_count": 59
        }
      ]
    },
    {
      "cell_type": "code",
      "source": [
        "train_bt.batsman_id.nunique()"
      ],
      "metadata": {
        "colab": {
          "base_uri": "https://localhost:8080/"
        },
        "id": "1lzm1kyWOWzn",
        "outputId": "0c6d6587-8965-4070-ae55-a74ff1caa797"
      },
      "execution_count": null,
      "outputs": [
        {
          "output_type": "execute_result",
          "data": {
            "text/plain": [
              "1757"
            ]
          },
          "metadata": {},
          "execution_count": 20
        }
      ]
    },
    {
      "cell_type": "code",
      "source": [
        "train_bt.isna().sum()"
      ],
      "metadata": {
        "id": "JK79q_FJaxNy",
        "colab": {
          "base_uri": "https://localhost:8080/"
        },
        "outputId": "09178e99-9108-48d8-8fe7-ef94efa50ee8"
      },
      "execution_count": null,
      "outputs": [
        {
          "output_type": "execute_result",
          "data": {
            "text/plain": [
              "match id                 0\n",
              "batsman                  0\n",
              "batsman_id               0\n",
              "batsman_details          0\n",
              "is_batsman_captain       0\n",
              "is_batsman_keeper        0\n",
              "inning                   0\n",
              "runs                     0\n",
              "balls_faced              0\n",
              "over_faced_first         0\n",
              "wicket kind           3139\n",
              "out_by_bowler         3139\n",
              "out_by_fielder        6256\n",
              "bowler_id             3596\n",
              "bowler_details        3596\n",
              "is_bowler_keeper      3596\n",
              "is_bowler_captain     3596\n",
              "strike_rate              8\n",
              "Fours                 6118\n",
              "Sixes                 9079\n",
              "match_dt                 0\n",
              "dtype: int64"
            ]
          },
          "metadata": {},
          "execution_count": 34
        }
      ]
    },
    {
      "cell_type": "code",
      "source": [
        "train_bt.groupby(by='match id').runs.sum()"
      ],
      "metadata": {
        "colab": {
          "base_uri": "https://localhost:8080/"
        },
        "id": "vujdLBjyYjxs",
        "outputId": "cbea923b-9411-4075-b03f-16428097d6a5"
      },
      "execution_count": null,
      "outputs": [
        {
          "output_type": "execute_result",
          "data": {
            "text/plain": [
              "match id\n",
              "8797053    199\n",
              "8797060    321\n",
              "8797067    403\n",
              "8797074    332\n",
              "8844324    232\n",
              "          ... \n",
              "9866338    367\n",
              "9866345    323\n",
              "9866366    337\n",
              "9866373     92\n",
              "9887863    212\n",
              "Name: runs, Length: 948, dtype: int64"
            ]
          },
          "metadata": {},
          "execution_count": 31
        }
      ]
    },
    {
      "cell_type": "code",
      "source": [],
      "metadata": {
        "id": "hMh48KQ6YkIY"
      },
      "execution_count": null,
      "outputs": []
    },
    {
      "cell_type": "markdown",
      "source": [
        "## Bowlers-level dataset"
      ],
      "metadata": {
        "id": "wiootO-7Z6x0"
      }
    },
    {
      "cell_type": "code",
      "source": [],
      "metadata": {
        "id": "RnuCKi1tTyma"
      },
      "execution_count": null,
      "outputs": []
    },
    {
      "cell_type": "code",
      "source": [
        "bwl_df"
      ],
      "metadata": {
        "id": "-9NTrgVDT6eI",
        "outputId": "df6e538c-2a7f-404d-c76d-a60a5ee3712f",
        "colab": {
          "base_uri": "https://localhost:8080/",
          "height": 808
        },
        "collapsed": true
      },
      "execution_count": null,
      "outputs": [
        {
          "output_type": "execute_result",
          "data": {
            "text/plain": [
              "       match id    bowler  bowler_id  \\\n",
              "0       8638034     BV Ss  6718396.0   \n",
              "1       8638034     HK Bt  1585464.0   \n",
              "2       8638034     JS Nm  2486896.0   \n",
              "3       8638034  LV vn Bk  3083667.0   \n",
              "4       8638034     PF Yd  4950294.0   \n",
              "...         ...       ...        ...   \n",
              "18534   9433633     BC Hl  1482249.0   \n",
              "18535   9433633     CP Wd  2173688.0   \n",
              "18536   9433633     JA Tr  8833075.0   \n",
              "18537   9433633     LA Dn  1482998.0   \n",
              "18538   9433633     NT Es  5788418.0   \n",
              "\n",
              "                                   bowler_details  is_bowler_captain  \\\n",
              "0        NZ:Right-hand bat:Right-arm medium-fast:                0.0   \n",
              "1         NZ:Left-hand bat:Right-arm medium-fast:                0.0   \n",
              "2         NZ:Left-hand bat:Right-arm medium-fast:                0.0   \n",
              "3       NED:Right-hand bat:Right-arm medium-fast:                0.0   \n",
              "4              NZ:Right-hand bat:Legbreak googly:                0.0   \n",
              "...                                           ...                ...   \n",
              "18534        ENG:Right-hand bat:Right-arm medium:                0.0   \n",
              "18535    ENG:Right-hand bat:Left-arm medium-fast:                0.0   \n",
              "18536   ENG:Right-hand bat:Right-arm fast-medium:                0.0   \n",
              "18537  ENG:Right-hand bat:Slow left-arm orthodox:                0.0   \n",
              "18538   AUS:Right-hand bat:Right-arm fast-medium:                0.0   \n",
              "\n",
              "       is_bowler_keeper  inning  runs  wicket_count  balls_bowled  economy  \\\n",
              "0                   0.0       1    21             0            12    10.50   \n",
              "1                   0.0       1    34             1            24     8.50   \n",
              "2                   0.0       1    23             2            24     5.75   \n",
              "3                   0.0       1    31             1            24     7.75   \n",
              "4                   0.0       1    21             1            24     5.25   \n",
              "...                 ...     ...   ...           ...           ...      ...   \n",
              "18534               0.0       2    16             0             6    16.00   \n",
              "18535               0.0       2     7             0            12     3.50   \n",
              "18536               0.0       2    17             1            12     8.50   \n",
              "18537               0.0       2    29             1            12    14.50   \n",
              "18538               0.0       2    11             0             7     9.43   \n",
              "\n",
              "       maiden  dots  Fours  Sixes  wides  noballs    match_dt  \n",
              "0           0   3.0      1      1      3        1  2021-01-01  \n",
              "1           0   7.0      3      1      2        0  2021-01-01  \n",
              "2           0  12.0      1      1      0        0  2021-01-01  \n",
              "3           0   9.0      4      0      2        0  2021-01-01  \n",
              "4           0   8.0      0      0      1        0  2021-01-01  \n",
              "...       ...   ...    ...    ...    ...      ...         ...  \n",
              "18534       0   1.0      0      2      0        0  2023-06-20  \n",
              "18535       0   6.0      0      0      0        0  2023-06-20  \n",
              "18536       0   9.0      1      2      1        0  2023-06-20  \n",
              "18537       0   4.0      4      1      0        0  2023-06-20  \n",
              "18538       0   2.0      1      0      0        1  2023-06-20  \n",
              "\n",
              "[18539 rows x 18 columns]"
            ],
            "text/html": [
              "\n",
              "  <div id=\"df-a10869e4-97cf-4066-8a28-7e421b9d0861\" class=\"colab-df-container\">\n",
              "    <div>\n",
              "<style scoped>\n",
              "    .dataframe tbody tr th:only-of-type {\n",
              "        vertical-align: middle;\n",
              "    }\n",
              "\n",
              "    .dataframe tbody tr th {\n",
              "        vertical-align: top;\n",
              "    }\n",
              "\n",
              "    .dataframe thead th {\n",
              "        text-align: right;\n",
              "    }\n",
              "</style>\n",
              "<table border=\"1\" class=\"dataframe\">\n",
              "  <thead>\n",
              "    <tr style=\"text-align: right;\">\n",
              "      <th></th>\n",
              "      <th>match id</th>\n",
              "      <th>bowler</th>\n",
              "      <th>bowler_id</th>\n",
              "      <th>bowler_details</th>\n",
              "      <th>is_bowler_captain</th>\n",
              "      <th>is_bowler_keeper</th>\n",
              "      <th>inning</th>\n",
              "      <th>runs</th>\n",
              "      <th>wicket_count</th>\n",
              "      <th>balls_bowled</th>\n",
              "      <th>economy</th>\n",
              "      <th>maiden</th>\n",
              "      <th>dots</th>\n",
              "      <th>Fours</th>\n",
              "      <th>Sixes</th>\n",
              "      <th>wides</th>\n",
              "      <th>noballs</th>\n",
              "      <th>match_dt</th>\n",
              "    </tr>\n",
              "  </thead>\n",
              "  <tbody>\n",
              "    <tr>\n",
              "      <th>0</th>\n",
              "      <td>8638034</td>\n",
              "      <td>BV Ss</td>\n",
              "      <td>6718396.0</td>\n",
              "      <td>NZ:Right-hand bat:Right-arm medium-fast:</td>\n",
              "      <td>0.0</td>\n",
              "      <td>0.0</td>\n",
              "      <td>1</td>\n",
              "      <td>21</td>\n",
              "      <td>0</td>\n",
              "      <td>12</td>\n",
              "      <td>10.50</td>\n",
              "      <td>0</td>\n",
              "      <td>3.0</td>\n",
              "      <td>1</td>\n",
              "      <td>1</td>\n",
              "      <td>3</td>\n",
              "      <td>1</td>\n",
              "      <td>2021-01-01</td>\n",
              "    </tr>\n",
              "    <tr>\n",
              "      <th>1</th>\n",
              "      <td>8638034</td>\n",
              "      <td>HK Bt</td>\n",
              "      <td>1585464.0</td>\n",
              "      <td>NZ:Left-hand bat:Right-arm medium-fast:</td>\n",
              "      <td>0.0</td>\n",
              "      <td>0.0</td>\n",
              "      <td>1</td>\n",
              "      <td>34</td>\n",
              "      <td>1</td>\n",
              "      <td>24</td>\n",
              "      <td>8.50</td>\n",
              "      <td>0</td>\n",
              "      <td>7.0</td>\n",
              "      <td>3</td>\n",
              "      <td>1</td>\n",
              "      <td>2</td>\n",
              "      <td>0</td>\n",
              "      <td>2021-01-01</td>\n",
              "    </tr>\n",
              "    <tr>\n",
              "      <th>2</th>\n",
              "      <td>8638034</td>\n",
              "      <td>JS Nm</td>\n",
              "      <td>2486896.0</td>\n",
              "      <td>NZ:Left-hand bat:Right-arm medium-fast:</td>\n",
              "      <td>0.0</td>\n",
              "      <td>0.0</td>\n",
              "      <td>1</td>\n",
              "      <td>23</td>\n",
              "      <td>2</td>\n",
              "      <td>24</td>\n",
              "      <td>5.75</td>\n",
              "      <td>0</td>\n",
              "      <td>12.0</td>\n",
              "      <td>1</td>\n",
              "      <td>1</td>\n",
              "      <td>0</td>\n",
              "      <td>0</td>\n",
              "      <td>2021-01-01</td>\n",
              "    </tr>\n",
              "    <tr>\n",
              "      <th>3</th>\n",
              "      <td>8638034</td>\n",
              "      <td>LV vn Bk</td>\n",
              "      <td>3083667.0</td>\n",
              "      <td>NED:Right-hand bat:Right-arm medium-fast:</td>\n",
              "      <td>0.0</td>\n",
              "      <td>0.0</td>\n",
              "      <td>1</td>\n",
              "      <td>31</td>\n",
              "      <td>1</td>\n",
              "      <td>24</td>\n",
              "      <td>7.75</td>\n",
              "      <td>0</td>\n",
              "      <td>9.0</td>\n",
              "      <td>4</td>\n",
              "      <td>0</td>\n",
              "      <td>2</td>\n",
              "      <td>0</td>\n",
              "      <td>2021-01-01</td>\n",
              "    </tr>\n",
              "    <tr>\n",
              "      <th>4</th>\n",
              "      <td>8638034</td>\n",
              "      <td>PF Yd</td>\n",
              "      <td>4950294.0</td>\n",
              "      <td>NZ:Right-hand bat:Legbreak googly:</td>\n",
              "      <td>0.0</td>\n",
              "      <td>0.0</td>\n",
              "      <td>1</td>\n",
              "      <td>21</td>\n",
              "      <td>1</td>\n",
              "      <td>24</td>\n",
              "      <td>5.25</td>\n",
              "      <td>0</td>\n",
              "      <td>8.0</td>\n",
              "      <td>0</td>\n",
              "      <td>0</td>\n",
              "      <td>1</td>\n",
              "      <td>0</td>\n",
              "      <td>2021-01-01</td>\n",
              "    </tr>\n",
              "    <tr>\n",
              "      <th>...</th>\n",
              "      <td>...</td>\n",
              "      <td>...</td>\n",
              "      <td>...</td>\n",
              "      <td>...</td>\n",
              "      <td>...</td>\n",
              "      <td>...</td>\n",
              "      <td>...</td>\n",
              "      <td>...</td>\n",
              "      <td>...</td>\n",
              "      <td>...</td>\n",
              "      <td>...</td>\n",
              "      <td>...</td>\n",
              "      <td>...</td>\n",
              "      <td>...</td>\n",
              "      <td>...</td>\n",
              "      <td>...</td>\n",
              "      <td>...</td>\n",
              "      <td>...</td>\n",
              "    </tr>\n",
              "    <tr>\n",
              "      <th>18534</th>\n",
              "      <td>9433633</td>\n",
              "      <td>BC Hl</td>\n",
              "      <td>1482249.0</td>\n",
              "      <td>ENG:Right-hand bat:Right-arm medium:</td>\n",
              "      <td>0.0</td>\n",
              "      <td>0.0</td>\n",
              "      <td>2</td>\n",
              "      <td>16</td>\n",
              "      <td>0</td>\n",
              "      <td>6</td>\n",
              "      <td>16.00</td>\n",
              "      <td>0</td>\n",
              "      <td>1.0</td>\n",
              "      <td>0</td>\n",
              "      <td>2</td>\n",
              "      <td>0</td>\n",
              "      <td>0</td>\n",
              "      <td>2023-06-20</td>\n",
              "    </tr>\n",
              "    <tr>\n",
              "      <th>18535</th>\n",
              "      <td>9433633</td>\n",
              "      <td>CP Wd</td>\n",
              "      <td>2173688.0</td>\n",
              "      <td>ENG:Right-hand bat:Left-arm medium-fast:</td>\n",
              "      <td>0.0</td>\n",
              "      <td>0.0</td>\n",
              "      <td>2</td>\n",
              "      <td>7</td>\n",
              "      <td>0</td>\n",
              "      <td>12</td>\n",
              "      <td>3.50</td>\n",
              "      <td>0</td>\n",
              "      <td>6.0</td>\n",
              "      <td>0</td>\n",
              "      <td>0</td>\n",
              "      <td>0</td>\n",
              "      <td>0</td>\n",
              "      <td>2023-06-20</td>\n",
              "    </tr>\n",
              "    <tr>\n",
              "      <th>18536</th>\n",
              "      <td>9433633</td>\n",
              "      <td>JA Tr</td>\n",
              "      <td>8833075.0</td>\n",
              "      <td>ENG:Right-hand bat:Right-arm fast-medium:</td>\n",
              "      <td>0.0</td>\n",
              "      <td>0.0</td>\n",
              "      <td>2</td>\n",
              "      <td>17</td>\n",
              "      <td>1</td>\n",
              "      <td>12</td>\n",
              "      <td>8.50</td>\n",
              "      <td>0</td>\n",
              "      <td>9.0</td>\n",
              "      <td>1</td>\n",
              "      <td>2</td>\n",
              "      <td>1</td>\n",
              "      <td>0</td>\n",
              "      <td>2023-06-20</td>\n",
              "    </tr>\n",
              "    <tr>\n",
              "      <th>18537</th>\n",
              "      <td>9433633</td>\n",
              "      <td>LA Dn</td>\n",
              "      <td>1482998.0</td>\n",
              "      <td>ENG:Right-hand bat:Slow left-arm orthodox:</td>\n",
              "      <td>0.0</td>\n",
              "      <td>0.0</td>\n",
              "      <td>2</td>\n",
              "      <td>29</td>\n",
              "      <td>1</td>\n",
              "      <td>12</td>\n",
              "      <td>14.50</td>\n",
              "      <td>0</td>\n",
              "      <td>4.0</td>\n",
              "      <td>4</td>\n",
              "      <td>1</td>\n",
              "      <td>0</td>\n",
              "      <td>0</td>\n",
              "      <td>2023-06-20</td>\n",
              "    </tr>\n",
              "    <tr>\n",
              "      <th>18538</th>\n",
              "      <td>9433633</td>\n",
              "      <td>NT Es</td>\n",
              "      <td>5788418.0</td>\n",
              "      <td>AUS:Right-hand bat:Right-arm fast-medium:</td>\n",
              "      <td>0.0</td>\n",
              "      <td>0.0</td>\n",
              "      <td>2</td>\n",
              "      <td>11</td>\n",
              "      <td>0</td>\n",
              "      <td>7</td>\n",
              "      <td>9.43</td>\n",
              "      <td>0</td>\n",
              "      <td>2.0</td>\n",
              "      <td>1</td>\n",
              "      <td>0</td>\n",
              "      <td>0</td>\n",
              "      <td>1</td>\n",
              "      <td>2023-06-20</td>\n",
              "    </tr>\n",
              "  </tbody>\n",
              "</table>\n",
              "<p>18539 rows × 18 columns</p>\n",
              "</div>\n",
              "    <div class=\"colab-df-buttons\">\n",
              "\n",
              "  <div class=\"colab-df-container\">\n",
              "    <button class=\"colab-df-convert\" onclick=\"convertToInteractive('df-a10869e4-97cf-4066-8a28-7e421b9d0861')\"\n",
              "            title=\"Convert this dataframe to an interactive table.\"\n",
              "            style=\"display:none;\">\n",
              "\n",
              "  <svg xmlns=\"http://www.w3.org/2000/svg\" height=\"24px\" viewBox=\"0 -960 960 960\">\n",
              "    <path d=\"M120-120v-720h720v720H120Zm60-500h600v-160H180v160Zm220 220h160v-160H400v160Zm0 220h160v-160H400v160ZM180-400h160v-160H180v160Zm440 0h160v-160H620v160ZM180-180h160v-160H180v160Zm440 0h160v-160H620v160Z\"/>\n",
              "  </svg>\n",
              "    </button>\n",
              "\n",
              "  <style>\n",
              "    .colab-df-container {\n",
              "      display:flex;\n",
              "      gap: 12px;\n",
              "    }\n",
              "\n",
              "    .colab-df-convert {\n",
              "      background-color: #E8F0FE;\n",
              "      border: none;\n",
              "      border-radius: 50%;\n",
              "      cursor: pointer;\n",
              "      display: none;\n",
              "      fill: #1967D2;\n",
              "      height: 32px;\n",
              "      padding: 0 0 0 0;\n",
              "      width: 32px;\n",
              "    }\n",
              "\n",
              "    .colab-df-convert:hover {\n",
              "      background-color: #E2EBFA;\n",
              "      box-shadow: 0px 1px 2px rgba(60, 64, 67, 0.3), 0px 1px 3px 1px rgba(60, 64, 67, 0.15);\n",
              "      fill: #174EA6;\n",
              "    }\n",
              "\n",
              "    .colab-df-buttons div {\n",
              "      margin-bottom: 4px;\n",
              "    }\n",
              "\n",
              "    [theme=dark] .colab-df-convert {\n",
              "      background-color: #3B4455;\n",
              "      fill: #D2E3FC;\n",
              "    }\n",
              "\n",
              "    [theme=dark] .colab-df-convert:hover {\n",
              "      background-color: #434B5C;\n",
              "      box-shadow: 0px 1px 3px 1px rgba(0, 0, 0, 0.15);\n",
              "      filter: drop-shadow(0px 1px 2px rgba(0, 0, 0, 0.3));\n",
              "      fill: #FFFFFF;\n",
              "    }\n",
              "  </style>\n",
              "\n",
              "    <script>\n",
              "      const buttonEl =\n",
              "        document.querySelector('#df-a10869e4-97cf-4066-8a28-7e421b9d0861 button.colab-df-convert');\n",
              "      buttonEl.style.display =\n",
              "        google.colab.kernel.accessAllowed ? 'block' : 'none';\n",
              "\n",
              "      async function convertToInteractive(key) {\n",
              "        const element = document.querySelector('#df-a10869e4-97cf-4066-8a28-7e421b9d0861');\n",
              "        const dataTable =\n",
              "          await google.colab.kernel.invokeFunction('convertToInteractive',\n",
              "                                                    [key], {});\n",
              "        if (!dataTable) return;\n",
              "\n",
              "        const docLinkHtml = 'Like what you see? Visit the ' +\n",
              "          '<a target=\"_blank\" href=https://colab.research.google.com/notebooks/data_table.ipynb>data table notebook</a>'\n",
              "          + ' to learn more about interactive tables.';\n",
              "        element.innerHTML = '';\n",
              "        dataTable['output_type'] = 'display_data';\n",
              "        await google.colab.output.renderOutput(dataTable, element);\n",
              "        const docLink = document.createElement('div');\n",
              "        docLink.innerHTML = docLinkHtml;\n",
              "        element.appendChild(docLink);\n",
              "      }\n",
              "    </script>\n",
              "  </div>\n",
              "\n",
              "\n",
              "<div id=\"df-4c1d04e5-658e-4f2b-9505-c3afe857b8db\">\n",
              "  <button class=\"colab-df-quickchart\" onclick=\"quickchart('df-4c1d04e5-658e-4f2b-9505-c3afe857b8db')\"\n",
              "            title=\"Suggest charts\"\n",
              "            style=\"display:none;\">\n",
              "\n",
              "<svg xmlns=\"http://www.w3.org/2000/svg\" height=\"24px\"viewBox=\"0 0 24 24\"\n",
              "     width=\"24px\">\n",
              "    <g>\n",
              "        <path d=\"M19 3H5c-1.1 0-2 .9-2 2v14c0 1.1.9 2 2 2h14c1.1 0 2-.9 2-2V5c0-1.1-.9-2-2-2zM9 17H7v-7h2v7zm4 0h-2V7h2v10zm4 0h-2v-4h2v4z\"/>\n",
              "    </g>\n",
              "</svg>\n",
              "  </button>\n",
              "\n",
              "<style>\n",
              "  .colab-df-quickchart {\n",
              "      --bg-color: #E8F0FE;\n",
              "      --fill-color: #1967D2;\n",
              "      --hover-bg-color: #E2EBFA;\n",
              "      --hover-fill-color: #174EA6;\n",
              "      --disabled-fill-color: #AAA;\n",
              "      --disabled-bg-color: #DDD;\n",
              "  }\n",
              "\n",
              "  [theme=dark] .colab-df-quickchart {\n",
              "      --bg-color: #3B4455;\n",
              "      --fill-color: #D2E3FC;\n",
              "      --hover-bg-color: #434B5C;\n",
              "      --hover-fill-color: #FFFFFF;\n",
              "      --disabled-bg-color: #3B4455;\n",
              "      --disabled-fill-color: #666;\n",
              "  }\n",
              "\n",
              "  .colab-df-quickchart {\n",
              "    background-color: var(--bg-color);\n",
              "    border: none;\n",
              "    border-radius: 50%;\n",
              "    cursor: pointer;\n",
              "    display: none;\n",
              "    fill: var(--fill-color);\n",
              "    height: 32px;\n",
              "    padding: 0;\n",
              "    width: 32px;\n",
              "  }\n",
              "\n",
              "  .colab-df-quickchart:hover {\n",
              "    background-color: var(--hover-bg-color);\n",
              "    box-shadow: 0 1px 2px rgba(60, 64, 67, 0.3), 0 1px 3px 1px rgba(60, 64, 67, 0.15);\n",
              "    fill: var(--button-hover-fill-color);\n",
              "  }\n",
              "\n",
              "  .colab-df-quickchart-complete:disabled,\n",
              "  .colab-df-quickchart-complete:disabled:hover {\n",
              "    background-color: var(--disabled-bg-color);\n",
              "    fill: var(--disabled-fill-color);\n",
              "    box-shadow: none;\n",
              "  }\n",
              "\n",
              "  .colab-df-spinner {\n",
              "    border: 2px solid var(--fill-color);\n",
              "    border-color: transparent;\n",
              "    border-bottom-color: var(--fill-color);\n",
              "    animation:\n",
              "      spin 1s steps(1) infinite;\n",
              "  }\n",
              "\n",
              "  @keyframes spin {\n",
              "    0% {\n",
              "      border-color: transparent;\n",
              "      border-bottom-color: var(--fill-color);\n",
              "      border-left-color: var(--fill-color);\n",
              "    }\n",
              "    20% {\n",
              "      border-color: transparent;\n",
              "      border-left-color: var(--fill-color);\n",
              "      border-top-color: var(--fill-color);\n",
              "    }\n",
              "    30% {\n",
              "      border-color: transparent;\n",
              "      border-left-color: var(--fill-color);\n",
              "      border-top-color: var(--fill-color);\n",
              "      border-right-color: var(--fill-color);\n",
              "    }\n",
              "    40% {\n",
              "      border-color: transparent;\n",
              "      border-right-color: var(--fill-color);\n",
              "      border-top-color: var(--fill-color);\n",
              "    }\n",
              "    60% {\n",
              "      border-color: transparent;\n",
              "      border-right-color: var(--fill-color);\n",
              "    }\n",
              "    80% {\n",
              "      border-color: transparent;\n",
              "      border-right-color: var(--fill-color);\n",
              "      border-bottom-color: var(--fill-color);\n",
              "    }\n",
              "    90% {\n",
              "      border-color: transparent;\n",
              "      border-bottom-color: var(--fill-color);\n",
              "    }\n",
              "  }\n",
              "</style>\n",
              "\n",
              "  <script>\n",
              "    async function quickchart(key) {\n",
              "      const quickchartButtonEl =\n",
              "        document.querySelector('#' + key + ' button');\n",
              "      quickchartButtonEl.disabled = true;  // To prevent multiple clicks.\n",
              "      quickchartButtonEl.classList.add('colab-df-spinner');\n",
              "      try {\n",
              "        const charts = await google.colab.kernel.invokeFunction(\n",
              "            'suggestCharts', [key], {});\n",
              "      } catch (error) {\n",
              "        console.error('Error during call to suggestCharts:', error);\n",
              "      }\n",
              "      quickchartButtonEl.classList.remove('colab-df-spinner');\n",
              "      quickchartButtonEl.classList.add('colab-df-quickchart-complete');\n",
              "    }\n",
              "    (() => {\n",
              "      let quickchartButtonEl =\n",
              "        document.querySelector('#df-4c1d04e5-658e-4f2b-9505-c3afe857b8db button');\n",
              "      quickchartButtonEl.style.display =\n",
              "        google.colab.kernel.accessAllowed ? 'block' : 'none';\n",
              "    })();\n",
              "  </script>\n",
              "</div>\n",
              "\n",
              "  <div id=\"id_e424d7ad-4c31-4ca2-aa53-6576607f9444\">\n",
              "    <style>\n",
              "      .colab-df-generate {\n",
              "        background-color: #E8F0FE;\n",
              "        border: none;\n",
              "        border-radius: 50%;\n",
              "        cursor: pointer;\n",
              "        display: none;\n",
              "        fill: #1967D2;\n",
              "        height: 32px;\n",
              "        padding: 0 0 0 0;\n",
              "        width: 32px;\n",
              "      }\n",
              "\n",
              "      .colab-df-generate:hover {\n",
              "        background-color: #E2EBFA;\n",
              "        box-shadow: 0px 1px 2px rgba(60, 64, 67, 0.3), 0px 1px 3px 1px rgba(60, 64, 67, 0.15);\n",
              "        fill: #174EA6;\n",
              "      }\n",
              "\n",
              "      [theme=dark] .colab-df-generate {\n",
              "        background-color: #3B4455;\n",
              "        fill: #D2E3FC;\n",
              "      }\n",
              "\n",
              "      [theme=dark] .colab-df-generate:hover {\n",
              "        background-color: #434B5C;\n",
              "        box-shadow: 0px 1px 3px 1px rgba(0, 0, 0, 0.15);\n",
              "        filter: drop-shadow(0px 1px 2px rgba(0, 0, 0, 0.3));\n",
              "        fill: #FFFFFF;\n",
              "      }\n",
              "    </style>\n",
              "    <button class=\"colab-df-generate\" onclick=\"generateWithVariable('bwl_df')\"\n",
              "            title=\"Generate code using this dataframe.\"\n",
              "            style=\"display:none;\">\n",
              "\n",
              "  <svg xmlns=\"http://www.w3.org/2000/svg\" height=\"24px\"viewBox=\"0 0 24 24\"\n",
              "       width=\"24px\">\n",
              "    <path d=\"M7,19H8.4L18.45,9,17,7.55,7,17.6ZM5,21V16.75L18.45,3.32a2,2,0,0,1,2.83,0l1.4,1.43a1.91,1.91,0,0,1,.58,1.4,1.91,1.91,0,0,1-.58,1.4L9.25,21ZM18.45,9,17,7.55Zm-12,3A5.31,5.31,0,0,0,4.9,8.1,5.31,5.31,0,0,0,1,6.5,5.31,5.31,0,0,0,4.9,4.9,5.31,5.31,0,0,0,6.5,1,5.31,5.31,0,0,0,8.1,4.9,5.31,5.31,0,0,0,12,6.5,5.46,5.46,0,0,0,6.5,12Z\"/>\n",
              "  </svg>\n",
              "    </button>\n",
              "    <script>\n",
              "      (() => {\n",
              "      const buttonEl =\n",
              "        document.querySelector('#id_e424d7ad-4c31-4ca2-aa53-6576607f9444 button.colab-df-generate');\n",
              "      buttonEl.style.display =\n",
              "        google.colab.kernel.accessAllowed ? 'block' : 'none';\n",
              "\n",
              "      buttonEl.onclick = () => {\n",
              "        google.colab.notebook.generateWithVariable('bwl_df');\n",
              "      }\n",
              "      })();\n",
              "    </script>\n",
              "  </div>\n",
              "\n",
              "    </div>\n",
              "  </div>\n"
            ],
            "application/vnd.google.colaboratory.intrinsic+json": {
              "type": "dataframe",
              "variable_name": "bwl_df",
              "summary": "{\n  \"name\": \"bwl_df\",\n  \"rows\": 18539,\n  \"fields\": [\n    {\n      \"column\": \"match id\",\n      \"properties\": {\n        \"dtype\": \"number\",\n        \"std\": 320157,\n        \"min\": 8587795,\n        \"max\": 9887863,\n        \"num_unique_values\": 1689,\n        \"samples\": [\n          9128664,\n          9433318,\n          9592470\n        ],\n        \"semantic_type\": \"\",\n        \"description\": \"\"\n      }\n    },\n    {\n      \"column\": \"bowler\",\n      \"properties\": {\n        \"dtype\": \"category\",\n        \"num_unique_values\": 1481,\n        \"samples\": [\n          \"Ap Sh\",\n          \"MD Ga\",\n          \"F Do Ca\"\n        ],\n        \"semantic_type\": \"\",\n        \"description\": \"\"\n      }\n    },\n    {\n      \"column\": \"bowler_id\",\n      \"properties\": {\n        \"dtype\": \"number\",\n        \"std\": 2444408.623488911,\n        \"min\": 34061.0,\n        \"max\": 9888584.0,\n        \"num_unique_values\": 1541,\n        \"samples\": [\n          7636075.0,\n          8333989.0,\n          8487380.0\n        ],\n        \"semantic_type\": \"\",\n        \"description\": \"\"\n      }\n    },\n    {\n      \"column\": \"bowler_details\",\n      \"properties\": {\n        \"dtype\": \"category\",\n        \"num_unique_values\": 412,\n        \"samples\": [\n          \"CZK-R:Right-hand bat:Right-arm medium-fast:\",\n          \"IND:Left-hand bat:Left-arm medium-fast:\",\n          \"SL:Left-hand bat:Right-arm fast-medium:\"\n        ],\n        \"semantic_type\": \"\",\n        \"description\": \"\"\n      }\n    },\n    {\n      \"column\": \"is_bowler_captain\",\n      \"properties\": {\n        \"dtype\": \"number\",\n        \"std\": 0.2444232992245472,\n        \"min\": 0.0,\n        \"max\": 1.0,\n        \"num_unique_values\": 2,\n        \"samples\": [\n          1.0,\n          0.0\n        ],\n        \"semantic_type\": \"\",\n        \"description\": \"\"\n      }\n    },\n    {\n      \"column\": \"is_bowler_keeper\",\n      \"properties\": {\n        \"dtype\": \"number\",\n        \"std\": 0.007344408892604507,\n        \"min\": 0.0,\n        \"max\": 1.0,\n        \"num_unique_values\": 2,\n        \"samples\": [\n          1.0,\n          0.0\n        ],\n        \"semantic_type\": \"\",\n        \"description\": \"\"\n      }\n    },\n    {\n      \"column\": \"inning\",\n      \"properties\": {\n        \"dtype\": \"number\",\n        \"std\": 0,\n        \"min\": 1,\n        \"max\": 2,\n        \"num_unique_values\": 2,\n        \"samples\": [\n          2,\n          1\n        ],\n        \"semantic_type\": \"\",\n        \"description\": \"\"\n      }\n    },\n    {\n      \"column\": \"runs\",\n      \"properties\": {\n        \"dtype\": \"number\",\n        \"std\": 10,\n        \"min\": 0,\n        \"max\": 77,\n        \"num_unique_values\": 74,\n        \"samples\": [\n          16,\n          64\n        ],\n        \"semantic_type\": \"\",\n        \"description\": \"\"\n      }\n    },\n    {\n      \"column\": \"wicket_count\",\n      \"properties\": {\n        \"dtype\": \"number\",\n        \"std\": 1,\n        \"min\": 0,\n        \"max\": 6,\n        \"num_unique_values\": 7,\n        \"samples\": [\n          0,\n          1\n        ],\n        \"semantic_type\": \"\",\n        \"description\": \"\"\n      }\n    },\n    {\n      \"column\": \"balls_bowled\",\n      \"properties\": {\n        \"dtype\": \"number\",\n        \"std\": 6,\n        \"min\": 1,\n        \"max\": 25,\n        \"num_unique_values\": 25,\n        \"samples\": [\n          10,\n          8\n        ],\n        \"semantic_type\": \"\",\n        \"description\": \"\"\n      }\n    },\n    {\n      \"column\": \"economy\",\n      \"properties\": {\n        \"dtype\": \"number\",\n        \"std\": 3.260218356254264,\n        \"min\": 0.0,\n        \"max\": 36.0,\n        \"num_unique_values\": 463,\n        \"samples\": [\n          14.31,\n          8.75\n        ],\n        \"semantic_type\": \"\",\n        \"description\": \"\"\n      }\n    },\n    {\n      \"column\": \"maiden\",\n      \"properties\": {\n        \"dtype\": \"number\",\n        \"std\": 0,\n        \"min\": 0,\n        \"max\": 3,\n        \"num_unique_values\": 4,\n        \"samples\": [\n          2,\n          3\n        ],\n        \"semantic_type\": \"\",\n        \"description\": \"\"\n      }\n    },\n    {\n      \"column\": \"dots\",\n      \"properties\": {\n        \"dtype\": \"number\",\n        \"std\": 3.8403110459799,\n        \"min\": 0.0,\n        \"max\": 24.0,\n        \"num_unique_values\": 24,\n        \"samples\": [\n          6.0,\n          14.0\n        ],\n        \"semantic_type\": \"\",\n        \"description\": \"\"\n      }\n    },\n    {\n      \"column\": \"Fours\",\n      \"properties\": {\n        \"dtype\": \"number\",\n        \"std\": 1,\n        \"min\": 0,\n        \"max\": 11,\n        \"num_unique_values\": 12,\n        \"samples\": [\n          11,\n          10\n        ],\n        \"semantic_type\": \"\",\n        \"description\": \"\"\n      }\n    },\n    {\n      \"column\": \"Sixes\",\n      \"properties\": {\n        \"dtype\": \"number\",\n        \"std\": 1,\n        \"min\": 0,\n        \"max\": 9,\n        \"num_unique_values\": 10,\n        \"samples\": [\n          7,\n          0\n        ],\n        \"semantic_type\": \"\",\n        \"description\": \"\"\n      }\n    },\n    {\n      \"column\": \"wides\",\n      \"properties\": {\n        \"dtype\": \"number\",\n        \"std\": 0,\n        \"min\": 0,\n        \"max\": 8,\n        \"num_unique_values\": 9,\n        \"samples\": [\n          7,\n          2\n        ],\n        \"semantic_type\": \"\",\n        \"description\": \"\"\n      }\n    },\n    {\n      \"column\": \"noballs\",\n      \"properties\": {\n        \"dtype\": \"number\",\n        \"std\": 0,\n        \"min\": 0,\n        \"max\": 5,\n        \"num_unique_values\": 6,\n        \"samples\": [\n          1,\n          0\n        ],\n        \"semantic_type\": \"\",\n        \"description\": \"\"\n      }\n    },\n    {\n      \"column\": \"match_dt\",\n      \"properties\": {\n        \"dtype\": \"object\",\n        \"num_unique_values\": 741,\n        \"samples\": [\n          \"2021-07-22\",\n          \"2021-10-18\"\n        ],\n        \"semantic_type\": \"\",\n        \"description\": \"\"\n      }\n    }\n  ]\n}"
            }
          },
          "metadata": {},
          "execution_count": 8
        }
      ]
    },
    {
      "cell_type": "code",
      "source": [
        "bwl_df['bowler_details'].unique()"
      ],
      "metadata": {
        "colab": {
          "base_uri": "https://localhost:8080/"
        },
        "id": "UxGu3kk6ZWlt",
        "outputId": "b8e3359e-1f53-4474-e2bc-f73e48d88dff"
      },
      "execution_count": null,
      "outputs": [
        {
          "output_type": "execute_result",
          "data": {
            "text/plain": [
              "array(['NZ:Right-hand bat:Right-arm medium-fast:',\n",
              "       'NZ:Left-hand bat:Right-arm medium-fast:',\n",
              "       'NED:Right-hand bat:Right-arm medium-fast:',\n",
              "       'NZ:Right-hand bat:Legbreak googly:',\n",
              "       'NZ:Left-hand bat:Slow left-arm orthodox:',\n",
              "       'NZ:Right-hand bat:Right-arm medium:',\n",
              "       'NZ:Right-hand bat:Right-arm offbreak:',\n",
              "       'NZ:Right-hand bat:Right-arm fast-medium:',\n",
              "       'AUS:Right-hand bat:Right-arm fast-medium:',\n",
              "       'AUS:Right-hand bat:Right-arm offbreak:',\n",
              "       'AUS:Right-hand bat:Right-arm medium-fast:',\n",
              "       'AUS:Right-hand bat:Left-arm fast-medium:',\n",
              "       'AUS:Right-hand bat:Legbreak:',\n",
              "       'PAK:Left-hand bat:Slow left-arm orthodox:',\n",
              "       'AUS:Left-hand bat:Right-arm fast-medium:',\n",
              "       'AFG:Right-hand bat:Right-arm offbreak:',\n",
              "       'AUS:Right-hand bat:Legbreak googly:',\n",
              "       'ENG:Right-hand bat:Right-arm medium-fast:',\n",
              "       'AUS:Left-hand bat:Slow left-arm orthodox:',\n",
              "       'ITA:Right-hand bat:Right-arm offbreak:',\n",
              "       'AUS:Left-hand bat:Left-arm fast-medium:',\n",
              "       'WI:Right-hand bat:Right-arm fast-medium:',\n",
              "       'AUS:Right-hand bat:Slow left-arm orthodox:',\n",
              "       'NZ:Right-hand bat:Slow left-arm orthodox:',\n",
              "       'NZ:Left-hand bat:Left-arm fast-medium:',\n",
              "       'NZ:Right-hand bat:Left-arm wrist-spin:',\n",
              "       'AUS:Left-hand bat:Right-arm fast:',\n",
              "       'AUS:Right-hand bat:Right-arm fast:',\n",
              "       'AUS:Right-hand bat:Left-arm medium-fast:',\n",
              "       'AFG:Left-hand bat:Left-arm wrist-spin:',\n",
              "       'AUS:Left-hand bat:Left-arm wrist-spin:',\n",
              "       'SA:Right-hand bat:Right-arm offbreak:',\n",
              "       'NEP:Right-hand bat:Legbreak googly:',\n",
              "       'NZ:Left-hand bat:Left-arm medium-fast:',\n",
              "       'NZ:Right-hand bat:Legbreak:',\n",
              "       'NZ:Right-hand bat:Left-arm fast-medium:',\n",
              "       'ENG:Right-hand bat:Right-arm fast-medium:',\n",
              "       'ENG:Right-hand bat:Slow left-arm orthodox:',\n",
              "       'AUS:Right-hand bat:Right-arm medium:',\n",
              "       'AFG:Right-hand bat:Legbreak googly:',\n",
              "       'AFG:Right-hand bat:Left-arm wrist-spin:',\n",
              "       'ENG:Right-hand bat:Right-arm offbreak:',\n",
              "       'NZ:Left-hand bat:Right-arm medium:',\n",
              "       'NZ:Right-hand bat:Right-arm fast:',\n",
              "       'AUS:Left-hand bat:Right-arm offbreak:',\n",
              "       'PAK:Right-hand bat:Right-arm fast:',\n",
              "       'AUS:Left-hand bat:Left-arm medium:',\n",
              "       'NZ:Left-hand bat:Right-arm offbreak:',\n",
              "       'IND:Right-hand bat:Right-arm medium:',\n",
              "       'IND:Left-hand bat:Slow left-arm orthodox:',\n",
              "       'IND:Left-hand bat:Left-arm medium:',\n",
              "       'IND:Right-hand bat:Right-arm medium-fast:',\n",
              "       'IND:Left-hand bat:Left-arm fast-medium:',\n",
              "       'IND:Right-hand bat:Right-arm fast-medium:',\n",
              "       'IND:Right-hand bat:Slow left-arm orthodox:',\n",
              "       'IND:Left-hand bat:Left-arm medium-fast:',\n",
              "       'IND:Right-hand bat:Right-arm offbreak:',\n",
              "       'IND:Right-hand bat:Legbreak:',\n",
              "       'IND:Left-hand bat:Legbreak googly:',\n",
              "       'IND:Left-hand bat:Right-arm offbreak:',\n",
              "       'IND:Right-hand bat:Right-arm fast:',\n",
              "       'IND:Right-hand bat:Legbreak googly:',\n",
              "       'IND:Left-hand bat:Legbreak:',\n",
              "       'IND:Right-hand bat:Left-arm medium:',\n",
              "       'IND:Right-hand bat:Left-arm fast-medium:',\n",
              "       'IND:Right-hand bat:Left-arm medium-fast:',\n",
              "       'IND:Left-hand bat:Right-arm medium:',\n",
              "       'ENG:Right-hand bat:Legbreak:', 'SA:Left-hand bat:Right-arm fast:',\n",
              "       'IND:Left-hand bat:None:', 'IND:Right-hand bat:None:',\n",
              "       'NZ:Right-hand bat:None:',\n",
              "       'SA:Left-hand bat:Right-arm medium-fast:',\n",
              "       'SA:Right-hand bat:Slow left-arm orthodox:',\n",
              "       'SA:Right-hand bat:Right-arm medium:',\n",
              "       'SA:Right-hand bat:Right-arm medium-fast:',\n",
              "       'SA:Right-hand bat:Right-arm fast-medium:',\n",
              "       'SA:Right-hand bat:Left-arm wrist-spin:',\n",
              "       'PAK:Left-hand bat:Right-arm medium:',\n",
              "       'PAK:Left-hand bat:Left-arm fast:', 'PAK:Left-hand bat:Legbreak:',\n",
              "       'PAK:Right-hand bat:Right-arm offbreak:',\n",
              "       'PAK:Right-hand bat:Right-arm medium-fast:',\n",
              "       'PAK:Right-hand bat:Legbreak:',\n",
              "       'SA:Left-hand bat:Slow left-arm orthodox:',\n",
              "       'SA:Right-hand bat:Left-arm fast:', 'SA:Right-hand bat:Legbreak:',\n",
              "       'SA:Right-hand bat:Right-arm fast:',\n",
              "       'PAK:Right-hand bat:Right-arm medium:',\n",
              "       'PAK:Left-hand bat:Left-arm fast-medium:',\n",
              "       'AFG:Right-hand bat:Legbreak:',\n",
              "       'PAK:Right-hand bat:Left-arm medium-fast:',\n",
              "       'SA:Left-hand bat:Left-arm wrist-spin:',\n",
              "       'SA:Right-hand bat:Left-arm medium-fast:',\n",
              "       'NAM:Right-hand bat:Right-arm medium-fast:',\n",
              "       'PAK:Right-hand bat:Left-arm fast:',\n",
              "       'PAK:Right-hand bat:Legbreak googly:',\n",
              "       'PAK:Left-hand bat:Left-arm medium:',\n",
              "       'PAK:Left-hand bat:Left-arm medium-fast:',\n",
              "       'SA:Left-hand bat:Left-arm fast-medium:',\n",
              "       'PAK:Left-hand bat:Right-arm medium-fast:',\n",
              "       'SA:Left-hand bat:Right-arm offbreak:',\n",
              "       'ENG:Left-hand bat:Right-arm offbreak:',\n",
              "       'PAK:Right-hand bat:Right-arm fast-medium:',\n",
              "       'SA:Left-hand bat:Right-arm medium:',\n",
              "       'SA:Right-hand bat:Legbreak googly:',\n",
              "       'WI:Right-hand bat:Right-arm medium:',\n",
              "       'WI:Right-hand bat:Slow left-arm orthodox:',\n",
              "       'WI:Right-hand bat:Right-arm fast:',\n",
              "       'WI:Right-hand bat:Right-arm medium-fast:',\n",
              "       'WI:Right-hand bat:Right-arm offbreak:',\n",
              "       'WI:Left-hand bat:Left-arm fast-medium:',\n",
              "       'SL:Left-hand bat:Right-arm offbreak:',\n",
              "       'SL:Right-hand bat:Right-arm medium:',\n",
              "       'SL:Right-hand bat:Legbreak:',\n",
              "       'SL:Right-hand bat:Right-arm fast-medium:',\n",
              "       'SL:Right-hand bat:Right-arm fast:',\n",
              "       'SL:Left-hand bat:Right-arm medium-fast:',\n",
              "       'SL:Right-hand bat:Left-arm wrist-spin:',\n",
              "       'ENG:Left-hand bat:Right-arm fast-medium:',\n",
              "       'ENG:Right-hand bat:Right-arm fast:',\n",
              "       'ENG:Left-hand bat:Left-arm medium-fast:',\n",
              "       'ZIM:Right-hand bat:Legbreak:',\n",
              "       'ZIM:Right-hand bat:Right-arm fast-medium:',\n",
              "       'ZIM:Left-hand bat:Left-arm fast-medium:',\n",
              "       'ZIM:Left-hand bat:Legbreak:',\n",
              "       'ZIM:Left-hand bat:Slow left-arm orthodox:',\n",
              "       'ZIM:Right-hand bat:Right-arm offbreak:',\n",
              "       'AFG:Right-hand bat:Slow left-arm orthodox:',\n",
              "       'AFG:Left-hand bat:Left-arm fast-medium:',\n",
              "       'AFG:Right-hand bat:Right-arm medium:',\n",
              "       'AFG:Right-hand bat:Right-arm medium-fast:',\n",
              "       'ZIM:Left-hand bat:Right-arm medium:',\n",
              "       'AFG:Right-hand bat:Left-arm fast-medium:',\n",
              "       'BAN:Right-hand bat:Right-arm offbreak:',\n",
              "       'BAN:Left-hand bat:Right-arm medium-fast:',\n",
              "       'BAN:Left-hand bat:Left-arm fast-medium:',\n",
              "       'BAN:Left-hand bat:Slow left-arm orthodox:',\n",
              "       'BAN:Left-hand bat:Left-arm medium-fast:',\n",
              "       'BAN:Left-hand bat:Right-arm fast:',\n",
              "       'BAN:Right-hand bat:Right-arm fast:',\n",
              "       'WI:Left-hand bat:Right-arm offbreak:',\n",
              "       'SCOT:Right-hand bat:Right-arm fast-medium:',\n",
              "       'ENG:Right-hand bat:Left-arm medium-fast:',\n",
              "       'USA:Right-hand bat:Right-arm medium:',\n",
              "       'ENG:Right-hand bat:Legbreak googly:',\n",
              "       'ENG:Right-hand bat:Right-arm medium:',\n",
              "       'NED:Right-hand bat:Left-arm fast-medium:',\n",
              "       'ITA:Right-hand bat:Right-arm medium-fast:',\n",
              "       'ENG:Left-hand bat:Slow left-arm orthodox:',\n",
              "       'ENG:Left-hand bat:Left-arm fast-medium:',\n",
              "       'ENG:Left-hand bat:Left-arm medium:',\n",
              "       'SCOT:Right-hand bat:Right-arm medium-fast:',\n",
              "       'NED:Right-hand bat:Slow left-arm orthodox:',\n",
              "       'ENG:Left-hand bat:Right-arm medium-fast:',\n",
              "       'ENG:Right-hand bat:Left-arm wrist-spin:',\n",
              "       'NED:Right-hand bat:Right-arm offbreak:',\n",
              "       'ENG:Left-hand bat:Legbreak:',\n",
              "       'IRE:Right-hand bat:Right-arm offbreak:',\n",
              "       'ENG:Left-hand bat:Right-arm fast:',\n",
              "       'SCOT:Right-hand bat:Right-arm medium:',\n",
              "       'NED:Right-hand bat:Right-arm fast-medium:',\n",
              "       'ENG:Right-hand bat:Left-arm fast-medium:',\n",
              "       'ENG:Left-hand bat:Left-arm fast:',\n",
              "       'NED:Right-hand bat:Right-arm fast:',\n",
              "       'SA:Left-hand bat:Left-arm medium-fast:',\n",
              "       'ENG:Right-hand bat:Left-arm fast:',\n",
              "       'USA:Right-hand bat:Right-arm fast-medium:',\n",
              "       'ENG:Left-hand bat:Right-arm medium:',\n",
              "       'PAK:Right-hand bat:Slow left-arm orthodox:',\n",
              "       'UAE:Right-hand bat:Right-arm medium-fast:',\n",
              "       'IRE:Left-hand bat:Right-arm fast-medium:',\n",
              "       'IRE:Right-hand bat:Right-arm fast-medium:',\n",
              "       'IRE:Right-hand bat:Right-arm medium:',\n",
              "       'IRE:Right-hand bat:Slow left-arm orthodox:',\n",
              "       'IRE:Right-hand bat:Legbreak googly:',\n",
              "       'IRE:Left-hand bat:Right-arm medium-fast:',\n",
              "       'IRE:Right-hand bat:Right-arm medium-fast:',\n",
              "       'IRE:Left-hand bat:Right-arm offbreak:',\n",
              "       'IRE:Left-hand bat:Slow left-arm orthodox:',\n",
              "       'IRE:Right-hand bat:None:', 'IRE:Right-hand bat:Legbreak:',\n",
              "       'SL:Right-hand bat:Left-arm medium-fast:',\n",
              "       'IRE:None:Right-arm medium-fast:',\n",
              "       'BER:Left-hand bat:Slow left-arm orthodox:',\n",
              "       'ZIM:Right-hand bat:Right-arm medium:',\n",
              "       'IRE:Right-hand bat:Right-arm fast:',\n",
              "       'AUS:Left-hand bat:Right-arm medium-fast:',\n",
              "       'WI:Left-hand bat:Slow left-arm orthodox:',\n",
              "       'AUS:Left-hand bat:Left-arm fast:',\n",
              "       'WI:Left-hand bat:Legbreak googly:',\n",
              "       'WI:Right-hand bat:Left-arm fast-medium:',\n",
              "       'WI:Left-hand bat:Right-arm fast:',\n",
              "       'BAN:Left-hand bat:Right-arm offbreak:',\n",
              "       'SL:Right-hand bat:Right-arm medium-fast:',\n",
              "       'SL:Right-hand bat:Right-arm offbreak:',\n",
              "       'IND:Left-hand bat:Left-arm wrist-spin:',\n",
              "       'WI:Left-hand bat:Right-arm medium:',\n",
              "       'WI:Left-hand bat:Left-arm medium-fast:',\n",
              "       'WI:Left-hand bat:Right-arm fast-medium:',\n",
              "       'WI:Right-hand bat:Legbreak:',\n",
              "       'SL:Right-hand bat:Slow left-arm orthodox:',\n",
              "       'SCOT:Right-hand bat:Right-arm offbreak:',\n",
              "       'SCOT:Left-hand bat:Slow left-arm orthodox:',\n",
              "       'SCOT:Left-hand bat:Right-arm offbreak:',\n",
              "       'SCOT:Right-hand bat:Right-arm fast:',\n",
              "       'IRE:None:Slow left-arm orthodox:',\n",
              "       'SCOT:Right-hand bat:Legbreak:',\n",
              "       'SCOT:Right-hand bat:Slow left-arm orthodox:',\n",
              "       'PNG:Left-hand bat:Right-arm offbreak:',\n",
              "       'PNG:Right-hand bat:Right-arm medium-fast:',\n",
              "       'PNG:Left-hand bat:Legbreak:',\n",
              "       'PNG:Right-hand bat:Left-arm medium:',\n",
              "       'PNG:Right-hand bat:Left-arm fast:', 'PNG:Left-hand bat:None:',\n",
              "       'NAM:Right-hand bat:Slow left-arm orthodox:',\n",
              "       'NAM:Right-hand bat:Left-arm medium-fast:',\n",
              "       'NAM:Left-hand bat:Left-arm fast-medium:',\n",
              "       'NAM:Left-hand bat:Right-arm fast-medium:',\n",
              "       'NAM:Right-hand bat:Left-arm fast:',\n",
              "       'SL:Left-hand bat:Right-arm fast:',\n",
              "       'NAM:Right-hand bat:Right-arm offbreak:',\n",
              "       'NAM:Left-hand bat:Right-arm medium:',\n",
              "       'OMA:Right-hand bat:Right-arm offbreak:',\n",
              "       'OMA:Left-hand bat:Left-arm medium-fast:',\n",
              "       'OMA:Right-hand bat:Right-arm medium-fast:',\n",
              "       'OMA:Right-hand bat:Right-arm medium:',\n",
              "       'OMA:Left-hand bat:Slow left-arm orthodox:',\n",
              "       'NAM:Left-hand bat:Left-arm medium:',\n",
              "       'AFG:Right-hand bat:Right-arm fast:',\n",
              "       'BAN:Right-hand bat:Legbreak googly:',\n",
              "       'BAN:Right-hand bat:Right-arm medium:',\n",
              "       'NZ:Right-hand bat:Left-arm medium-fast:',\n",
              "       'AUS:Left-hand bat:Right-arm medium:',\n",
              "       'PAK:Right-hand bat:Left-arm wrist-spin:',\n",
              "       'BAN:Right-hand bat:Right-arm medium-fast:',\n",
              "       'SL:Left-hand bat:Slow left-arm orthodox:',\n",
              "       'UAE:Left-hand bat:Left-arm fast-medium:',\n",
              "       'SL:Left-hand bat:Right-arm fast-medium:',\n",
              "       'USA:Left-hand bat:Slow left-arm orthodox:',\n",
              "       'USA:Right-hand bat:Slow left-arm orthodox:',\n",
              "       'USA:Right-hand bat:Left-arm fast-medium:',\n",
              "       'USA:Left-hand bat:Legbreak googly:',\n",
              "       'USA:Right-hand bat:Right-arm offbreak:',\n",
              "       'BAN:Right-hand bat:Right-arm fast-medium:',\n",
              "       'BAN:Left-hand bat:Left-arm fast:',\n",
              "       'UGA:Left-hand bat:Slow left-arm orthodox:',\n",
              "       'UGA:Left-hand bat:Left-arm medium:',\n",
              "       'UGA:Right-hand bat:Slow left-arm orthodox:',\n",
              "       'UGA:Right-hand bat:Right-arm offbreak:',\n",
              "       'RWN:Right-hand bat:Left-arm medium:',\n",
              "       'RWN:Right-hand bat:Right-arm offbreak:',\n",
              "       'RWN:Right-hand bat:Right-arm medium:',\n",
              "       'BAN:Right-hand bat:Slow left-arm orthodox:',\n",
              "       'NZ:Right-hand bat:Left-arm fast:',\n",
              "       'GER:Right-hand bat:Right-arm medium:',\n",
              "       'SL:Left-hand bat:Left-arm medium-fast:',\n",
              "       'NED:Left-hand bat:Legbreak googly:',\n",
              "       'NZ:Left-hand bat:Left-arm medium:',\n",
              "       'NEP:Right-hand bat:Right-arm medium:',\n",
              "       'NEP:Left-hand bat:Right-arm medium:',\n",
              "       'NEP:Right-hand bat:Right-arm fast:',\n",
              "       'NEP:Left-hand bat:Slow left-arm orthodox:',\n",
              "       'NEP:Right-hand bat:Right-arm fast-medium:',\n",
              "       'UAE:Left-hand bat:Right-arm medium-fast:',\n",
              "       'UAE:Left-hand bat:Right-arm medium:',\n",
              "       'UAE:Left-hand bat:Slow left-arm orthodox:',\n",
              "       'ENG:Right-hand bat:Left-arm medium:',\n",
              "       'Aut:Left-hand bat:Slow left-arm orthodox:',\n",
              "       'Aut:Right-hand bat:Right-arm medium:',\n",
              "       'CZK-R:Right-hand bat:Right-arm medium:',\n",
              "       'CZK-R:Right-hand bat:Right-arm offbreak:',\n",
              "       'CZK-R:Right-hand bat:Right-arm medium-fast:',\n",
              "       'BAN:Right-hand bat:Left-arm medium:',\n",
              "       'MOZ:Right-hand bat:Right-arm medium:',\n",
              "       'MOZ:Right-hand bat:Right-arm offbreak:',\n",
              "       'UGA:Right-hand bat:None:', 'UGA:Right-hand bat:Right-arm medium:',\n",
              "       'PAK:Right-hand bat:Left-arm fast-medium:',\n",
              "       'ZIM:Right-hand bat:Right-arm fast:',\n",
              "       'NEP:Right-hand bat:Right-arm medium-fast:',\n",
              "       'NEP:Right-hand bat:Right-arm offbreak:',\n",
              "       'NEP:Right-hand bat:Slow left-arm orthodox:',\n",
              "       'UAE:Right-hand bat:Slow left-arm orthodox:',\n",
              "       'UAE:Right-hand bat:Right-arm offbreak:',\n",
              "       'UAE:Left-hand bat:Right-arm offbreak:',\n",
              "       'GRC:Right-hand bat:Right-arm medium-fast:',\n",
              "       'SCOT:Right-hand bat:Left-arm fast-medium:',\n",
              "       'USA:Right-hand bat:Legbreak googly:',\n",
              "       'BAN:Right-hand bat:Legbreak:',\n",
              "       'IND:Left-hand bat:Right-arm medium-fast:',\n",
              "       'WI:Left-hand bat:Legbreak:',\n",
              "       'UGA:Right-hand bat:Right-arm fast-medium:',\n",
              "       'USA:Right-hand bat:Right-arm medium-fast:',\n",
              "       'BOT:Right-hand bat:Legbreak googly:',\n",
              "       'BOT:Left-hand bat:Slow left-arm orthodox:',\n",
              "       'BOT:Right-hand bat:Right-arm offbreak:',\n",
              "       'SL:Right-hand bat:Left-arm fast-medium:',\n",
              "       'UAE:Right-hand bat:Legbreak:',\n",
              "       'None:Right-hand bat:Right-arm medium:',\n",
              "       'BHR:Right-hand bat:Right-arm medium:',\n",
              "       'BHR:Right-hand bat:Right-arm offbreak:',\n",
              "       'BHR:Right-hand bat:Left-arm medium:',\n",
              "       'BHR:Left-hand bat:Slow left-arm orthodox:',\n",
              "       'SA:Right-hand bat:Left-arm medium:', 'SA:Left-hand bat:Legbreak:',\n",
              "       'JER:Right-hand bat:Legbreak:',\n",
              "       'JER:Right-hand bat:Right-arm medium:',\n",
              "       'JER:Right-hand bat:Slow left-arm orthodox:',\n",
              "       'JER:Right-hand bat:Right-arm offbreak:',\n",
              "       'SGP:Right-hand bat:Legbreak googly:',\n",
              "       'SGP:Right-hand bat:Right-arm medium:',\n",
              "       'SGP:Right-hand bat:Right-arm offbreak:',\n",
              "       'SGP:Right-hand bat:None:',\n",
              "       'SGP:Right-hand bat:Right-arm medium-fast:',\n",
              "       'SGP:Left-hand bat:Slow left-arm orthodox:',\n",
              "       'AUS:Left-hand bat:Legbreak:',\n",
              "       'HKG:Right-hand bat:Right-arm medium:',\n",
              "       'HKG:Right-hand bat:Right-arm medium-fast:',\n",
              "       'HKG:Right-hand bat:Right-arm offbreak:',\n",
              "       'HKG:Right-hand bat:Legbreak:',\n",
              "       'HKG:Left-hand bat:Slow left-arm orthodox:',\n",
              "       'IND:Left-hand bat:Right-arm fast:',\n",
              "       'UGA:Right-hand bat:Right-arm medium-fast:',\n",
              "       'NGA:Left-hand bat:Slow left-arm orthodox:',\n",
              "       'NGA:Right-hand bat:Right-arm medium:',\n",
              "       'NGA:Left-hand bat:Left-arm fast-medium:',\n",
              "       'NGA:Right-hand bat:Right-arm medium-fast:',\n",
              "       'NGA:Left-hand bat:Left-arm medium:',\n",
              "       'NGA:Right-hand bat:Right-arm offbreak:',\n",
              "       'TAN:Right-hand bat:Right-arm medium:',\n",
              "       'TAN:Left-hand bat:Right-arm offbreak:',\n",
              "       'TAN:Right-hand bat:Right-arm offbreak:',\n",
              "       'TAN:Left-hand bat:Right-arm medium-fast:',\n",
              "       'TAN:Right-hand bat:Slow left-arm orthodox:',\n",
              "       'KENYA:Right-hand bat:Right-arm medium-fast:',\n",
              "       'KENYA:Right-hand bat:Left-arm fast-medium:',\n",
              "       'KENYA:Right-hand bat:Slow left-arm orthodox:',\n",
              "       'KENYA:Left-hand bat:Slow left-arm orthodox:',\n",
              "       'GER:Right-hand bat:Right-arm offbreak:',\n",
              "       'Aut:Right-hand bat:Right-arm offbreak:',\n",
              "       'KENYA:Right-hand bat:Right-arm offbreak:',\n",
              "       'KENYA:Right-hand bat:Right-arm medium:',\n",
              "       'KENYA:Right-hand bat:Legbreak:',\n",
              "       'KENYA:Left-hand bat:Left-arm medium-fast:',\n",
              "       'ZIM:Right-hand bat:Slow left-arm orthodox:',\n",
              "       'NAM:Right-hand bat:Left-arm medium:',\n",
              "       'SA:Left-hand bat:Right-arm fast-medium:',\n",
              "       'GHA:Right-hand bat:Right-arm offbreak:',\n",
              "       'GHA:Right-hand bat:Right-arm medium:', 'GHA:Left-hand bat:None:',\n",
              "       'BAN:Right-hand bat:Left-arm fast-medium:',\n",
              "       'HKG:Left-hand bat:Left-arm medium-fast:',\n",
              "       'PAK:Left-hand bat:Left-arm wrist-spin:',\n",
              "       'HKG:Right-hand bat:Slow left-arm orthodox:',\n",
              "       'UAE:Right-hand bat:Right-arm medium:',\n",
              "       'SL:Left-hand bat:Left-arm slow-medium:',\n",
              "       'BAN:Left-hand bat:Right-arm medium:',\n",
              "       'DEN:Right-hand bat:Right-arm offbreak:',\n",
              "       'DEN:Right-hand bat:Right-arm medium:',\n",
              "       'DEN:Left-hand bat:Slow left-arm orthodox:',\n",
              "       'DEN:Left-hand bat:Left-arm medium:',\n",
              "       'HKG:Left-hand bat:Right-arm offbreak:',\n",
              "       'QAT:Right-hand bat:Slow left-arm orthodox:',\n",
              "       'QAT:Right-hand bat:Right-arm medium:',\n",
              "       'QAT:Left-hand bat:Slow left-arm orthodox:',\n",
              "       'QAT:Right-hand bat:Right-arm offbreak:',\n",
              "       'QAT:Left-hand bat:Left-arm medium-fast:',\n",
              "       'CAN:Right-hand bat:Right-arm medium:',\n",
              "       'CAN:Right-hand bat:Legbreak:',\n",
              "       'CAN:Right-hand bat:Left-arm medium-fast:',\n",
              "       'CAN:Left-hand bat:Slow left-arm orthodox:',\n",
              "       'BHR:Right-hand bat:Legbreak googly:',\n",
              "       'BHR:Left-hand bat:Left-arm medium:',\n",
              "       'RWN:Left-hand bat:Slow left-arm orthodox:',\n",
              "       'BOT:Right-hand bat:Right-arm fast:',\n",
              "       'BOT:Right-hand bat:Right-arm medium:',\n",
              "       'BOT:Right-hand bat:Right-arm medium-fast:',\n",
              "       'BOT:Left-hand bat:Left-arm medium:',\n",
              "       'KUW:Right-hand bat:Legbreak:',\n",
              "       'KUW:Right-hand bat:Left-arm slow:',\n",
              "       'KUW:Right-hand bat:Right-arm medium:',\n",
              "       'KUW:Right-hand bat:Legbreak googly:',\n",
              "       'OMA:Right-hand bat:Legbreak:',\n",
              "       'SL:Left-hand bat:Right-arm medium:',\n",
              "       'SA:Left-hand bat:Left-arm medium:',\n",
              "       'USA:Left-hand bat:Right-arm offbreak:',\n",
              "       'NZ:Left-hand bat:Legbreak googly:',\n",
              "       'TAN:Right-hand bat:Legbreak:', 'KUW:Right-hand bat:None:',\n",
              "       'AUS:Right-hand bat:Left-arm wrist-spin:',\n",
              "       'UAE:Right-hand bat:Left-arm fast-medium:',\n",
              "       'KUW:Left-hand bat:None:', 'KUW:Left-hand bat:Right-arm offbreak:',\n",
              "       'MAS:Right-hand bat:Right-arm offbreak:',\n",
              "       'MAS:Right-hand bat:Slow left-arm orthodox:',\n",
              "       'MAS:Right-hand bat:Left-arm medium:',\n",
              "       'MAS:Right-hand bat:Right-arm medium:', 'ENG:Right-hand bat:None:',\n",
              "       'WI:Left-hand bat:None:',\n",
              "       'GER:Right-hand bat:Left-arm medium-fast:',\n",
              "       'GER:Right-hand bat:Slow left-arm orthodox:',\n",
              "       'GER:Left-hand bat:Right-arm offbreak:',\n",
              "       'GHA:Right-hand bat:Legbreak:', 'AUS:Left-hand bat:None:',\n",
              "       'SA:Left-hand bat:Left-arm fast:',\n",
              "       'NAM:Right-hand bat:Right-arm medium:', 'MWI:Left-hand bat:None:',\n",
              "       'MWI:Right-hand bat:Right-arm medium-fast:',\n",
              "       'MWI:Right-hand bat:Right-arm fast-medium:',\n",
              "       'MWI:Right-hand bat:Right-arm medium:',\n",
              "       'MWI:Right-hand bat:Right-arm offbreak:'], dtype=object)"
            ]
          },
          "metadata": {},
          "execution_count": 18
        }
      ]
    },
    {
      "cell_type": "code",
      "source": [
        "bwl_df.columns"
      ],
      "metadata": {
        "colab": {
          "base_uri": "https://localhost:8080/"
        },
        "id": "me9DYZ15a87_",
        "outputId": "39e22537-7566-4360-f1d4-c7ef5855a888"
      },
      "execution_count": null,
      "outputs": [
        {
          "output_type": "execute_result",
          "data": {
            "text/plain": [
              "Index(['match id', 'bowler', 'bowler_id', 'bowler_details',\n",
              "       'is_bowler_captain', 'is_bowler_keeper', 'inning', 'runs',\n",
              "       'wicket_count', 'balls_bowled', 'economy', 'maiden', 'dots', 'Fours',\n",
              "       'Sixes', 'wides', 'noballs', 'match_dt'],\n",
              "      dtype='object')"
            ]
          },
          "metadata": {},
          "execution_count": 9
        }
      ]
    },
    {
      "cell_type": "code",
      "source": [
        "bwl_df.groupby(by='bowler_id').is_bowler_captain.sum()"
      ],
      "metadata": {
        "colab": {
          "base_uri": "https://localhost:8080/"
        },
        "id": "Ssz_pMZwZalW",
        "outputId": "ba9e6b26-483c-4565-c7ff-2fed93a49897"
      },
      "execution_count": null,
      "outputs": [
        {
          "output_type": "execute_result",
          "data": {
            "text/plain": [
              "bowler_id\n",
              "34061.0       4.0\n",
              "37351.0       1.0\n",
              "41740.0       5.0\n",
              "49496.0       0.0\n",
              "55299.0      18.0\n",
              "             ... \n",
              "9822392.0     0.0\n",
              "9822413.0     0.0\n",
              "9822420.0     0.0\n",
              "9822441.0     0.0\n",
              "9888584.0     0.0\n",
              "Name: is_bowler_captain, Length: 1541, dtype: float64"
            ]
          },
          "metadata": {},
          "execution_count": 25
        }
      ]
    },
    {
      "cell_type": "code",
      "source": [
        "bwl_df.groupby(by='bowler_id').wicket_count.sum().sort(ascending=False)"
      ],
      "metadata": {
        "id": "512ytMAm28SM"
      },
      "execution_count": null,
      "outputs": []
    },
    {
      "cell_type": "code",
      "source": [
        "train_bwl = bwl_df[bwl_df['match id'].isin(train['match id'])]"
      ],
      "metadata": {
        "id": "lKM-ZyKzBBjN"
      },
      "execution_count": null,
      "outputs": []
    },
    {
      "cell_type": "code",
      "source": [
        "train_bwl['match id'].nunique()"
      ],
      "metadata": {
        "colab": {
          "base_uri": "https://localhost:8080/"
        },
        "id": "JLP4Y7YsBGMU",
        "outputId": "0bc94ddd-7a02-43bf-d496-38a21537eea6"
      },
      "execution_count": null,
      "outputs": [
        {
          "output_type": "execute_result",
          "data": {
            "text/plain": [
              "948"
            ]
          },
          "metadata": {},
          "execution_count": 17
        }
      ]
    },
    {
      "cell_type": "code",
      "source": [
        "train_bwl.isna().sum()"
      ],
      "metadata": {
        "colab": {
          "base_uri": "https://localhost:8080/"
        },
        "id": "xgn4AtdmEMJs",
        "outputId": "32ffede0-43eb-49c9-8355-e2ae748761dc"
      },
      "execution_count": null,
      "outputs": [
        {
          "output_type": "execute_result",
          "data": {
            "text/plain": [
              "match id             0\n",
              "bowler               0\n",
              "bowler_id            0\n",
              "bowler_details       0\n",
              "is_bowler_captain    0\n",
              "is_bowler_keeper     0\n",
              "inning               0\n",
              "runs                 0\n",
              "wicket_count         0\n",
              "balls_bowled         0\n",
              "economy              0\n",
              "maiden               0\n",
              "dots                 0\n",
              "Fours                0\n",
              "Sixes                0\n",
              "wides                0\n",
              "noballs              0\n",
              "match_dt             0\n",
              "dtype: int64"
            ]
          },
          "metadata": {},
          "execution_count": 31
        }
      ]
    },
    {
      "cell_type": "markdown",
      "source": [
        "## Match-level dataset"
      ],
      "metadata": {
        "id": "SOe9N-RsBbzM"
      }
    },
    {
      "cell_type": "code",
      "source": [],
      "metadata": {
        "id": "Bs8cXMd9BbnU"
      },
      "execution_count": null,
      "outputs": []
    },
    {
      "cell_type": "code",
      "source": [
        "match_df.shape"
      ],
      "metadata": {
        "id": "VmFahAackxmt"
      },
      "execution_count": null,
      "outputs": []
    },
    {
      "cell_type": "code",
      "source": [
        "match_df.columns"
      ],
      "metadata": {
        "colab": {
          "base_uri": "https://localhost:8080/"
        },
        "id": "ULXTde1FBbYM",
        "outputId": "a062cd7d-7077-4ac1-925d-f6308265cd90"
      },
      "execution_count": null,
      "outputs": [
        {
          "output_type": "execute_result",
          "data": {
            "text/plain": [
              "Index(['match id', 'team1', 'team2', 'winner', 'by', 'win amount',\n",
              "       'toss winner', 'toss decision', 'venue', 'city', 'match_dt', 'lighting',\n",
              "       'series_name', 'season', 'ground_id', 'umpire1', 'umpire2',\n",
              "       'inning1_runs', 'inning1_wickets', 'inning1_balls', 'inning2_runs',\n",
              "       'inning2_wickets', 'inning2_balls', 'team1_id', 'team1_roster_ids',\n",
              "       'team2_id', 'team2_roster_ids', 'series_type', 'winner_id',\n",
              "       'player_of_the_match_id'],\n",
              "      dtype='object')"
            ]
          },
          "metadata": {},
          "execution_count": 20
        }
      ]
    },
    {
      "cell_type": "code",
      "source": [
        "match_df['win amount'].unique()"
      ],
      "metadata": {
        "colab": {
          "base_uri": "https://localhost:8080/"
        },
        "id": "3xxyGR3AGyfl",
        "outputId": "48de3f0e-d599-4377-bf47-ac2af6071419"
      },
      "execution_count": null,
      "outputs": [
        {
          "output_type": "execute_result",
          "data": {
            "text/plain": [
              "array([  9.,   7.,   4.,   2.,  21.,  10.,  96.,   6.,   5.,  60.,  86.,\n",
              "        17.,  39.,  53.,  80.,  18.,  32.,  11.,  43.,  66.,  29.,   3.,\n",
              "        76.,   8.,  73., 112., 130.,  79., 117.,  51.,  26., 111.,  89.,\n",
              "       100.,  45.,  90.,  54.,  13.,  37.,  77., 131.,  12.,  22., 110.,\n",
              "        15.,  59.,  82.,  46.,  25., 103.,  49.,  30.,  36.,  27.,  14.,\n",
              "        16.,  24.,  41.,  64.,  50.,  48.,  47.,  28.,  65.,  38.,  19.,\n",
              "        69.,   1.,  34.,  55.,  23.,  20.,  61.,  40.,  94.,  35.,  67.,\n",
              "        31.,  42.,  70.,  63.,  33., 114.,  75.,  56.,  74.,  78.,  93.,\n",
              "       120.,  52.,  62.,  44.,  81.,  72., 167.,  92., 152., 102.,  58.,\n",
              "        85.,  95., 101., 125., 144.,  98., 106.,  68., 124., 105., 128.,\n",
              "       132., 151.,  71., 122., 118.,  84., 168., 119.,  83., 109., 104.,\n",
              "       133.,  87.,  88.,  57., 129.,  91.])"
            ]
          },
          "metadata": {},
          "execution_count": 10
        }
      ]
    },
    {
      "cell_type": "code",
      "source": [
        "match_df.groupby(by='venue').sum"
      ],
      "metadata": {
        "colab": {
          "base_uri": "https://localhost:8080/"
        },
        "id": "IHJcLhMjlNW4",
        "outputId": "e530f29a-693c-4bed-bd3c-60268818cc38"
      },
      "execution_count": null,
      "outputs": [
        {
          "output_type": "execute_result",
          "data": {
            "text/plain": [
              "venue\n",
              " Ed Hs Il Sl Gd                                                         0\n",
              "AA Si                                                                   0\n",
              "AA Sm Ba                                                                0\n",
              "Aa Sm Ln                                                       Launceston\n",
              "Ac 2  Ct Gd                                                             0\n",
              "                                              ...                        \n",
              "Ws Ct Gd Wk              WindhoekWindhoekWindhoekWindhoekWindhoekWindhoek\n",
              "Wt Ed Pk Il Ct Sm Da                                         DohaDohaDoha\n",
              "Zd Ct Sm Au Di          Abu DhabiAbu DhabiAbu DhabiAbu DhabiAbu DhabiA...\n",
              "Zg Uy of Ty Ct Fd                        HangzhouHangzhouHangzhouHangzhou\n",
              "Zr Ad Cy Sm Cm          ChattogramChattogramChattogramChattogramChatto...\n",
              "Name: city, Length: 181, dtype: object"
            ]
          },
          "metadata": {},
          "execution_count": 49
        }
      ]
    },
    {
      "cell_type": "code",
      "source": [
        "match_df.isna().sum()"
      ],
      "metadata": {
        "colab": {
          "base_uri": "https://localhost:8080/"
        },
        "id": "zVCufnTEk1aH",
        "outputId": "efca9c7e-0164-4883-dab9-a34d639c2c3b"
      },
      "execution_count": null,
      "outputs": [
        {
          "output_type": "execute_result",
          "data": {
            "text/plain": [
              "match id                    0\n",
              "team1                       0\n",
              "team2                       0\n",
              "winner                      0\n",
              "by                          0\n",
              "win amount                  0\n",
              "toss winner                 0\n",
              "toss decision               0\n",
              "venue                       0\n",
              "city                      178\n",
              "match_dt                    0\n",
              "lighting                    0\n",
              "series_name                 0\n",
              "season                      0\n",
              "ground_id                   0\n",
              "umpire1                   181\n",
              "umpire2                   181\n",
              "inning1_runs                0\n",
              "inning1_wickets             0\n",
              "inning1_balls               0\n",
              "inning2_runs                0\n",
              "inning2_wickets             0\n",
              "inning2_balls               0\n",
              "team1_id                    0\n",
              "team1_roster_ids            0\n",
              "team2_id                    0\n",
              "team2_roster_ids            0\n",
              "series_type                 0\n",
              "winner_id                   0\n",
              "player_of_the_match_id    514\n",
              "dtype: int64"
            ]
          },
          "metadata": {},
          "execution_count": 47
        }
      ]
    },
    {
      "cell_type": "code",
      "source": [
        "train_match = match_df[match_df['match id'].isin(train['match id'])]"
      ],
      "metadata": {
        "id": "YtR4AJfDBvXs"
      },
      "execution_count": null,
      "outputs": []
    },
    {
      "cell_type": "code",
      "source": [
        "train_match['match id'].nunique()"
      ],
      "metadata": {
        "colab": {
          "base_uri": "https://localhost:8080/"
        },
        "id": "fQZKRPkDBvJi",
        "outputId": "33685523-5034-4995-aa05-7fce8300ba1d"
      },
      "execution_count": null,
      "outputs": [
        {
          "output_type": "execute_result",
          "data": {
            "text/plain": [
              "948"
            ]
          },
          "metadata": {},
          "execution_count": 34
        }
      ]
    },
    {
      "cell_type": "code",
      "source": [],
      "metadata": {
        "id": "K7ypNCJRjpwK"
      },
      "execution_count": null,
      "outputs": []
    },
    {
      "cell_type": "code",
      "source": [
        "train_match.loc[741, 'team1_roster_ids']"
      ],
      "metadata": {
        "colab": {
          "base_uri": "https://localhost:8080/",
          "height": 36
        },
        "id": "Inlr5GVsiJKf",
        "outputId": "25f22d63-567e-4fae-8ae0-c8291ed63070"
      },
      "execution_count": null,
      "outputs": [
        {
          "output_type": "execute_result",
          "data": {
            "text/plain": [
              "'9373356.0:7857520.0:4232164.0:4566540.0:3299407.0:232000.0:7883504.0:8725723.0:7878989.0:2526390.0:8725730.0:4017523.0'"
            ],
            "application/vnd.google.colaboratory.intrinsic+json": {
              "type": "string"
            }
          },
          "metadata": {},
          "execution_count": 45
        }
      ]
    },
    {
      "cell_type": "code",
      "source": [
        "train_match.venue.nunique()"
      ],
      "metadata": {
        "colab": {
          "base_uri": "https://localhost:8080/"
        },
        "id": "sHSRUqPsifZI",
        "outputId": "acac6ce1-2437-445d-cf39-f431c23dfa2b"
      },
      "execution_count": null,
      "outputs": [
        {
          "output_type": "execute_result",
          "data": {
            "text/plain": [
              "125"
            ]
          },
          "metadata": {},
          "execution_count": 39
        }
      ]
    },
    {
      "cell_type": "code",
      "source": [
        "train_match.isna().sum()"
      ],
      "metadata": {
        "colab": {
          "base_uri": "https://localhost:8080/"
        },
        "id": "mHCVxPYLBu9x",
        "outputId": "5cbe876b-628b-4e85-a7f9-abb72baea1bb"
      },
      "execution_count": null,
      "outputs": [
        {
          "output_type": "execute_result",
          "data": {
            "text/plain": [
              "match id                    0\n",
              "team1                       0\n",
              "team2                       0\n",
              "winner                      0\n",
              "by                          0\n",
              "win amount                  0\n",
              "toss winner                 0\n",
              "toss decision               0\n",
              "venue                       0\n",
              "city                        0\n",
              "match_dt                    0\n",
              "lighting                    0\n",
              "series_name                 0\n",
              "season                      0\n",
              "ground_id                   0\n",
              "umpire1                     1\n",
              "umpire2                     1\n",
              "inning1_runs                0\n",
              "inning1_wickets             0\n",
              "inning1_balls               0\n",
              "inning2_runs                0\n",
              "inning2_wickets             0\n",
              "inning2_balls               0\n",
              "team1_id                    0\n",
              "team1_roster_ids            0\n",
              "team2_id                    0\n",
              "team2_roster_ids            0\n",
              "series_type                 0\n",
              "winner_id                   0\n",
              "player_of_the_match_id    282\n",
              "dtype: int64"
            ]
          },
          "metadata": {},
          "execution_count": 32
        }
      ]
    },
    {
      "cell_type": "markdown",
      "source": [
        "## Training data"
      ],
      "metadata": {
        "id": "7YJR3ql-bHm6"
      }
    },
    {
      "cell_type": "code",
      "source": [],
      "metadata": {
        "id": "3lNFd6IobK13"
      },
      "execution_count": null,
      "outputs": []
    },
    {
      "cell_type": "code",
      "source": [
        "train['lighting'].unique()"
      ],
      "metadata": {
        "colab": {
          "base_uri": "https://localhost:8080/"
        },
        "id": "zCCPtOKwbeXz",
        "outputId": "7183e591-62f8-4227-b2f6-daf1c46e074a",
        "collapsed": true
      },
      "execution_count": null,
      "outputs": [
        {
          "output_type": "execute_result",
          "data": {
            "text/plain": [
              "array(['day/night match', 'day match', 'night match'], dtype=object)"
            ]
          },
          "metadata": {},
          "execution_count": 13
        }
      ]
    },
    {
      "cell_type": "code",
      "source": [
        "train.team1_id.unique()"
      ],
      "metadata": {
        "colab": {
          "base_uri": "https://localhost:8080/"
        },
        "id": "QOrx9lr-jHTC",
        "outputId": "2cdfd1ea-1ac0-4f81-8bab-d61636753bf9"
      },
      "execution_count": null,
      "outputs": [
        {
          "output_type": "execute_result",
          "data": {
            "text/plain": [
              "array([11283,    20, 10576, 36084, 30407, 42573,    27, 47501, 12634,\n",
              "         216, 30435, 30400,  8301, 10618, 30393, 33956,   293,  7258,\n",
              "        1350, 40424, 18360, 47508,  8917, 10366, 17583, 47480, 40452,\n",
              "       12389,    55, 44904, 33963, 46773,    48,    62, 48929,   202,\n",
              "       17653,  9876,  8987, 45072, 48922,  6698, 40578,   895, 45933,\n",
              "       17982,   188, 23869, 47529, 23750,  9967,   251, 48334,  8056,\n",
              "          69, 46731,    76, 22497,    41, 30414,  9701, 48341, 12046,\n",
              "       33928,  6838, 11591,  8700, 40606, 48950, 48936, 13971, 48733,\n",
              "       40298, 30428, 15623, 13474, 33921, 46745, 33942, 36014,    90,\n",
              "       33935, 36112, 45954, 14629, 17744,  7608,  7727, 18570,   825,\n",
              "       46738, 36126, 30421,   769, 46759,   209,   174, 46766, 33949,\n",
              "       33914, 23113, 46780,  8182,  1224,   195, 11157, 14454, 36098,\n",
              "       49657, 15301, 47494, 36070,    34, 45940, 23316, 40592, 23841,\n",
              "        7573,   958, 40564, 22763, 12473, 40550, 13131, 22784, 47487,\n",
              "         146, 38814, 13957, 46752, 12669, 48943, 32388,   272,   104,\n",
              "       35790, 15413, 49650,   132, 11465,   223, 45926,   118, 14860,\n",
              "       13397, 11374,   237, 15497,  1490, 11220,   279, 45961])"
            ]
          },
          "metadata": {},
          "execution_count": 42
        }
      ]
    },
    {
      "cell_type": "code",
      "source": [
        "train.columns"
      ],
      "metadata": {
        "colab": {
          "base_uri": "https://localhost:8080/"
        },
        "id": "61DVUxTubkfa",
        "outputId": "d5ebbf56-b959-4680-baa6-7fe78b6e4851"
      },
      "execution_count": null,
      "outputs": [
        {
          "output_type": "execute_result",
          "data": {
            "text/plain": [
              "Index(['match id', 'team1', 'team1_id', 'team1_roster_ids', 'team2',\n",
              "       'team2_id', 'team2_roster_ids', 'winner', 'winner_id', 'toss winner',\n",
              "       'toss decision', 'venue', 'city', 'match_dt', 'lighting', 'series_name',\n",
              "       'season', 'ground_id', 'team_count_50runs_last15', 'team_winp_last5',\n",
              "       'team1only_avg_runs_last15', 'team1_winp_team2_last15',\n",
              "       'ground_avg_runs_last15'],\n",
              "      dtype='object')"
            ]
          },
          "metadata": {},
          "execution_count": 12
        }
      ]
    },
    {
      "cell_type": "code",
      "source": [
        "train.ground_id.nunique()"
      ],
      "metadata": {
        "colab": {
          "base_uri": "https://localhost:8080/"
        },
        "id": "zqisUh6SoWTp",
        "outputId": "c6f04b2b-29cd-4e6d-cca0-c2f0fcfef4c8"
      },
      "execution_count": null,
      "outputs": [
        {
          "output_type": "execute_result",
          "data": {
            "text/plain": [
              "123"
            ]
          },
          "metadata": {},
          "execution_count": 53
        }
      ]
    },
    {
      "cell_type": "code",
      "source": [
        "train.isna().sum()"
      ],
      "metadata": {
        "colab": {
          "base_uri": "https://localhost:8080/"
        },
        "id": "dRhjIdkFiCEA",
        "outputId": "ef3cd0b6-39cb-45ea-a075-ec1705428bff"
      },
      "execution_count": null,
      "outputs": [
        {
          "output_type": "execute_result",
          "data": {
            "text/plain": [
              "match id                      0\n",
              "team1                         0\n",
              "team1_id                      0\n",
              "team1_roster_ids              0\n",
              "team2                         0\n",
              "team2_id                      0\n",
              "team2_roster_ids              0\n",
              "winner                        0\n",
              "winner_id                     0\n",
              "toss winner                   0\n",
              "toss decision                 0\n",
              "venue                         0\n",
              "city                          0\n",
              "match_dt                      0\n",
              "lighting                      0\n",
              "series_name                   0\n",
              "season                        0\n",
              "ground_id                     0\n",
              "team_count_50runs_last15      0\n",
              "team_winp_last5               0\n",
              "team1only_avg_runs_last15    21\n",
              "team1_winp_team2_last15       0\n",
              "ground_avg_runs_last15       53\n",
              "dtype: int64"
            ]
          },
          "metadata": {},
          "execution_count": 43
        }
      ]
    },
    {
      "cell_type": "code",
      "source": [
        "train['winner_01'] = train.apply(lambda x: 1 if (x['team1']==x['winner']) else 0, axis=1)"
      ],
      "metadata": {
        "id": "UZ0uta6k2h4X"
      },
      "execution_count": null,
      "outputs": []
    },
    {
      "cell_type": "code",
      "source": [
        "train['toss_winner_01'] = np.where(train['toss winner']==train['team1'], 1, 0)\n",
        "test['toss_winner_01'] = np.where(test['toss winner']==test['team1'], 1, 0)"
      ],
      "metadata": {
        "id": "8j4_3xKC2qVl"
      },
      "execution_count": null,
      "outputs": []
    },
    {
      "cell_type": "code",
      "source": [
        "train['toss_decision_01'] = np.where(train['toss decision']=='bat', 1, 0)\n",
        "test['toss_decision_01'] = np.where(test['toss decision']=='bat', 1, 0)"
      ],
      "metadata": {
        "id": "9PqhHnCT2x_t"
      },
      "execution_count": null,
      "outputs": []
    },
    {
      "cell_type": "markdown",
      "source": [
        "## Test data"
      ],
      "metadata": {
        "id": "k8-DeY-lwQVy"
      }
    },
    {
      "cell_type": "code",
      "source": [],
      "metadata": {
        "id": "Zn72e5wnwQnD"
      },
      "execution_count": null,
      "outputs": []
    },
    {
      "cell_type": "code",
      "source": [
        "test.columns"
      ],
      "metadata": {
        "id": "OYVwwaAOqiIR",
        "colab": {
          "base_uri": "https://localhost:8080/"
        },
        "outputId": "e5ff6834-7b56-45f3-d8f3-f1cc801e8db9"
      },
      "execution_count": null,
      "outputs": [
        {
          "output_type": "execute_result",
          "data": {
            "text/plain": [
              "Index(['match id', 'team1', 'team1_id', 'team1_roster_ids', 'team2',\n",
              "       'team2_id', 'team2_roster_ids', 'toss winner', 'toss decision', 'venue',\n",
              "       'city', 'match_dt', 'lighting', 'series_name', 'season', 'ground_id',\n",
              "       'team_count_50runs_last15', 'team_winp_last5',\n",
              "       'team1only_avg_runs_last15', 'team1_winp_team2_last15',\n",
              "       'ground_avg_runs_last15'],\n",
              "      dtype='object')"
            ]
          },
          "metadata": {},
          "execution_count": 10
        }
      ]
    },
    {
      "cell_type": "code",
      "source": [
        "test"
      ],
      "metadata": {
        "id": "9YqzAWEGwp27",
        "outputId": "255b890c-92b5-496b-a3f1-702660a02e31",
        "colab": {
          "base_uri": "https://localhost:8080/"
        }
      },
      "execution_count": null,
      "outputs": [
        {
          "output_type": "execute_result",
          "data": {
            "text/plain": [
              "948"
            ]
          },
          "metadata": {},
          "execution_count": 13
        }
      ]
    },
    {
      "cell_type": "code",
      "source": [
        "len(test)"
      ],
      "metadata": {
        "colab": {
          "base_uri": "https://localhost:8080/"
        },
        "id": "i5j1L5dlwoBz",
        "outputId": "583d318b-9eab-4d35-95e2-fe59e98963b9"
      },
      "execution_count": null,
      "outputs": [
        {
          "output_type": "execute_result",
          "data": {
            "text/plain": [
              "271"
            ]
          },
          "metadata": {},
          "execution_count": 12
        }
      ]
    },
    {
      "cell_type": "code",
      "source": [
        "test['match id'].nunique()"
      ],
      "metadata": {
        "colab": {
          "base_uri": "https://localhost:8080/"
        },
        "id": "vOd1sx9fwQtl",
        "outputId": "90ccbff4-0482-4e0a-a636-db8a7a39af37"
      },
      "execution_count": null,
      "outputs": [
        {
          "output_type": "execute_result",
          "data": {
            "text/plain": [
              "948"
            ]
          },
          "metadata": {},
          "execution_count": 14
        }
      ]
    },
    {
      "cell_type": "code",
      "source": [],
      "metadata": {
        "id": "O7kRqX4dwQ1J"
      },
      "execution_count": null,
      "outputs": []
    },
    {
      "cell_type": "markdown",
      "source": [
        "# Feature engineering"
      ],
      "metadata": {
        "id": "kjEyjwmUtS02"
      }
    },
    {
      "cell_type": "markdown",
      "source": [
        "## Utility functions"
      ],
      "metadata": {
        "id": "nlWwkxG38l44"
      }
    },
    {
      "cell_type": "code",
      "source": [
        "def giveLastNgamesPlayer(player_id, date, n, bat_or_bowl):\n",
        "    '''\n",
        "    Function to get last n games stats of a player before an input date.\n",
        "\n",
        "    Input-\n",
        "    1. player_id: id of the player to get historical data.\n",
        "    2. date: date to look-back and get n games. Stats returned are before this input date.\n",
        "    3. n: Number of historical games stats to return.\n",
        "    4. bat_or_bowl: Kind of stats to return. {'bat': batting stats to return, 'bowl': bowling stats to return}\n",
        "\n",
        "    Output-None\n",
        "\n",
        "    Returns- dataframe having bowling/batting stats from last n games of a player before an input date.\n",
        "    The results are sorted by date.\n",
        "    '''\n",
        "    if bat_or_bowl == 'bat':\n",
        "        df_topick = bt_df\n",
        "        id_col = 'batsman_id'\n",
        "    else:\n",
        "        df_topick = bwl_df\n",
        "        id_col = 'bowler_id'\n",
        "\n",
        "    return df_topick[(df_topick['match_dt']<date) & (df_topick[id_col]==float(player_id))].sort_values(by='match_dt', ascending=False).head(n)\n",
        "\n",
        "\n",
        "def giveAllPrevgamesPlayer(player_id, date, bat_or_bowl):\n",
        "    '''\n",
        "    Function to get all previous games stats of a player before an input date.\n",
        "\n",
        "    Input-\n",
        "    1. player_id: id of the player to get historical data.\n",
        "    2. date: date to look-back and get n games. Stats returned are before this input date.\n",
        "    3. n: Number of historical games stats to return.\n",
        "    4. bat_or_bowl: Kind of stats to return. {'bat': batting stats to return, 'bowl': bowling stats to return}\n",
        "\n",
        "    Output-None\n",
        "\n",
        "    Returns- dataframe having bowling/batting stats from all previous games of a player before an input date.\n",
        "    The results are sorted by date.\n",
        "    '''\n",
        "    if bat_or_bowl == 'bat':\n",
        "        df_topick = bt_df\n",
        "        id_col = 'batsman_id'\n",
        "    else:\n",
        "        df_topick = bwl_df\n",
        "        id_col = 'bowler_id'\n",
        "\n",
        "    return df_topick[(df_topick['match_dt']<date) & (df_topick[id_col]==float(player_id))].sort_values(by='match_dt', ascending=False)\n",
        "\n",
        "#feature 2\n",
        "def no50_100Lastn(player_list, date, n):\n",
        "\n",
        "    player_list = str(player_list).split(':') # split string of ':' separated ids into a list of ids\n",
        "    res_list = []\n",
        "    for player in player_list: # loop over each player_id in roster\n",
        "        df_rel = giveLastNgamesPlayer(player_id=player, date=date, n=n, bat_or_bowl='bat') # getting batting stats from last n games for each player.\n",
        "        df_rel['gte_50runs'] = np.where(df_rel['runs']>=50, 1, 0) # binary indicator to denote whether the player scored atleast 50 in the game (runs>=50).\n",
        "        res_list.append(np.nansum(df_rel['gte_50runs']))# Sum up number of 50s and 100s for the player and append to a list. We will do this for all players.\n",
        "    return np.nansum(res_list)# Sum up values of the list which is sum of 50s and 100s by all players in the roster."
      ],
      "metadata": {
        "id": "njZrHoRjq7Jf"
      },
      "execution_count": null,
      "outputs": []
    },
    {
      "cell_type": "code",
      "source": [
        "# feature 3\n",
        "def diff_in_wktkrs(team1_rost, team2_rost, date):\n",
        "    team1_list = str(team1_rost).split(':')\n",
        "    team2_list = str(team2_rost).split(':')\n",
        "    wktkr_1, wktkr_2 = 0, 0\n",
        "    for player in team1_list:\n",
        "        wktkrs = giveAllPrevgamesPlayer(player, date, bat_or_bowl='bat')['bowler_id'].dropna().unique()\n",
        "        n_playing = [1 if str(x) in team2_rost else 0 for x in wktkrs]\n",
        "        wktkr_1 += np.sum(n_playing)\n",
        "    for player in team2_list:\n",
        "        wktkrs = giveAllPrevgamesPlayer(player, date, bat_or_bowl='bat')['bowler_id'].dropna().unique()\n",
        "        n_playing = [1 if str(x) in team2_rost else 0 for x in wktkrs]\n",
        "        wktkr_2 += np.sum(n_playing)\n",
        "    outp = wktkr_1 - wktkr_2\n",
        "    return outp\n",
        "\n",
        "# feature 4 - returns about 30% NaNs\n",
        "def diff_avg_score_at_ground(team1id, team2id, ground_id, date):\n",
        "    team1_df = match_df[(match_df['match_dt']<date)&                                              # time stipulation\n",
        "                        ((match_df['team1_id']==team1id)|(match_df['team2_id']==team1id))&        # selecting for team1\n",
        "                        (match_df['ground_id']==ground_id)]                                       # all previous games at given ground\n",
        "\n",
        "    team2_df = match_df[(match_df['match_dt']<date)&                                              # time stipulation\n",
        "                        ((match_df['team1_id']==team2id)|(match_df['team2_id']==team2id))&        # selecting for team2\n",
        "                        (match_df['ground_id']==ground_id)]                                       # all previous games at given ground\n",
        "\n",
        "\n",
        "    runs_team1_tossw = team1_df[(team1_df['tosswin_team']==1)&(team1_df['toss decision']=='bat')]['inning1_runs'].sum()\n",
        "    runs_team1_tossl = team1_df[(team1_df['tosswin_team']==0)&(team1_df['toss decision']=='field')]['inning1_runs'].sum()\n",
        "\n",
        "    runs_team2_tossw = team2_df[(team2_df['tosswin_team']==1)&(team2_df['toss decision']=='bat')]['inning1_runs'].sum()\n",
        "    runs_team2_tossl = team2_df[(team2_df['tosswin_team']==0)&(team2_df['toss decision']=='field')]['inning1_runs'].sum()\n",
        "\n",
        "    outp = sum([runs_team1_tossw,runs_team1_tossl]) - sum([runs_team2_tossw, runs_team2_tossl])\n",
        "\n",
        "    if (sum([runs_team1_tossw,runs_team1_tossl])>0) & (sum([runs_team2_tossw, runs_team2_tossl])>0):\n",
        "      return outp\n",
        "    else:\n",
        "      return np.nan       # fix later\n",
        "\n",
        "# feature 5 - returning NaNs\n",
        "def team1_optimal_toss(tosswinteam, tossdec, date, ground_id):\n",
        "    df_ground = match_df[(match_df['match_dt']<date)&                                           # time stipulation\n",
        "                        (match_df['ground_id']==ground_id)]                                     # all previous games at given ground\n",
        "\n",
        "    bt_first_wins = len(match_df[(match_df['tosswin_team']==1)&(match_df['winner_id']==match_df['team1_id'])&(match_df['toss decision']=='bat')]) + len(match_df[(match_df['tosswin_team']==0)&(match_df['winner_id']==match_df['team2_id'])&(match_df['toss decision']=='bat')])\n",
        "    bwl_first_wins = len(match_df[(match_df['tosswin_team']==1)&(match_df['winner_id']==match_df['team1_id'])&(match_df['toss decision']=='field')]) + len(match_df[(match_df['tosswin_team']==0)&(match_df['winner_id']==match_df['team2_id'])&(match_df['toss decision']=='field')])\n",
        "\n",
        "    if bt_first_wins>bwl_first_wins:\n",
        "        optimal = 1\n",
        "    else:\n",
        "        optimal = 0\n",
        "\n",
        "    if optimal==1:\n",
        "      if tosswinteam==1 & tossdec=='bat':\n",
        "        return 1\n",
        "      elif tosswinteam==0 & tossdec=='bat':\n",
        "        return 0\n",
        "    else:\n",
        "      if (tosswinteam==1) & (tossdec=='field'):\n",
        "        return 1\n",
        "      elif (tosswinteam==0) & (tossdec=='field'):\n",
        "        return 0"
      ],
      "metadata": {
        "id": "WFFomGpstWW2"
      },
      "execution_count": null,
      "outputs": []
    },
    {
      "cell_type": "code",
      "source": [
        "# feature 6 - reconsider\n",
        "def tosswinner_matchwinner(team1id, team2id, tosswinteam, date):\n",
        "    team1_df = match_df[(match_df['match_dt']<date)&                                              # time stipulation\n",
        "                        ((match_df['team1_id']==team1id)|(match_df['team2_id']==team1id))]        # selecting for team1\n",
        "    team2_df = match_df[(match_df['match_dt']<date)&                                              # time stipulation\n",
        "                        ((match_df['team1_id']==team2id)|(match_df['team2_id']==team2id))]        # selecting for team2\n",
        "\n",
        "    team1_wins_tossw = len(team1_df[(((team1_df['tosswin_team']==1)&(team1_df['team1_id']==team1id))|((team1_df['tosswin_team']==0)&(team1_df['team2_id']==team1id)))&(team1_df['winner_id']==team1id)])\n",
        "    team2_wins_tossw = len(team2_df[(((team2_df['tosswin_team']==1)&(team2_df['team1_id']==team2id))|((team2_df['tosswin_team']==0)&(team2_df['team2_id']==team2id)))&(team2_df['winner_id']==team2id)])\n",
        "\n",
        "    if tosswinteam==1:\n",
        "      if team1_wins_tossw>team2_wins_tossw:\n",
        "          return 1\n",
        "      else:\n",
        "          return 0\n",
        "    else:\n",
        "      if team1_wins_tossw<team2_wins_tossw:\n",
        "          return 0\n",
        "      else:\n",
        "          return 1\n",
        "\n",
        "# feature 7 - rediscuss\n",
        "\n",
        "\n",
        "# feature 9\n",
        "\n",
        "def diff_strk1_econ2(team1rost, team2rost, date, n):\n",
        "\n",
        "    team1_list = str(team1rost).split(':')\n",
        "    team2_list = str(team2rost).split(':')\n",
        "\n",
        "    strk1, econ2 = [], []\n",
        "    for player in team1_list: # loop over each player_id in roster\n",
        "        strk_rt_avg = giveLastNgamesPlayer(player, date, n, 'bat')['strike_rate'].mean()\n",
        "        if not np.isnan(strk_rt_avg): strk1.append(strk_rt_avg)\n",
        "\n",
        "    for player in team2_list: # loop over each player_id in roster\n",
        "        econ_rt_avg = giveLastNgamesPlayer(player, date, n, 'bowl')['economy'].dropna().mean()\n",
        "        if not np.isnan(econ_rt_avg): econ2.append(econ_rt_avg)\n",
        "\n",
        "    outp = (np.mean(strk1) + np.mean(econ2))/2\n",
        "    return outp\n",
        "\n",
        "# feature 10\n",
        "\n",
        "def diff_avg_catches(team1rost, team2rost, date, n):\n",
        "    pass\n"
      ],
      "metadata": {
        "id": "4AifyuDJ552k"
      },
      "execution_count": null,
      "outputs": []
    },
    {
      "cell_type": "code",
      "source": [
        "# feature 11\n",
        "def diff_bunnies(team1rost, team2rost, date, n):\n",
        "    team1_list = str(team1rost).split(':')\n",
        "    team2_list = str(team2rost).split(':')\n",
        "\n",
        "    bun_bwl1, bun_bwl2 = [], []\n",
        "    for player in team1_list: # loop over each player_id in roster\n",
        "        top2_bwl = list(giveLastNgamesPlayer(player, date, n, 'bat')['bowler_id'].value_counts().index[:2])\n",
        "        bun_bwl2.extend(top2_bwl)\n",
        "\n",
        "    for player in team2_list: # loop over each player_id in roster\n",
        "        top2_bwl = list(giveLastNgamesPlayer(player, date, n, 'bat')['bowler_id'].value_counts().index[:2])\n",
        "        bun_bwl1.extend(top2_bwl)\n",
        "\n",
        "    n_bunbwl1 = len([x for x in bun_bwl1 if x in team1_list])\n",
        "    n_bunbwl2 = len([x for x in bun_bwl2 if x in team2_list])\n",
        "    outp = n_bunbwl1 - n_bunbwl2\n",
        "    return outp\n",
        "\n",
        "# feature 13\n",
        "def diff_potm_winners(team1rost, team2rost, date):\n",
        "    team1_list = str(team1rost).split(':')\n",
        "    team2_list = str(team2rost).split(':')\n",
        "\n",
        "    match_bef = match_df[(match_df['match_dt']<date)]\n",
        "\n",
        "    n_team1_potms = len(match_bef[match_bef['player_of_the_match_id'].isin(team1_list)])      # using number of PoTM awards won by players in the squad, rather than\n",
        "    n_team2_potms = len(match_bef[match_bef['player_of_the_match_id'].isin(team2_list)])      # number of players who have won (at least one) PoTM award\n",
        "\n",
        "    outp = n_team1_potms - n_team2_potms\n",
        "    return outp\n",
        "\n",
        "\n",
        "# feature 15\n",
        "def weighted_bowlstyle_weakness(team1_rost, team2_rost, date):\n",
        "    team1_list = str(team1_rost).split(':')\n",
        "    team2_list = str(team2_rost).split(':')\n",
        "    wktkr_1, wktkr_2 = 0, 0\n",
        "    weakstyles_1, weakstyles_2 = [], []\n",
        "\n",
        "    playing_styles_1 = [bwl_df[bwl_df['bowler_id']==player].loc[bwl_df[bwl_df['bowler_id']==player].index[0], 'bowler_details'].split(\":\")[-2] if len(bwl_df[bwl_df['bowler_id']==player])>0 else 'btsm' for player in team1_list]\n",
        "    playing_styles_2 = [bwl_df[bwl_df['bowler_id']==player].loc[bwl_df[bwl_df['bowler_id']==player].index[0], 'bowler_details'].split(\":\")[-2] if len(bwl_df[bwl_df['bowler_id']==player])>0 else 'btsm' for player in team2_list]\n",
        "\n",
        "    for player in team1_list:\n",
        "        styles = list(giveAllPrevgamesPlayer(player, date, bat_or_bowl='bat')['bowler_details'].str.split(\":\").str[-2].value_counts()[:1])\n",
        "        weakstyles_1.extend(styles)\n",
        "\n",
        "    for player in team2_list:\n",
        "        styles = list(giveAllPrevgamesPlayer(player, date, bat_or_bowl='bat')['bowler_details'].str.split(\":\").str[-2].value_counts()[:1])\n",
        "        weakstyles_2.extend(playing_styles_2)\n",
        "\n",
        "    weakbts_1 = len([x for x in weakstyles_1 if x in playing_styles_2])\n",
        "    weakbts_2 = len([x for x in weakstyles_2 if x in playing_styles_1])\n",
        "\n",
        "    outp = (weakbts_1 + weakbts_2) / 2\n",
        "    return outp\n",
        "\n",
        "    # complete"
      ],
      "metadata": {
        "id": "aW_P1a32SIl7"
      },
      "execution_count": null,
      "outputs": []
    },
    {
      "cell_type": "markdown",
      "source": [
        "May be incorrect"
      ],
      "metadata": {
        "id": "LFQzxyg6p3be"
      }
    },
    {
      "cell_type": "code",
      "source": [
        "#feature 14\n",
        "def lighting_advg(team1id, team2id, ground_id, date):\n",
        "    team1_df = match_df[(match_df['match_dt']<date)&                                              # time stipulation\n",
        "                        ((match_df['team1_id']==team1id)|(match_df['team2_id']==team1id))&        # selecting for team1\n",
        "                        (match_df['ground_id']==ground_id)]                                       # all previous games at given ground\n",
        "\n",
        "    team2_df = match_df[(match_df['match_dt']<date)&                                              # time stipulation\n",
        "                        ((match_df['team1_id']==team2id)|(match_df['team2_id']==team2id))&        # selecting for team2\n",
        "                        (match_df['ground_id']==ground_id)]                                       # all previous games at given ground\n",
        "\n",
        "    lighting_team1_n = team1_df[(team1_df['winner_id']==team1id)&(team1_df['lighting']=='night match')].sum()\n",
        "    lighting_team1_d= team1_df[(team1_df['winner_id']==team1id)&(team1_df['lighting']=='day match')].sum()\n",
        "    lighting_team1_dn = team1_df[(team1_df['winner_id']==team1id)&(team1_df['lighting']=='day/night match')].sum()\n",
        "\n",
        "    lighting_team2_n = team2_df[(team2_df['winner_id']==team2id)&(team1_df['lighting']=='night match')].sum()\n",
        "    lighting_team2_d= team2_df[(team2_df['winner_id']==team2id)&(team1_df['lighting']=='day match')].sum()\n",
        "    lighting_team2_dn = team2_df[(team2_df['winner_id']==team2id)&(team1_df['lighting']=='day/night match')].sum()\n",
        "\n",
        "    if lighting_team1_n > lighting_team1_d and lighting_team1_n > lighting_team1_dn:\n",
        "        return \"Greater prob for winning at night matches\"\n",
        "    elif lighting_team1_d > lighting_team1_n and lighting_team1_d > lighting_team1_dn:\n",
        "        return \"Greater prob for winning at day matches\"\n",
        "    elif lighting_team1_dn > lighting_team1_n and lighting_team1_dn > lighting_team1_d:\n",
        "        return \"Greater prob for winning at day/night matches\"\n",
        "    else:\n",
        "        return \"Greater prob for winning at day/night matches\"\n",
        "\n",
        "\n",
        "    if lighting_team2_n > lighting_team2_d and lighting_team2_n > lighting_team2_dn:\n",
        "        return \"Greater prob for winning at night matches\"\n",
        "    elif lighting_team2_d > lighting_team2_n and lighting_team2_d > lighting_team2_dn:\n",
        "        return \"Greater prob for winning at day matches\"\n",
        "    elif lighting_team2_dn > lighting_team2_n and lighting_team2_dn > lighting_team2_d:\n",
        "        return \"Greater prob for winning at day/night matches\"\n",
        "    else:\n",
        "        return \"No clear lighting advantage\""
      ],
      "metadata": {
        "id": "v-rH4RCx56RK"
      },
      "execution_count": null,
      "outputs": []
    },
    {
      "cell_type": "code",
      "source": [
        "# feature 15\n",
        "def best_team_season():\n",
        "\n",
        "      # Group by season and winner, then count the occurrences\n",
        "        count_winner = match_df.groupby(['season', 'winner_id']).size().reset_index(name='counts')\n",
        "      # Find the winner with the maximum occurrences for each season\n",
        "        max_winners = count_winner.loc[count_winner.groupby('season')['counts'].idxmax()]\n",
        "        return max_winners(winner_id)"
      ],
      "metadata": {
        "id": "9mGDHOQjp24C"
      },
      "execution_count": null,
      "outputs": []
    },
    {
      "cell_type": "markdown",
      "source": [
        "## Adding features"
      ],
      "metadata": {
        "id": "kng17EoqqvGd"
      }
    },
    {
      "cell_type": "markdown",
      "source": [
        "Helper features (drop at the end):"
      ],
      "metadata": {
        "id": "dIKweQDu_qpm"
      }
    },
    {
      "cell_type": "code",
      "source": [
        "match_df['tosswin_team'] = match_df.apply(lambda x: 1 if (x['toss winner']==x['team1']) else 0, axis=1)\n",
        "train['tosswin_team'] = train.apply(lambda x: 1 if (x['toss winner']==x['team1']) else 0, axis=1)\n",
        "# test['tosswin_team'] = test.apply(lambda x: 1 if (x['toss winner']==x['team1']) else 0, axis=1)\n",
        "train['winner_01'] = train.apply(lambda x: 0 if (x['team1']==x['winner']) else 1, axis=1)"
      ],
      "metadata": {
        "id": "U0CVxSLm_jDF"
      },
      "execution_count": null,
      "outputs": []
    },
    {
      "cell_type": "code",
      "source": [],
      "metadata": {
        "id": "BK3Mw_u8NTaD"
      },
      "execution_count": null,
      "outputs": []
    },
    {
      "cell_type": "markdown",
      "source": [
        "Train features:"
      ],
      "metadata": {
        "id": "DYNXJ1mO_y5B"
      }
    },
    {
      "cell_type": "code",
      "source": [
        "train['team1_count_50_100s_last15'] = train.progress_apply(lambda x: no50_100Lastn(player_list=x['team1_roster_ids'], date=x['match_dt'], n=15), axis=1)"
      ],
      "metadata": {
        "id": "P5tGFjipfTAi",
        "colab": {
          "base_uri": "https://localhost:8080/"
        },
        "outputId": "9cbf629f-b864-48bd-d92b-0435a829694a"
      },
      "execution_count": null,
      "outputs": [
        {
          "output_type": "stream",
          "name": "stderr",
          "text": [
            "100%|██████████| 948/948 [00:43<00:00, 21.82it/s]\n"
          ]
        }
      ]
    },
    {
      "cell_type": "code",
      "source": [
        "train['team2_count_50_100s_last15'] = train.progress_apply(lambda x: no50_100Lastn(player_list=x['team2_roster_ids'], date=x['match_dt'], n=15), axis=1)"
      ],
      "metadata": {
        "id": "-6TG9hX_fTRB",
        "colab": {
          "base_uri": "https://localhost:8080/"
        },
        "outputId": "0c7d5a48-5d89-4571-c7bc-0727cae73b13"
      },
      "execution_count": null,
      "outputs": [
        {
          "output_type": "stream",
          "name": "stderr",
          "text": [
            "100%|██████████| 948/948 [00:44<00:00, 21.41it/s]\n"
          ]
        }
      ]
    },
    {
      "cell_type": "code",
      "source": [
        "train['diff_50or100_last15'] = (train['team1_count_50_100s_last15']+1)/(train['team2_count_50_100s_last15']+1)\n",
        "train.drop(columns=['team1_count_50_100s_last15','team2_count_50_100s_last15'], inplace=True)\n"
      ],
      "metadata": {
        "id": "0X632XiajBJd"
      },
      "execution_count": null,
      "outputs": []
    },
    {
      "cell_type": "code",
      "source": [
        "train['diff_potm_winners'] = train.progress_apply(lambda x: diff_potm_winners(x['team1_roster_ids'], x['team2_roster_ids'], x['match_dt']), axis=1)"
      ],
      "metadata": {
        "id": "g2z8CPyK_8tD",
        "colab": {
          "base_uri": "https://localhost:8080/"
        },
        "outputId": "c6f6e473-d376-46c4-8d57-77fe8c8dba72"
      },
      "execution_count": null,
      "outputs": [
        {
          "output_type": "stream",
          "name": "stderr",
          "text": [
            "100%|██████████| 948/948 [00:02<00:00, 423.91it/s]\n"
          ]
        }
      ]
    },
    {
      "cell_type": "code",
      "source": [
        "train['diff_in_wktkrs'] = train.progress_apply(lambda x: diff_in_wktkrs(x['team1_roster_ids'], x['team2_roster_ids'], x['match_dt']), axis=1)"
      ],
      "metadata": {
        "colab": {
          "base_uri": "https://localhost:8080/"
        },
        "id": "cg1ixb5mErki",
        "outputId": "e70531e6-fb42-47cd-8e3e-3934e4b3d87f"
      },
      "execution_count": null,
      "outputs": [
        {
          "output_type": "stream",
          "name": "stderr",
          "text": [
            "100%|██████████| 948/948 [01:34<00:00, 10.06it/s]\n"
          ]
        }
      ]
    },
    {
      "cell_type": "code",
      "source": [
        "train['diff_avg_score_ground'] = train.progress_apply(lambda x: diff_avg_score_at_ground(x['team1_id'], x['team2_id'], x['ground_id'], x['match_dt']), axis=1)"
      ],
      "metadata": {
        "colab": {
          "base_uri": "https://localhost:8080/"
        },
        "id": "sobVRxUQHoMu",
        "outputId": "89ebb0ee-b2cd-40e3-b9fb-a6323181a5e4"
      },
      "execution_count": null,
      "outputs": [
        {
          "output_type": "stream",
          "name": "stderr",
          "text": [
            "100%|██████████| 948/948 [00:08<00:00, 115.54it/s]\n"
          ]
        }
      ]
    },
    {
      "cell_type": "code",
      "source": [
        "train['team1_optimal_toss'] = train.progress_apply(lambda x: team1_optimal_toss(x['tosswin_team'], x['toss decision'], x['match_dt'], x['ground_id']), axis=1)"
      ],
      "metadata": {
        "colab": {
          "base_uri": "https://localhost:8080/"
        },
        "id": "PzZiX4goErdy",
        "outputId": "0e1ddf4f-6f38-4499-8559-c2f53fe2626a"
      },
      "execution_count": null,
      "outputs": [
        {
          "output_type": "stream",
          "name": "stderr",
          "text": [
            "100%|██████████| 948/948 [00:06<00:00, 143.88it/s]\n"
          ]
        }
      ]
    },
    {
      "cell_type": "code",
      "source": [
        "train['tosswin_matchwin'] = train.progress_apply(lambda x: tosswinner_matchwinner(x['team1_id'], x['team2_id'], x['tosswin_team'], x['match_dt']), axis=1)"
      ],
      "metadata": {
        "colab": {
          "base_uri": "https://localhost:8080/"
        },
        "id": "KfXRXOzOErX5",
        "outputId": "3bddd530-a0a9-4644-ae8b-e940ece23613"
      },
      "execution_count": null,
      "outputs": [
        {
          "output_type": "stream",
          "name": "stderr",
          "text": [
            "100%|██████████| 948/948 [00:05<00:00, 180.78it/s]\n"
          ]
        }
      ]
    },
    {
      "cell_type": "code",
      "source": [
        "train['diff_strk1_econ2'] = train.progress_apply(lambda x: diff_strk1_econ2(x['team1_roster_ids'], x['team2_roster_ids'], x['match_dt'], n=15), axis=1)"
      ],
      "metadata": {
        "colab": {
          "base_uri": "https://localhost:8080/"
        },
        "id": "_nrV6AOtErPh",
        "outputId": "849d7892-688d-4e61-baa9-46c0426b1864"
      },
      "execution_count": null,
      "outputs": [
        {
          "output_type": "stream",
          "name": "stderr",
          "text": [
            "  2%|▏         | 20/948 [00:01<01:03, 14.66it/s]/usr/local/lib/python3.10/dist-packages/numpy/core/fromnumeric.py:3504: RuntimeWarning: Mean of empty slice.\n",
            "  return _methods._mean(a, axis=axis, dtype=dtype,\n",
            "/usr/local/lib/python3.10/dist-packages/numpy/core/_methods.py:129: RuntimeWarning: invalid value encountered in scalar divide\n",
            "  ret = ret.dtype.type(ret / rcount)\n",
            "100%|██████████| 948/948 [01:12<00:00, 13.01it/s]\n"
          ]
        }
      ]
    },
    {
      "cell_type": "code",
      "source": [
        "train['diff_bunnies'] = train.progress_apply(lambda x: diff_bunnies(x['team1_roster_ids'], x['team2_roster_ids'], x['match_dt'], n=15), axis=1)"
      ],
      "metadata": {
        "colab": {
          "base_uri": "https://localhost:8080/"
        },
        "id": "jerYXMFRJaRi",
        "outputId": "a6b63a21-e639-449d-ade3-2118b5c29375"
      },
      "execution_count": null,
      "outputs": [
        {
          "output_type": "stream",
          "name": "stderr",
          "text": [
            "100%|██████████| 948/948 [01:37<00:00,  9.74it/s]\n"
          ]
        }
      ]
    },
    {
      "cell_type": "code",
      "source": [
        "train['bowlstyle_weakness_comp'] = train.progress_apply(lambda x: weighted_bowlstyle_weakness(x['team1_roster_ids'], x['team2_roster_ids'], x['match_dt']), axis=1)"
      ],
      "metadata": {
        "colab": {
          "base_uri": "https://localhost:8080/"
        },
        "id": "LnW_VMlMJaXH",
        "outputId": "18afc65c-4905-4b7d-e5ec-84800b9ff784"
      },
      "execution_count": null,
      "outputs": [
        {
          "output_type": "stream",
          "name": "stderr",
          "text": [
            "100%|██████████| 948/948 [01:59<00:00,  7.93it/s]\n"
          ]
        }
      ]
    },
    {
      "cell_type": "code",
      "source": [],
      "metadata": {
        "id": "wCFbItCXJacg"
      },
      "execution_count": null,
      "outputs": []
    },
    {
      "cell_type": "code",
      "source": [],
      "metadata": {
        "id": "7A9Cs_XJEq5r"
      },
      "execution_count": null,
      "outputs": []
    },
    {
      "cell_type": "markdown",
      "source": [
        "Taking ratio of (number of 50 runs in last 15 games for team1) to (number of 50 runs in last 15 games for team2). Adding 1 to handle divide by zero exceptions."
      ],
      "metadata": {
        "id": "Q2LT5tly0XQc"
      }
    },
    {
      "cell_type": "markdown",
      "source": [
        "RnP of team_count_50runs_last15 computed over the train data. Slope denotes ratio of right most bin to left most bin."
      ],
      "metadata": {
        "id": "_WkP11Kb0o-b"
      }
    },
    {
      "cell_type": "code",
      "source": [
        "createRnP(train_data, 'team_count_50runs_last15')"
      ],
      "metadata": {
        "id": "AWQt-iAvjBat"
      },
      "execution_count": null,
      "outputs": []
    },
    {
      "cell_type": "code",
      "source": [
        "test_data['team1_count_50runs_last15'] = test_data.progress_apply(lambda x: \\\n",
        "            no50sLastn(player_list=x['team1_roster_ids'], date=x['match_dt'], n=15), axis=1)\n",
        "test_data['team2_count_50runs_last15'] = test_data.progress_apply(lambda x: \\\n",
        "            no50sLastn(player_list=x['team2_roster_ids'], date=x['match_dt'], n=15), axis=1)\n",
        "test_data['team_count_50runs_last15'] = (test_data['team1_count_50runs_last15'])/(test_data['team2_count_50runs_last15']+1)\n",
        "test_data.drop(columns=['team1_count_50runs_last15','team2_count_50runs_last15'], inplace=True)\n",
        "test_data.shape\n",
        "test_data.head(2)\n"
      ],
      "metadata": {
        "id": "Pl6rIzKjjBjH"
      },
      "execution_count": null,
      "outputs": []
    },
    {
      "cell_type": "markdown",
      "source": [
        "2. team_winp_last5"
      ],
      "metadata": {
        "id": "gVPNMCY51BPW"
      }
    },
    {
      "cell_type": "code",
      "source": [],
      "metadata": {
        "id": "abni6BoLjBl2"
      },
      "execution_count": null,
      "outputs": []
    },
    {
      "cell_type": "code",
      "source": [],
      "metadata": {
        "id": "gviYFXSJjBpF"
      },
      "execution_count": null,
      "outputs": []
    },
    {
      "cell_type": "markdown",
      "source": [
        "## Building area"
      ],
      "metadata": {
        "id": "ZZnRGg7ttSot"
      }
    },
    {
      "cell_type": "code",
      "source": [
        "bt_df.columns, bwl_df.columns, match_df.columns"
      ],
      "metadata": {
        "colab": {
          "base_uri": "https://localhost:8080/"
        },
        "id": "VmPvjIBtzDSZ",
        "outputId": "641097d1-1294-46a8-8460-f2a43812dd2d"
      },
      "execution_count": null,
      "outputs": [
        {
          "output_type": "execute_result",
          "data": {
            "text/plain": [
              "(Index(['match id', 'batsman', 'batsman_id', 'batsman_details',\n",
              "        'is_batsman_captain', 'is_batsman_keeper', 'inning', 'runs',\n",
              "        'balls_faced', 'over_faced_first', 'wicket kind', 'out_by_bowler',\n",
              "        'out_by_fielder', 'bowler_id', 'bowler_details', 'is_bowler_keeper',\n",
              "        'is_bowler_captain', 'strike_rate', 'Fours', 'Sixes', 'match_dt'],\n",
              "       dtype='object'),\n",
              " Index(['match id', 'bowler', 'bowler_id', 'bowler_details',\n",
              "        'is_bowler_captain', 'is_bowler_keeper', 'inning', 'runs',\n",
              "        'wicket_count', 'balls_bowled', 'economy', 'maiden', 'dots', 'Fours',\n",
              "        'Sixes', 'wides', 'noballs', 'match_dt'],\n",
              "       dtype='object'),\n",
              " Index(['match id', 'team1', 'team2', 'winner', 'by', 'win amount',\n",
              "        'toss winner', 'toss decision', 'venue', 'city', 'match_dt', 'lighting',\n",
              "        'series_name', 'season', 'ground_id', 'umpire1', 'umpire2',\n",
              "        'inning1_runs', 'inning1_wickets', 'inning1_balls', 'inning2_runs',\n",
              "        'inning2_wickets', 'inning2_balls', 'team1_id', 'team1_roster_ids',\n",
              "        'team2_id', 'team2_roster_ids', 'series_type', 'winner_id',\n",
              "        'player_of_the_match_id', 'tosswin_team'],\n",
              "       dtype='object'))"
            ]
          },
          "metadata": {},
          "execution_count": 114
        }
      ]
    },
    {
      "cell_type": "code",
      "source": [
        "bwl_df['bowler_details'].unique()"
      ],
      "metadata": {
        "colab": {
          "base_uri": "https://localhost:8080/"
        },
        "collapsed": true,
        "id": "uv3hGvP0_zx4",
        "outputId": "21b06f80-06d6-42f6-e213-3398ae93ab84"
      },
      "execution_count": null,
      "outputs": [
        {
          "output_type": "execute_result",
          "data": {
            "text/plain": [
              "array(['NZ:Right-hand bat:Right-arm medium-fast:',\n",
              "       'NZ:Left-hand bat:Right-arm medium-fast:',\n",
              "       'NED:Right-hand bat:Right-arm medium-fast:',\n",
              "       'NZ:Right-hand bat:Legbreak googly:',\n",
              "       'NZ:Left-hand bat:Slow left-arm orthodox:',\n",
              "       'NZ:Right-hand bat:Right-arm medium:',\n",
              "       'NZ:Right-hand bat:Right-arm offbreak:',\n",
              "       'NZ:Right-hand bat:Right-arm fast-medium:',\n",
              "       'AUS:Right-hand bat:Right-arm fast-medium:',\n",
              "       'AUS:Right-hand bat:Right-arm offbreak:',\n",
              "       'AUS:Right-hand bat:Right-arm medium-fast:',\n",
              "       'AUS:Right-hand bat:Left-arm fast-medium:',\n",
              "       'AUS:Right-hand bat:Legbreak:',\n",
              "       'PAK:Left-hand bat:Slow left-arm orthodox:',\n",
              "       'AUS:Left-hand bat:Right-arm fast-medium:',\n",
              "       'AFG:Right-hand bat:Right-arm offbreak:',\n",
              "       'AUS:Right-hand bat:Legbreak googly:',\n",
              "       'ENG:Right-hand bat:Right-arm medium-fast:',\n",
              "       'AUS:Left-hand bat:Slow left-arm orthodox:',\n",
              "       'ITA:Right-hand bat:Right-arm offbreak:',\n",
              "       'AUS:Left-hand bat:Left-arm fast-medium:',\n",
              "       'WI:Right-hand bat:Right-arm fast-medium:',\n",
              "       'AUS:Right-hand bat:Slow left-arm orthodox:',\n",
              "       'NZ:Right-hand bat:Slow left-arm orthodox:',\n",
              "       'NZ:Left-hand bat:Left-arm fast-medium:',\n",
              "       'NZ:Right-hand bat:Left-arm wrist-spin:',\n",
              "       'AUS:Left-hand bat:Right-arm fast:',\n",
              "       'AUS:Right-hand bat:Right-arm fast:',\n",
              "       'AUS:Right-hand bat:Left-arm medium-fast:',\n",
              "       'AFG:Left-hand bat:Left-arm wrist-spin:',\n",
              "       'AUS:Left-hand bat:Left-arm wrist-spin:',\n",
              "       'SA:Right-hand bat:Right-arm offbreak:',\n",
              "       'NEP:Right-hand bat:Legbreak googly:',\n",
              "       'NZ:Left-hand bat:Left-arm medium-fast:',\n",
              "       'NZ:Right-hand bat:Legbreak:',\n",
              "       'NZ:Right-hand bat:Left-arm fast-medium:',\n",
              "       'ENG:Right-hand bat:Right-arm fast-medium:',\n",
              "       'ENG:Right-hand bat:Slow left-arm orthodox:',\n",
              "       'AUS:Right-hand bat:Right-arm medium:',\n",
              "       'AFG:Right-hand bat:Legbreak googly:',\n",
              "       'AFG:Right-hand bat:Left-arm wrist-spin:',\n",
              "       'ENG:Right-hand bat:Right-arm offbreak:',\n",
              "       'NZ:Left-hand bat:Right-arm medium:',\n",
              "       'NZ:Right-hand bat:Right-arm fast:',\n",
              "       'AUS:Left-hand bat:Right-arm offbreak:',\n",
              "       'PAK:Right-hand bat:Right-arm fast:',\n",
              "       'AUS:Left-hand bat:Left-arm medium:',\n",
              "       'NZ:Left-hand bat:Right-arm offbreak:',\n",
              "       'IND:Right-hand bat:Right-arm medium:',\n",
              "       'IND:Left-hand bat:Slow left-arm orthodox:',\n",
              "       'IND:Left-hand bat:Left-arm medium:',\n",
              "       'IND:Right-hand bat:Right-arm medium-fast:',\n",
              "       'IND:Left-hand bat:Left-arm fast-medium:',\n",
              "       'IND:Right-hand bat:Right-arm fast-medium:',\n",
              "       'IND:Right-hand bat:Slow left-arm orthodox:',\n",
              "       'IND:Left-hand bat:Left-arm medium-fast:',\n",
              "       'IND:Right-hand bat:Right-arm offbreak:',\n",
              "       'IND:Right-hand bat:Legbreak:',\n",
              "       'IND:Left-hand bat:Legbreak googly:',\n",
              "       'IND:Left-hand bat:Right-arm offbreak:',\n",
              "       'IND:Right-hand bat:Right-arm fast:',\n",
              "       'IND:Right-hand bat:Legbreak googly:',\n",
              "       'IND:Left-hand bat:Legbreak:',\n",
              "       'IND:Right-hand bat:Left-arm medium:',\n",
              "       'IND:Right-hand bat:Left-arm fast-medium:',\n",
              "       'IND:Right-hand bat:Left-arm medium-fast:',\n",
              "       'IND:Left-hand bat:Right-arm medium:',\n",
              "       'ENG:Right-hand bat:Legbreak:', 'SA:Left-hand bat:Right-arm fast:',\n",
              "       'IND:Left-hand bat:None:', 'IND:Right-hand bat:None:',\n",
              "       'NZ:Right-hand bat:None:',\n",
              "       'SA:Left-hand bat:Right-arm medium-fast:',\n",
              "       'SA:Right-hand bat:Slow left-arm orthodox:',\n",
              "       'SA:Right-hand bat:Right-arm medium:',\n",
              "       'SA:Right-hand bat:Right-arm medium-fast:',\n",
              "       'SA:Right-hand bat:Right-arm fast-medium:',\n",
              "       'SA:Right-hand bat:Left-arm wrist-spin:',\n",
              "       'PAK:Left-hand bat:Right-arm medium:',\n",
              "       'PAK:Left-hand bat:Left-arm fast:', 'PAK:Left-hand bat:Legbreak:',\n",
              "       'PAK:Right-hand bat:Right-arm offbreak:',\n",
              "       'PAK:Right-hand bat:Right-arm medium-fast:',\n",
              "       'PAK:Right-hand bat:Legbreak:',\n",
              "       'SA:Left-hand bat:Slow left-arm orthodox:',\n",
              "       'SA:Right-hand bat:Left-arm fast:', 'SA:Right-hand bat:Legbreak:',\n",
              "       'SA:Right-hand bat:Right-arm fast:',\n",
              "       'PAK:Right-hand bat:Right-arm medium:',\n",
              "       'PAK:Left-hand bat:Left-arm fast-medium:',\n",
              "       'AFG:Right-hand bat:Legbreak:',\n",
              "       'PAK:Right-hand bat:Left-arm medium-fast:',\n",
              "       'SA:Left-hand bat:Left-arm wrist-spin:',\n",
              "       'SA:Right-hand bat:Left-arm medium-fast:',\n",
              "       'NAM:Right-hand bat:Right-arm medium-fast:',\n",
              "       'PAK:Right-hand bat:Left-arm fast:',\n",
              "       'PAK:Right-hand bat:Legbreak googly:',\n",
              "       'PAK:Left-hand bat:Left-arm medium:',\n",
              "       'PAK:Left-hand bat:Left-arm medium-fast:',\n",
              "       'SA:Left-hand bat:Left-arm fast-medium:',\n",
              "       'PAK:Left-hand bat:Right-arm medium-fast:',\n",
              "       'SA:Left-hand bat:Right-arm offbreak:',\n",
              "       'ENG:Left-hand bat:Right-arm offbreak:',\n",
              "       'PAK:Right-hand bat:Right-arm fast-medium:',\n",
              "       'SA:Left-hand bat:Right-arm medium:',\n",
              "       'SA:Right-hand bat:Legbreak googly:',\n",
              "       'WI:Right-hand bat:Right-arm medium:',\n",
              "       'WI:Right-hand bat:Slow left-arm orthodox:',\n",
              "       'WI:Right-hand bat:Right-arm fast:',\n",
              "       'WI:Right-hand bat:Right-arm medium-fast:',\n",
              "       'WI:Right-hand bat:Right-arm offbreak:',\n",
              "       'WI:Left-hand bat:Left-arm fast-medium:',\n",
              "       'SL:Left-hand bat:Right-arm offbreak:',\n",
              "       'SL:Right-hand bat:Right-arm medium:',\n",
              "       'SL:Right-hand bat:Legbreak:',\n",
              "       'SL:Right-hand bat:Right-arm fast-medium:',\n",
              "       'SL:Right-hand bat:Right-arm fast:',\n",
              "       'SL:Left-hand bat:Right-arm medium-fast:',\n",
              "       'SL:Right-hand bat:Left-arm wrist-spin:',\n",
              "       'ENG:Left-hand bat:Right-arm fast-medium:',\n",
              "       'ENG:Right-hand bat:Right-arm fast:',\n",
              "       'ENG:Left-hand bat:Left-arm medium-fast:',\n",
              "       'ZIM:Right-hand bat:Legbreak:',\n",
              "       'ZIM:Right-hand bat:Right-arm fast-medium:',\n",
              "       'ZIM:Left-hand bat:Left-arm fast-medium:',\n",
              "       'ZIM:Left-hand bat:Legbreak:',\n",
              "       'ZIM:Left-hand bat:Slow left-arm orthodox:',\n",
              "       'ZIM:Right-hand bat:Right-arm offbreak:',\n",
              "       'AFG:Right-hand bat:Slow left-arm orthodox:',\n",
              "       'AFG:Left-hand bat:Left-arm fast-medium:',\n",
              "       'AFG:Right-hand bat:Right-arm medium:',\n",
              "       'AFG:Right-hand bat:Right-arm medium-fast:',\n",
              "       'ZIM:Left-hand bat:Right-arm medium:',\n",
              "       'AFG:Right-hand bat:Left-arm fast-medium:',\n",
              "       'BAN:Right-hand bat:Right-arm offbreak:',\n",
              "       'BAN:Left-hand bat:Right-arm medium-fast:',\n",
              "       'BAN:Left-hand bat:Left-arm fast-medium:',\n",
              "       'BAN:Left-hand bat:Slow left-arm orthodox:',\n",
              "       'BAN:Left-hand bat:Left-arm medium-fast:',\n",
              "       'BAN:Left-hand bat:Right-arm fast:',\n",
              "       'BAN:Right-hand bat:Right-arm fast:',\n",
              "       'WI:Left-hand bat:Right-arm offbreak:',\n",
              "       'SCOT:Right-hand bat:Right-arm fast-medium:',\n",
              "       'ENG:Right-hand bat:Left-arm medium-fast:',\n",
              "       'USA:Right-hand bat:Right-arm medium:',\n",
              "       'ENG:Right-hand bat:Legbreak googly:',\n",
              "       'ENG:Right-hand bat:Right-arm medium:',\n",
              "       'NED:Right-hand bat:Left-arm fast-medium:',\n",
              "       'ITA:Right-hand bat:Right-arm medium-fast:',\n",
              "       'ENG:Left-hand bat:Slow left-arm orthodox:',\n",
              "       'ENG:Left-hand bat:Left-arm fast-medium:',\n",
              "       'ENG:Left-hand bat:Left-arm medium:',\n",
              "       'SCOT:Right-hand bat:Right-arm medium-fast:',\n",
              "       'NED:Right-hand bat:Slow left-arm orthodox:',\n",
              "       'ENG:Left-hand bat:Right-arm medium-fast:',\n",
              "       'ENG:Right-hand bat:Left-arm wrist-spin:',\n",
              "       'NED:Right-hand bat:Right-arm offbreak:',\n",
              "       'ENG:Left-hand bat:Legbreak:',\n",
              "       'IRE:Right-hand bat:Right-arm offbreak:',\n",
              "       'ENG:Left-hand bat:Right-arm fast:',\n",
              "       'SCOT:Right-hand bat:Right-arm medium:',\n",
              "       'NED:Right-hand bat:Right-arm fast-medium:',\n",
              "       'ENG:Right-hand bat:Left-arm fast-medium:',\n",
              "       'ENG:Left-hand bat:Left-arm fast:',\n",
              "       'NED:Right-hand bat:Right-arm fast:',\n",
              "       'SA:Left-hand bat:Left-arm medium-fast:',\n",
              "       'ENG:Right-hand bat:Left-arm fast:',\n",
              "       'USA:Right-hand bat:Right-arm fast-medium:',\n",
              "       'ENG:Left-hand bat:Right-arm medium:',\n",
              "       'PAK:Right-hand bat:Slow left-arm orthodox:',\n",
              "       'UAE:Right-hand bat:Right-arm medium-fast:',\n",
              "       'IRE:Left-hand bat:Right-arm fast-medium:',\n",
              "       'IRE:Right-hand bat:Right-arm fast-medium:',\n",
              "       'IRE:Right-hand bat:Right-arm medium:',\n",
              "       'IRE:Right-hand bat:Slow left-arm orthodox:',\n",
              "       'IRE:Right-hand bat:Legbreak googly:',\n",
              "       'IRE:Left-hand bat:Right-arm medium-fast:',\n",
              "       'IRE:Right-hand bat:Right-arm medium-fast:',\n",
              "       'IRE:Left-hand bat:Right-arm offbreak:',\n",
              "       'IRE:Left-hand bat:Slow left-arm orthodox:',\n",
              "       'IRE:Right-hand bat:None:', 'IRE:Right-hand bat:Legbreak:',\n",
              "       'SL:Right-hand bat:Left-arm medium-fast:',\n",
              "       'IRE:None:Right-arm medium-fast:',\n",
              "       'BER:Left-hand bat:Slow left-arm orthodox:',\n",
              "       'ZIM:Right-hand bat:Right-arm medium:',\n",
              "       'IRE:Right-hand bat:Right-arm fast:',\n",
              "       'AUS:Left-hand bat:Right-arm medium-fast:',\n",
              "       'WI:Left-hand bat:Slow left-arm orthodox:',\n",
              "       'AUS:Left-hand bat:Left-arm fast:',\n",
              "       'WI:Left-hand bat:Legbreak googly:',\n",
              "       'WI:Right-hand bat:Left-arm fast-medium:',\n",
              "       'WI:Left-hand bat:Right-arm fast:',\n",
              "       'BAN:Left-hand bat:Right-arm offbreak:',\n",
              "       'SL:Right-hand bat:Right-arm medium-fast:',\n",
              "       'SL:Right-hand bat:Right-arm offbreak:',\n",
              "       'IND:Left-hand bat:Left-arm wrist-spin:',\n",
              "       'WI:Left-hand bat:Right-arm medium:',\n",
              "       'WI:Left-hand bat:Left-arm medium-fast:',\n",
              "       'WI:Left-hand bat:Right-arm fast-medium:',\n",
              "       'WI:Right-hand bat:Legbreak:',\n",
              "       'SL:Right-hand bat:Slow left-arm orthodox:',\n",
              "       'SCOT:Right-hand bat:Right-arm offbreak:',\n",
              "       'SCOT:Left-hand bat:Slow left-arm orthodox:',\n",
              "       'SCOT:Left-hand bat:Right-arm offbreak:',\n",
              "       'SCOT:Right-hand bat:Right-arm fast:',\n",
              "       'IRE:None:Slow left-arm orthodox:',\n",
              "       'SCOT:Right-hand bat:Legbreak:',\n",
              "       'SCOT:Right-hand bat:Slow left-arm orthodox:',\n",
              "       'PNG:Left-hand bat:Right-arm offbreak:',\n",
              "       'PNG:Right-hand bat:Right-arm medium-fast:',\n",
              "       'PNG:Left-hand bat:Legbreak:',\n",
              "       'PNG:Right-hand bat:Left-arm medium:',\n",
              "       'PNG:Right-hand bat:Left-arm fast:', 'PNG:Left-hand bat:None:',\n",
              "       'NAM:Right-hand bat:Slow left-arm orthodox:',\n",
              "       'NAM:Right-hand bat:Left-arm medium-fast:',\n",
              "       'NAM:Left-hand bat:Left-arm fast-medium:',\n",
              "       'NAM:Left-hand bat:Right-arm fast-medium:',\n",
              "       'NAM:Right-hand bat:Left-arm fast:',\n",
              "       'SL:Left-hand bat:Right-arm fast:',\n",
              "       'NAM:Right-hand bat:Right-arm offbreak:',\n",
              "       'NAM:Left-hand bat:Right-arm medium:',\n",
              "       'OMA:Right-hand bat:Right-arm offbreak:',\n",
              "       'OMA:Left-hand bat:Left-arm medium-fast:',\n",
              "       'OMA:Right-hand bat:Right-arm medium-fast:',\n",
              "       'OMA:Right-hand bat:Right-arm medium:',\n",
              "       'OMA:Left-hand bat:Slow left-arm orthodox:',\n",
              "       'NAM:Left-hand bat:Left-arm medium:',\n",
              "       'AFG:Right-hand bat:Right-arm fast:',\n",
              "       'BAN:Right-hand bat:Legbreak googly:',\n",
              "       'BAN:Right-hand bat:Right-arm medium:',\n",
              "       'NZ:Right-hand bat:Left-arm medium-fast:',\n",
              "       'AUS:Left-hand bat:Right-arm medium:',\n",
              "       'PAK:Right-hand bat:Left-arm wrist-spin:',\n",
              "       'BAN:Right-hand bat:Right-arm medium-fast:',\n",
              "       'SL:Left-hand bat:Slow left-arm orthodox:',\n",
              "       'UAE:Left-hand bat:Left-arm fast-medium:',\n",
              "       'SL:Left-hand bat:Right-arm fast-medium:',\n",
              "       'USA:Left-hand bat:Slow left-arm orthodox:',\n",
              "       'USA:Right-hand bat:Slow left-arm orthodox:',\n",
              "       'USA:Right-hand bat:Left-arm fast-medium:',\n",
              "       'USA:Left-hand bat:Legbreak googly:',\n",
              "       'USA:Right-hand bat:Right-arm offbreak:',\n",
              "       'BAN:Right-hand bat:Right-arm fast-medium:',\n",
              "       'BAN:Left-hand bat:Left-arm fast:',\n",
              "       'UGA:Left-hand bat:Slow left-arm orthodox:',\n",
              "       'UGA:Left-hand bat:Left-arm medium:',\n",
              "       'UGA:Right-hand bat:Slow left-arm orthodox:',\n",
              "       'UGA:Right-hand bat:Right-arm offbreak:',\n",
              "       'RWN:Right-hand bat:Left-arm medium:',\n",
              "       'RWN:Right-hand bat:Right-arm offbreak:',\n",
              "       'RWN:Right-hand bat:Right-arm medium:',\n",
              "       'BAN:Right-hand bat:Slow left-arm orthodox:',\n",
              "       'NZ:Right-hand bat:Left-arm fast:',\n",
              "       'GER:Right-hand bat:Right-arm medium:',\n",
              "       'SL:Left-hand bat:Left-arm medium-fast:',\n",
              "       'NED:Left-hand bat:Legbreak googly:',\n",
              "       'NZ:Left-hand bat:Left-arm medium:',\n",
              "       'NEP:Right-hand bat:Right-arm medium:',\n",
              "       'NEP:Left-hand bat:Right-arm medium:',\n",
              "       'NEP:Right-hand bat:Right-arm fast:',\n",
              "       'NEP:Left-hand bat:Slow left-arm orthodox:',\n",
              "       'NEP:Right-hand bat:Right-arm fast-medium:',\n",
              "       'UAE:Left-hand bat:Right-arm medium-fast:',\n",
              "       'UAE:Left-hand bat:Right-arm medium:',\n",
              "       'UAE:Left-hand bat:Slow left-arm orthodox:',\n",
              "       'ENG:Right-hand bat:Left-arm medium:',\n",
              "       'Aut:Left-hand bat:Slow left-arm orthodox:',\n",
              "       'Aut:Right-hand bat:Right-arm medium:',\n",
              "       'CZK-R:Right-hand bat:Right-arm medium:',\n",
              "       'CZK-R:Right-hand bat:Right-arm offbreak:',\n",
              "       'CZK-R:Right-hand bat:Right-arm medium-fast:',\n",
              "       'BAN:Right-hand bat:Left-arm medium:',\n",
              "       'MOZ:Right-hand bat:Right-arm medium:',\n",
              "       'MOZ:Right-hand bat:Right-arm offbreak:',\n",
              "       'UGA:Right-hand bat:None:', 'UGA:Right-hand bat:Right-arm medium:',\n",
              "       'PAK:Right-hand bat:Left-arm fast-medium:',\n",
              "       'ZIM:Right-hand bat:Right-arm fast:',\n",
              "       'NEP:Right-hand bat:Right-arm medium-fast:',\n",
              "       'NEP:Right-hand bat:Right-arm offbreak:',\n",
              "       'NEP:Right-hand bat:Slow left-arm orthodox:',\n",
              "       'UAE:Right-hand bat:Slow left-arm orthodox:',\n",
              "       'UAE:Right-hand bat:Right-arm offbreak:',\n",
              "       'UAE:Left-hand bat:Right-arm offbreak:',\n",
              "       'GRC:Right-hand bat:Right-arm medium-fast:',\n",
              "       'SCOT:Right-hand bat:Left-arm fast-medium:',\n",
              "       'USA:Right-hand bat:Legbreak googly:',\n",
              "       'BAN:Right-hand bat:Legbreak:',\n",
              "       'IND:Left-hand bat:Right-arm medium-fast:',\n",
              "       'WI:Left-hand bat:Legbreak:',\n",
              "       'UGA:Right-hand bat:Right-arm fast-medium:',\n",
              "       'USA:Right-hand bat:Right-arm medium-fast:',\n",
              "       'BOT:Right-hand bat:Legbreak googly:',\n",
              "       'BOT:Left-hand bat:Slow left-arm orthodox:',\n",
              "       'BOT:Right-hand bat:Right-arm offbreak:',\n",
              "       'SL:Right-hand bat:Left-arm fast-medium:',\n",
              "       'UAE:Right-hand bat:Legbreak:',\n",
              "       'None:Right-hand bat:Right-arm medium:',\n",
              "       'BHR:Right-hand bat:Right-arm medium:',\n",
              "       'BHR:Right-hand bat:Right-arm offbreak:',\n",
              "       'BHR:Right-hand bat:Left-arm medium:',\n",
              "       'BHR:Left-hand bat:Slow left-arm orthodox:',\n",
              "       'SA:Right-hand bat:Left-arm medium:', 'SA:Left-hand bat:Legbreak:',\n",
              "       'JER:Right-hand bat:Legbreak:',\n",
              "       'JER:Right-hand bat:Right-arm medium:',\n",
              "       'JER:Right-hand bat:Slow left-arm orthodox:',\n",
              "       'JER:Right-hand bat:Right-arm offbreak:',\n",
              "       'SGP:Right-hand bat:Legbreak googly:',\n",
              "       'SGP:Right-hand bat:Right-arm medium:',\n",
              "       'SGP:Right-hand bat:Right-arm offbreak:',\n",
              "       'SGP:Right-hand bat:None:',\n",
              "       'SGP:Right-hand bat:Right-arm medium-fast:',\n",
              "       'SGP:Left-hand bat:Slow left-arm orthodox:',\n",
              "       'AUS:Left-hand bat:Legbreak:',\n",
              "       'HKG:Right-hand bat:Right-arm medium:',\n",
              "       'HKG:Right-hand bat:Right-arm medium-fast:',\n",
              "       'HKG:Right-hand bat:Right-arm offbreak:',\n",
              "       'HKG:Right-hand bat:Legbreak:',\n",
              "       'HKG:Left-hand bat:Slow left-arm orthodox:',\n",
              "       'IND:Left-hand bat:Right-arm fast:',\n",
              "       'UGA:Right-hand bat:Right-arm medium-fast:',\n",
              "       'NGA:Left-hand bat:Slow left-arm orthodox:',\n",
              "       'NGA:Right-hand bat:Right-arm medium:',\n",
              "       'NGA:Left-hand bat:Left-arm fast-medium:',\n",
              "       'NGA:Right-hand bat:Right-arm medium-fast:',\n",
              "       'NGA:Left-hand bat:Left-arm medium:',\n",
              "       'NGA:Right-hand bat:Right-arm offbreak:',\n",
              "       'TAN:Right-hand bat:Right-arm medium:',\n",
              "       'TAN:Left-hand bat:Right-arm offbreak:',\n",
              "       'TAN:Right-hand bat:Right-arm offbreak:',\n",
              "       'TAN:Left-hand bat:Right-arm medium-fast:',\n",
              "       'TAN:Right-hand bat:Slow left-arm orthodox:',\n",
              "       'KENYA:Right-hand bat:Right-arm medium-fast:',\n",
              "       'KENYA:Right-hand bat:Left-arm fast-medium:',\n",
              "       'KENYA:Right-hand bat:Slow left-arm orthodox:',\n",
              "       'KENYA:Left-hand bat:Slow left-arm orthodox:',\n",
              "       'GER:Right-hand bat:Right-arm offbreak:',\n",
              "       'Aut:Right-hand bat:Right-arm offbreak:',\n",
              "       'KENYA:Right-hand bat:Right-arm offbreak:',\n",
              "       'KENYA:Right-hand bat:Right-arm medium:',\n",
              "       'KENYA:Right-hand bat:Legbreak:',\n",
              "       'KENYA:Left-hand bat:Left-arm medium-fast:',\n",
              "       'ZIM:Right-hand bat:Slow left-arm orthodox:',\n",
              "       'NAM:Right-hand bat:Left-arm medium:',\n",
              "       'SA:Left-hand bat:Right-arm fast-medium:',\n",
              "       'GHA:Right-hand bat:Right-arm offbreak:',\n",
              "       'GHA:Right-hand bat:Right-arm medium:', 'GHA:Left-hand bat:None:',\n",
              "       'BAN:Right-hand bat:Left-arm fast-medium:',\n",
              "       'HKG:Left-hand bat:Left-arm medium-fast:',\n",
              "       'PAK:Left-hand bat:Left-arm wrist-spin:',\n",
              "       'HKG:Right-hand bat:Slow left-arm orthodox:',\n",
              "       'UAE:Right-hand bat:Right-arm medium:',\n",
              "       'SL:Left-hand bat:Left-arm slow-medium:',\n",
              "       'BAN:Left-hand bat:Right-arm medium:',\n",
              "       'DEN:Right-hand bat:Right-arm offbreak:',\n",
              "       'DEN:Right-hand bat:Right-arm medium:',\n",
              "       'DEN:Left-hand bat:Slow left-arm orthodox:',\n",
              "       'DEN:Left-hand bat:Left-arm medium:',\n",
              "       'HKG:Left-hand bat:Right-arm offbreak:',\n",
              "       'QAT:Right-hand bat:Slow left-arm orthodox:',\n",
              "       'QAT:Right-hand bat:Right-arm medium:',\n",
              "       'QAT:Left-hand bat:Slow left-arm orthodox:',\n",
              "       'QAT:Right-hand bat:Right-arm offbreak:',\n",
              "       'QAT:Left-hand bat:Left-arm medium-fast:',\n",
              "       'CAN:Right-hand bat:Right-arm medium:',\n",
              "       'CAN:Right-hand bat:Legbreak:',\n",
              "       'CAN:Right-hand bat:Left-arm medium-fast:',\n",
              "       'CAN:Left-hand bat:Slow left-arm orthodox:',\n",
              "       'BHR:Right-hand bat:Legbreak googly:',\n",
              "       'BHR:Left-hand bat:Left-arm medium:',\n",
              "       'RWN:Left-hand bat:Slow left-arm orthodox:',\n",
              "       'BOT:Right-hand bat:Right-arm fast:',\n",
              "       'BOT:Right-hand bat:Right-arm medium:',\n",
              "       'BOT:Right-hand bat:Right-arm medium-fast:',\n",
              "       'BOT:Left-hand bat:Left-arm medium:',\n",
              "       'KUW:Right-hand bat:Legbreak:',\n",
              "       'KUW:Right-hand bat:Left-arm slow:',\n",
              "       'KUW:Right-hand bat:Right-arm medium:',\n",
              "       'KUW:Right-hand bat:Legbreak googly:',\n",
              "       'OMA:Right-hand bat:Legbreak:',\n",
              "       'SL:Left-hand bat:Right-arm medium:',\n",
              "       'SA:Left-hand bat:Left-arm medium:',\n",
              "       'USA:Left-hand bat:Right-arm offbreak:',\n",
              "       'NZ:Left-hand bat:Legbreak googly:',\n",
              "       'TAN:Right-hand bat:Legbreak:', 'KUW:Right-hand bat:None:',\n",
              "       'AUS:Right-hand bat:Left-arm wrist-spin:',\n",
              "       'UAE:Right-hand bat:Left-arm fast-medium:',\n",
              "       'KUW:Left-hand bat:None:', 'KUW:Left-hand bat:Right-arm offbreak:',\n",
              "       'MAS:Right-hand bat:Right-arm offbreak:',\n",
              "       'MAS:Right-hand bat:Slow left-arm orthodox:',\n",
              "       'MAS:Right-hand bat:Left-arm medium:',\n",
              "       'MAS:Right-hand bat:Right-arm medium:', 'ENG:Right-hand bat:None:',\n",
              "       'WI:Left-hand bat:None:',\n",
              "       'GER:Right-hand bat:Left-arm medium-fast:',\n",
              "       'GER:Right-hand bat:Slow left-arm orthodox:',\n",
              "       'GER:Left-hand bat:Right-arm offbreak:',\n",
              "       'GHA:Right-hand bat:Legbreak:', 'AUS:Left-hand bat:None:',\n",
              "       'SA:Left-hand bat:Left-arm fast:',\n",
              "       'NAM:Right-hand bat:Right-arm medium:', 'MWI:Left-hand bat:None:',\n",
              "       'MWI:Right-hand bat:Right-arm medium-fast:',\n",
              "       'MWI:Right-hand bat:Right-arm fast-medium:',\n",
              "       'MWI:Right-hand bat:Right-arm medium:',\n",
              "       'MWI:Right-hand bat:Right-arm offbreak:'], dtype=object)"
            ]
          },
          "metadata": {},
          "execution_count": 9
        }
      ]
    },
    {
      "cell_type": "code",
      "source": [
        "train.columns"
      ],
      "metadata": {
        "colab": {
          "base_uri": "https://localhost:8080/"
        },
        "id": "EajZuzeDoJ29",
        "outputId": "16d0c8c8-91ff-4a32-9bbb-7c937a19bcd0"
      },
      "execution_count": null,
      "outputs": [
        {
          "output_type": "execute_result",
          "data": {
            "text/plain": [
              "Index(['match id', 'team1', 'team1_id', 'team1_roster_ids', 'team2',\n",
              "       'team2_id', 'team2_roster_ids', 'winner', 'winner_id', 'toss winner',\n",
              "       'toss decision', 'venue', 'city', 'match_dt', 'lighting', 'series_name',\n",
              "       'season', 'ground_id', 'team_count_50runs_last15', 'team_winp_last5',\n",
              "       'team1only_avg_runs_last15', 'team1_winp_team2_last15',\n",
              "       'ground_avg_runs_last15', 'tosswin_team', 'diff_50or100_last15'],\n",
              "      dtype='object')"
            ]
          },
          "metadata": {},
          "execution_count": 150
        }
      ]
    },
    {
      "cell_type": "code",
      "source": [
        "bt_df.loc[:, 'bowler_details'].str.split(\":\").str[-2].value_counts()[:2]"
      ],
      "metadata": {
        "colab": {
          "base_uri": "https://localhost:8080/"
        },
        "id": "0fPxT3NijF1l",
        "outputId": "54bde1eb-c7af-41b5-c02b-f7a039eaede2"
      },
      "execution_count": null,
      "outputs": [
        {
          "output_type": "execute_result",
          "data": {
            "text/plain": [
              "bowler_details\n",
              "Right-arm fast-medium    902\n",
              "Right-arm medium-fast    841\n",
              "Name: count, dtype: int64"
            ]
          },
          "metadata": {},
          "execution_count": 146
        }
      ]
    },
    {
      "cell_type": "code",
      "source": [
        "top = []\n",
        "for playerid in bt_df['batsman_id'].unique():\n",
        "    top3_bwl = list(bt_df[bt_df['batsman_id']==playerid]['bowler_id'].value_counts().index[:1])\n",
        "    top.extend(top3_bwl)"
      ],
      "metadata": {
        "id": "lPsMzPMjFBQF"
      },
      "execution_count": null,
      "outputs": []
    },
    {
      "cell_type": "code",
      "source": [
        "bwl_df[bwl_df['bowler_id']==3083667].loc[bwl_df[bwl_df['bowler_id']==3083667].index[0], 'bowler_details'].split(\":\")[-2]"
      ],
      "metadata": {
        "colab": {
          "base_uri": "https://localhost:8080/",
          "height": 36
        },
        "id": "ORaO3bnahjOy",
        "outputId": "35531aec-252b-4362-d26e-82b559be927e"
      },
      "execution_count": null,
      "outputs": [
        {
          "output_type": "execute_result",
          "data": {
            "text/plain": [
              "'Right-arm medium-fast'"
            ],
            "application/vnd.google.colaboratory.intrinsic+json": {
              "type": "string"
            }
          },
          "metadata": {},
          "execution_count": 17
        }
      ]
    },
    {
      "cell_type": "code",
      "source": [
        "len(np.unique(top))"
      ],
      "metadata": {
        "colab": {
          "base_uri": "https://localhost:8080/"
        },
        "id": "WaD3MSR9heMn",
        "outputId": "a5bc9971-cf14-4035-e437-7ca09610bf31"
      },
      "execution_count": null,
      "outputs": [
        {
          "output_type": "execute_result",
          "data": {
            "text/plain": [
              "380"
            ]
          },
          "metadata": {},
          "execution_count": 127
        }
      ]
    },
    {
      "cell_type": "code",
      "source": [
        "bwlct = list(bt_df[bt_df['batsman_id']==player]['bowler_id'].value_counts().index[:3])"
      ],
      "metadata": {
        "id": "f3q2o40g6x4q"
      },
      "execution_count": null,
      "outputs": []
    },
    {
      "cell_type": "code",
      "source": [
        "list(bwlct.index[:2])"
      ],
      "metadata": {
        "colab": {
          "base_uri": "https://localhost:8080/"
        },
        "id": "OlcRRaTr0btY",
        "outputId": "c9d5a7e8-eb72-4b21-fee7-bccee322bb21"
      },
      "execution_count": null,
      "outputs": [
        {
          "output_type": "execute_result",
          "data": {
            "text/plain": [
              "[2486896.0, 2666705.0]"
            ]
          },
          "metadata": {},
          "execution_count": 111
        }
      ]
    },
    {
      "cell_type": "code",
      "source": [],
      "metadata": {
        "id": "AnsQUFx10oku"
      },
      "execution_count": null,
      "outputs": []
    },
    {
      "cell_type": "code",
      "source": [
        "player = 7907451\n",
        "date = '2021-07-02'\n",
        "wktkrs = giveAllPrevgamesPlayer(player, date, bat_or_bowl='bat')['bowler_id'].dropna().unique()\n"
      ],
      "metadata": {
        "id": "1ZLPXszrypwG"
      },
      "execution_count": null,
      "outputs": []
    },
    {
      "cell_type": "code",
      "source": [
        "n=15\n",
        "strk_rt_avg = giveLastNgamesPlayer(player, date, n, 'bat')['strike_rate'].mean()\n",
        "\n"
      ],
      "metadata": {
        "id": "CT6DkuSNNKWZ"
      },
      "execution_count": null,
      "outputs": []
    },
    {
      "cell_type": "code",
      "source": [],
      "metadata": {
        "id": "s-QZ_rZyNJ-X"
      },
      "execution_count": null,
      "outputs": []
    },
    {
      "cell_type": "code",
      "source": [
        "match_df[(match_df['team1_id']==team1id)&(match_df['ground_id']==13768)]['match_dt']"
      ],
      "metadata": {
        "colab": {
          "base_uri": "https://localhost:8080/"
        },
        "id": "8janhEwo80C0",
        "outputId": "faa7c664-d105-452e-8bf0-ed18160d1aa6"
      },
      "execution_count": null,
      "outputs": [
        {
          "output_type": "execute_result",
          "data": {
            "text/plain": [
              "244    2021-06-09\n",
              "266    2021-06-13\n",
              "289    2021-06-17\n",
              "311    2021-06-22\n",
              "Name: match_dt, dtype: object"
            ]
          },
          "metadata": {},
          "execution_count": 63
        }
      ]
    },
    {
      "cell_type": "code",
      "source": [],
      "metadata": {
        "id": "ZoEkbd36-uNs"
      },
      "execution_count": null,
      "outputs": []
    },
    {
      "cell_type": "code",
      "source": [],
      "metadata": {
        "id": "cAFHIPBnyphX"
      },
      "execution_count": null,
      "outputs": []
    },
    {
      "cell_type": "code",
      "source": [],
      "metadata": {
        "id": "zvbJy_7XtRdq"
      },
      "execution_count": null,
      "outputs": []
    },
    {
      "cell_type": "code",
      "source": [],
      "metadata": {
        "id": "VN6SIXPK9NIB"
      },
      "execution_count": null,
      "outputs": []
    },
    {
      "cell_type": "markdown",
      "source": [
        "# Models"
      ],
      "metadata": {
        "id": "LvvrJ_Ih3K_r"
      }
    },
    {
      "cell_type": "markdown",
      "source": [
        "Splitting data:\n",
        "- Train dataset (80%)\n",
        "- Validation dataset (10%)\n",
        "- Test dataset (10%)"
      ],
      "metadata": {
        "id": "DHFaLSXD6bwf"
      }
    },
    {
      "cell_type": "code",
      "source": [
        "x_params = ['diff_50or100_last15','team_winp_last5','team1only_avg_runs_last15','team1_winp_team2_last15','ground_avg_runs_last15', 'diff_potm_winners', 'diff_in_wktkrs', 'team1_optimal_toss', 'tosswin_matchwin', 'diff_strk1_econ2', 'diff_bunnies', 'bowlstyle_weakness_comp']"
      ],
      "metadata": {
        "id": "OBAKAhvY6zdU"
      },
      "execution_count": null,
      "outputs": []
    },
    {
      "cell_type": "code",
      "source": [
        "train.columns"
      ],
      "metadata": {
        "colab": {
          "base_uri": "https://localhost:8080/"
        },
        "id": "hr4wPZSqNL7i",
        "outputId": "14889e45-0195-44f7-f21d-21af07b8349d"
      },
      "execution_count": null,
      "outputs": [
        {
          "output_type": "execute_result",
          "data": {
            "text/plain": [
              "Index(['match id', 'team1', 'team1_id', 'team1_roster_ids', 'team2',\n",
              "       'team2_id', 'team2_roster_ids', 'winner', 'winner_id', 'toss winner',\n",
              "       'toss decision', 'venue', 'city', 'match_dt', 'lighting', 'series_name',\n",
              "       'season', 'ground_id', 'team_count_50runs_last15', 'team_winp_last5',\n",
              "       'team1only_avg_runs_last15', 'team1_winp_team2_last15',\n",
              "       'ground_avg_runs_last15', 'diff_in_wktkrs', 'tosswin_team',\n",
              "       'diff_avg_score_ground', 'team1_optimal_toss', 'tosswin_matchwin',\n",
              "       'diff_strk1_econ2', 'diff_bunnies', 'bowlstyle_weakness_comp',\n",
              "       'diff_50or100_last15', 'diff_potm_winners'],\n",
              "      dtype='object')"
            ]
          },
          "metadata": {},
          "execution_count": 70
        }
      ]
    },
    {
      "cell_type": "code",
      "source": [
        "xtrain, xvalid, ytrain, yvalid = TTS(train[x_params], train['winner_01'], test_size=0.2, random_state=10)"
      ],
      "metadata": {
        "id": "xX_CEE073N0A"
      },
      "execution_count": null,
      "outputs": []
    },
    {
      "cell_type": "markdown",
      "source": [
        "We provide `xtrain` and `ytrain` to the model.\n",
        "\n",
        "Model makes inferences (\"weights\") as to the relations between `x` and `y`.\n",
        "\n",
        "Now, we provide `xvalid` to the model and the model outputs predictions (`ypred`).\n",
        "\n",
        "Then, we check how similar `ypred` is to `yvalid` through numerous indicators."
      ],
      "metadata": {
        "id": "qYmCyp4_79Vq"
      }
    },
    {
      "cell_type": "code",
      "source": [
        "xtrain.isna().mean(), xvalid.isna().mean()"
      ],
      "metadata": {
        "colab": {
          "base_uri": "https://localhost:8080/"
        },
        "id": "4ZluVUOPNg7w",
        "outputId": "c82eea15-7cbe-4de1-b740-29a98cb28c31"
      },
      "execution_count": null,
      "outputs": [
        {
          "output_type": "execute_result",
          "data": {
            "text/plain": [
              "(diff_50or100_last15          0.000000\n",
              " team_winp_last5              0.000000\n",
              " team1only_avg_runs_last15    0.025066\n",
              " team1_winp_team2_last15      0.000000\n",
              " ground_avg_runs_last15       0.051451\n",
              " diff_potm_winners            0.000000\n",
              " diff_in_wktkrs               0.000000\n",
              " team1_optimal_toss           0.353562\n",
              " tosswin_matchwin             0.000000\n",
              " diff_strk1_econ2             0.022427\n",
              " diff_bunnies                 0.000000\n",
              " bowlstyle_weakness_comp      0.000000\n",
              " dtype: float64,\n",
              " diff_50or100_last15          0.000000\n",
              " team_winp_last5              0.000000\n",
              " team1only_avg_runs_last15    0.010526\n",
              " team1_winp_team2_last15      0.000000\n",
              " ground_avg_runs_last15       0.073684\n",
              " diff_potm_winners            0.000000\n",
              " diff_in_wktkrs               0.000000\n",
              " team1_optimal_toss           0.331579\n",
              " tosswin_matchwin             0.000000\n",
              " diff_strk1_econ2             0.021053\n",
              " diff_bunnies                 0.000000\n",
              " bowlstyle_weakness_comp      0.000000\n",
              " dtype: float64)"
            ]
          },
          "metadata": {},
          "execution_count": 111
        }
      ]
    },
    {
      "cell_type": "code",
      "source": [
        "xtrain.fillna(0, inplace=True)\n",
        "xvalid.fillna(0, inplace=True)"
      ],
      "metadata": {
        "id": "4508A91xDybd"
      },
      "execution_count": null,
      "outputs": []
    },
    {
      "cell_type": "code",
      "source": [
        "def train_predict_model(model, xtrain, xvalid, ytrain, yvalid):\n",
        "  if model=='gbc':\n",
        "    model = gbc(n_estimators=300, learning_rate=0.1, max_depth=4)\n",
        "  elif model=='xgbc':\n",
        "    # model = xgbc(n_estimators=200, max_depth=5, eta=0.1, gamma=20, random_state=69)\n",
        "    model = xgbc(max_depth=6, eta=0.3, gamma=15)\n",
        "  elif model=='lgbmc':\n",
        "    model = lgbmc()\n",
        "  elif model=='cbc':\n",
        "    model = cbc(loss_function='Logloss', eval_metric='AUC', iterations=200, random_seed=69, verbose=0)\n",
        "\n",
        "  model.fit(xtrain, ytrain)\n",
        "  ypred = model.predict(xvalid)\n",
        "  return ypred"
      ],
      "metadata": {
        "id": "QvLpHyc66P-E"
      },
      "execution_count": null,
      "outputs": []
    },
    {
      "cell_type": "code",
      "source": [
        "def train_predict_showstats(model, xtrain, xvalid, ytrain, yvalid):\n",
        "  ypred = train_predict_model(model, xtrain, xvalid, ytrain, yvalid)\n",
        "  print(\"Accuracy:\", acc(yvalid, ypred))\n",
        "  print(pd.DataFrame(classrep(yvalid, ypred, output_dict=True)).transpose())"
      ],
      "metadata": {
        "id": "xOTuisij9A6J"
      },
      "execution_count": null,
      "outputs": []
    },
    {
      "cell_type": "code",
      "source": [
        "train_predict_showstats('cbc', xtrain, xvalid, ytrain, yvalid)"
      ],
      "metadata": {
        "colab": {
          "base_uri": "https://localhost:8080/"
        },
        "collapsed": true,
        "id": "KL6JTIVGAUCq",
        "outputId": "6d0aa8d3-7a47-480d-98b0-e1dd1a0eeda3"
      },
      "execution_count": null,
      "outputs": [
        {
          "output_type": "stream",
          "name": "stdout",
          "text": [
            "Learning rate set to 0.040041\n",
            "0:\ttotal: 15.1ms\tremaining: 3.01s\n",
            "1:\ttotal: 19.4ms\tremaining: 1.92s\n",
            "2:\ttotal: 35.4ms\tremaining: 2.32s\n",
            "3:\ttotal: 48.9ms\tremaining: 2.4s\n",
            "4:\ttotal: 54.7ms\tremaining: 2.13s\n",
            "5:\ttotal: 64.7ms\tremaining: 2.09s\n",
            "6:\ttotal: 71.6ms\tremaining: 1.97s\n",
            "7:\ttotal: 78.2ms\tremaining: 1.88s\n",
            "8:\ttotal: 80.3ms\tremaining: 1.7s\n",
            "9:\ttotal: 82.3ms\tremaining: 1.56s\n",
            "10:\ttotal: 86.3ms\tremaining: 1.48s\n",
            "11:\ttotal: 91.6ms\tremaining: 1.44s\n",
            "12:\ttotal: 93.8ms\tremaining: 1.35s\n",
            "13:\ttotal: 95ms\tremaining: 1.26s\n",
            "14:\ttotal: 96.5ms\tremaining: 1.19s\n",
            "15:\ttotal: 107ms\tremaining: 1.24s\n",
            "16:\ttotal: 114ms\tremaining: 1.22s\n",
            "17:\ttotal: 123ms\tremaining: 1.25s\n",
            "18:\ttotal: 129ms\tremaining: 1.23s\n",
            "19:\ttotal: 141ms\tremaining: 1.27s\n",
            "20:\ttotal: 149ms\tremaining: 1.27s\n",
            "21:\ttotal: 162ms\tremaining: 1.31s\n",
            "22:\ttotal: 165ms\tremaining: 1.27s\n",
            "23:\ttotal: 169ms\tremaining: 1.24s\n",
            "24:\ttotal: 183ms\tremaining: 1.28s\n",
            "25:\ttotal: 187ms\tremaining: 1.25s\n",
            "26:\ttotal: 198ms\tremaining: 1.27s\n",
            "27:\ttotal: 201ms\tremaining: 1.23s\n",
            "28:\ttotal: 203ms\tremaining: 1.2s\n",
            "29:\ttotal: 213ms\tremaining: 1.21s\n",
            "30:\ttotal: 217ms\tremaining: 1.18s\n",
            "31:\ttotal: 221ms\tremaining: 1.16s\n",
            "32:\ttotal: 232ms\tremaining: 1.17s\n",
            "33:\ttotal: 235ms\tremaining: 1.15s\n",
            "34:\ttotal: 237ms\tremaining: 1.12s\n",
            "35:\ttotal: 241ms\tremaining: 1.1s\n",
            "36:\ttotal: 251ms\tremaining: 1.1s\n",
            "37:\ttotal: 256ms\tremaining: 1.09s\n",
            "38:\ttotal: 260ms\tremaining: 1.07s\n",
            "39:\ttotal: 272ms\tremaining: 1.09s\n",
            "40:\ttotal: 274ms\tremaining: 1.06s\n",
            "41:\ttotal: 281ms\tremaining: 1.06s\n",
            "42:\ttotal: 289ms\tremaining: 1.05s\n",
            "43:\ttotal: 293ms\tremaining: 1.04s\n",
            "44:\ttotal: 304ms\tremaining: 1.05s\n",
            "45:\ttotal: 311ms\tremaining: 1.04s\n",
            "46:\ttotal: 323ms\tremaining: 1.05s\n",
            "47:\ttotal: 337ms\tremaining: 1.06s\n",
            "48:\ttotal: 345ms\tremaining: 1.06s\n",
            "49:\ttotal: 353ms\tremaining: 1.06s\n",
            "50:\ttotal: 362ms\tremaining: 1.06s\n",
            "51:\ttotal: 376ms\tremaining: 1.07s\n",
            "52:\ttotal: 383ms\tremaining: 1.06s\n",
            "53:\ttotal: 385ms\tremaining: 1.04s\n",
            "54:\ttotal: 390ms\tremaining: 1.03s\n",
            "55:\ttotal: 405ms\tremaining: 1.04s\n",
            "56:\ttotal: 414ms\tremaining: 1.04s\n",
            "57:\ttotal: 427ms\tremaining: 1.04s\n",
            "58:\ttotal: 436ms\tremaining: 1.04s\n",
            "59:\ttotal: 446ms\tremaining: 1.04s\n",
            "60:\ttotal: 452ms\tremaining: 1.03s\n",
            "61:\ttotal: 464ms\tremaining: 1.03s\n",
            "62:\ttotal: 472ms\tremaining: 1.03s\n",
            "63:\ttotal: 483ms\tremaining: 1.02s\n",
            "64:\ttotal: 489ms\tremaining: 1.02s\n",
            "65:\ttotal: 498ms\tremaining: 1.01s\n",
            "66:\ttotal: 507ms\tremaining: 1.01s\n",
            "67:\ttotal: 516ms\tremaining: 1s\n",
            "68:\ttotal: 525ms\tremaining: 996ms\n",
            "69:\ttotal: 539ms\tremaining: 1s\n",
            "70:\ttotal: 543ms\tremaining: 987ms\n",
            "71:\ttotal: 554ms\tremaining: 986ms\n",
            "72:\ttotal: 557ms\tremaining: 969ms\n",
            "73:\ttotal: 561ms\tremaining: 955ms\n",
            "74:\ttotal: 566ms\tremaining: 944ms\n",
            "75:\ttotal: 568ms\tremaining: 927ms\n",
            "76:\ttotal: 580ms\tremaining: 926ms\n",
            "77:\ttotal: 590ms\tremaining: 923ms\n",
            "78:\ttotal: 597ms\tremaining: 915ms\n",
            "79:\ttotal: 609ms\tremaining: 913ms\n",
            "80:\ttotal: 621ms\tremaining: 912ms\n",
            "81:\ttotal: 626ms\tremaining: 901ms\n",
            "82:\ttotal: 633ms\tremaining: 893ms\n",
            "83:\ttotal: 663ms\tremaining: 916ms\n",
            "84:\ttotal: 677ms\tremaining: 916ms\n",
            "85:\ttotal: 687ms\tremaining: 910ms\n",
            "86:\ttotal: 690ms\tremaining: 896ms\n",
            "87:\ttotal: 698ms\tremaining: 889ms\n",
            "88:\ttotal: 700ms\tremaining: 873ms\n",
            "89:\ttotal: 702ms\tremaining: 859ms\n",
            "90:\ttotal: 705ms\tremaining: 844ms\n",
            "91:\ttotal: 710ms\tremaining: 834ms\n",
            "92:\ttotal: 713ms\tremaining: 820ms\n",
            "93:\ttotal: 718ms\tremaining: 809ms\n",
            "94:\ttotal: 728ms\tremaining: 804ms\n",
            "95:\ttotal: 732ms\tremaining: 793ms\n",
            "96:\ttotal: 741ms\tremaining: 787ms\n",
            "97:\ttotal: 742ms\tremaining: 773ms\n",
            "98:\ttotal: 752ms\tremaining: 767ms\n",
            "99:\ttotal: 754ms\tremaining: 754ms\n",
            "100:\ttotal: 756ms\tremaining: 741ms\n",
            "101:\ttotal: 760ms\tremaining: 730ms\n",
            "102:\ttotal: 761ms\tremaining: 717ms\n",
            "103:\ttotal: 768ms\tremaining: 709ms\n",
            "104:\ttotal: 771ms\tremaining: 697ms\n",
            "105:\ttotal: 773ms\tremaining: 685ms\n",
            "106:\ttotal: 774ms\tremaining: 673ms\n",
            "107:\ttotal: 781ms\tremaining: 666ms\n",
            "108:\ttotal: 784ms\tremaining: 654ms\n",
            "109:\ttotal: 785ms\tremaining: 643ms\n",
            "110:\ttotal: 792ms\tremaining: 635ms\n",
            "111:\ttotal: 794ms\tremaining: 624ms\n",
            "112:\ttotal: 797ms\tremaining: 613ms\n",
            "113:\ttotal: 803ms\tremaining: 606ms\n",
            "114:\ttotal: 810ms\tremaining: 599ms\n",
            "115:\ttotal: 812ms\tremaining: 588ms\n",
            "116:\ttotal: 831ms\tremaining: 590ms\n",
            "117:\ttotal: 836ms\tremaining: 581ms\n",
            "118:\ttotal: 841ms\tremaining: 573ms\n",
            "119:\ttotal: 864ms\tremaining: 576ms\n",
            "120:\ttotal: 871ms\tremaining: 569ms\n",
            "121:\ttotal: 886ms\tremaining: 566ms\n",
            "122:\ttotal: 899ms\tremaining: 562ms\n",
            "123:\ttotal: 904ms\tremaining: 554ms\n",
            "124:\ttotal: 919ms\tremaining: 551ms\n",
            "125:\ttotal: 934ms\tremaining: 548ms\n",
            "126:\ttotal: 941ms\tremaining: 541ms\n",
            "127:\ttotal: 950ms\tremaining: 534ms\n",
            "128:\ttotal: 983ms\tremaining: 541ms\n",
            "129:\ttotal: 993ms\tremaining: 535ms\n",
            "130:\ttotal: 998ms\tremaining: 526ms\n",
            "131:\ttotal: 1s\tremaining: 516ms\n",
            "132:\ttotal: 1.01s\tremaining: 507ms\n",
            "133:\ttotal: 1.01s\tremaining: 499ms\n",
            "134:\ttotal: 1.02s\tremaining: 491ms\n",
            "135:\ttotal: 1.03s\tremaining: 484ms\n",
            "136:\ttotal: 1.03s\tremaining: 474ms\n",
            "137:\ttotal: 1.03s\tremaining: 465ms\n",
            "138:\ttotal: 1.04s\tremaining: 456ms\n",
            "139:\ttotal: 1.04s\tremaining: 447ms\n",
            "140:\ttotal: 1.05s\tremaining: 438ms\n",
            "141:\ttotal: 1.05s\tremaining: 429ms\n",
            "142:\ttotal: 1.06s\tremaining: 424ms\n",
            "143:\ttotal: 1.07s\tremaining: 415ms\n",
            "144:\ttotal: 1.07s\tremaining: 406ms\n",
            "145:\ttotal: 1.07s\tremaining: 397ms\n",
            "146:\ttotal: 1.08s\tremaining: 389ms\n",
            "147:\ttotal: 1.08s\tremaining: 380ms\n",
            "148:\ttotal: 1.08s\tremaining: 371ms\n",
            "149:\ttotal: 1.09s\tremaining: 363ms\n",
            "150:\ttotal: 1.1s\tremaining: 358ms\n",
            "151:\ttotal: 1.1s\tremaining: 349ms\n",
            "152:\ttotal: 1.11s\tremaining: 340ms\n",
            "153:\ttotal: 1.11s\tremaining: 332ms\n",
            "154:\ttotal: 1.12s\tremaining: 326ms\n",
            "155:\ttotal: 1.12s\tremaining: 317ms\n",
            "156:\ttotal: 1.13s\tremaining: 309ms\n",
            "157:\ttotal: 1.13s\tremaining: 301ms\n",
            "158:\ttotal: 1.14s\tremaining: 293ms\n",
            "159:\ttotal: 1.14s\tremaining: 285ms\n",
            "160:\ttotal: 1.14s\tremaining: 277ms\n",
            "161:\ttotal: 1.15s\tremaining: 269ms\n",
            "162:\ttotal: 1.15s\tremaining: 261ms\n",
            "163:\ttotal: 1.16s\tremaining: 254ms\n",
            "164:\ttotal: 1.16s\tremaining: 246ms\n",
            "165:\ttotal: 1.16s\tremaining: 238ms\n",
            "166:\ttotal: 1.17s\tremaining: 231ms\n",
            "167:\ttotal: 1.17s\tremaining: 223ms\n",
            "168:\ttotal: 1.17s\tremaining: 215ms\n",
            "169:\ttotal: 1.18s\tremaining: 208ms\n",
            "170:\ttotal: 1.18s\tremaining: 201ms\n",
            "171:\ttotal: 1.19s\tremaining: 193ms\n",
            "172:\ttotal: 1.19s\tremaining: 186ms\n",
            "173:\ttotal: 1.19s\tremaining: 179ms\n",
            "174:\ttotal: 1.2s\tremaining: 171ms\n",
            "175:\ttotal: 1.2s\tremaining: 164ms\n",
            "176:\ttotal: 1.21s\tremaining: 157ms\n",
            "177:\ttotal: 1.21s\tremaining: 150ms\n",
            "178:\ttotal: 1.22s\tremaining: 143ms\n",
            "179:\ttotal: 1.22s\tremaining: 136ms\n",
            "180:\ttotal: 1.23s\tremaining: 129ms\n",
            "181:\ttotal: 1.23s\tremaining: 122ms\n",
            "182:\ttotal: 1.24s\tremaining: 115ms\n",
            "183:\ttotal: 1.24s\tremaining: 108ms\n",
            "184:\ttotal: 1.24s\tremaining: 101ms\n",
            "185:\ttotal: 1.25s\tremaining: 93.9ms\n",
            "186:\ttotal: 1.25s\tremaining: 87ms\n",
            "187:\ttotal: 1.25s\tremaining: 80.1ms\n",
            "188:\ttotal: 1.26s\tremaining: 73.3ms\n",
            "189:\ttotal: 1.27s\tremaining: 66.6ms\n",
            "190:\ttotal: 1.27s\tremaining: 59.8ms\n",
            "191:\ttotal: 1.27s\tremaining: 53ms\n",
            "192:\ttotal: 1.28s\tremaining: 46.6ms\n",
            "193:\ttotal: 1.29s\tremaining: 39.9ms\n",
            "194:\ttotal: 1.29s\tremaining: 33.2ms\n",
            "195:\ttotal: 1.31s\tremaining: 26.7ms\n",
            "196:\ttotal: 1.32s\tremaining: 20.1ms\n",
            "197:\ttotal: 1.33s\tremaining: 13.5ms\n",
            "198:\ttotal: 1.34s\tremaining: 6.71ms\n",
            "199:\ttotal: 1.34s\tremaining: 0us\n",
            "Accuracy: 0.5052631578947369\n",
            "              precision    recall  f1-score     support\n",
            "0              0.529412  0.454545  0.489130   99.000000\n",
            "1              0.485714  0.560440  0.520408   91.000000\n",
            "accuracy       0.505263  0.505263  0.505263    0.505263\n",
            "macro avg      0.507563  0.507493  0.504769  190.000000\n",
            "weighted avg   0.508483  0.505263  0.504111  190.000000\n"
          ]
        }
      ]
    },
    {
      "cell_type": "code",
      "source": [
        "train_predict_showstats('gbc', xtrain, xvalid, ytrain, yvalid)"
      ],
      "metadata": {
        "colab": {
          "base_uri": "https://localhost:8080/"
        },
        "id": "9Br4fxGMDNdx",
        "outputId": "b84b4650-fd87-4fea-cd45-137f4905cb35"
      },
      "execution_count": null,
      "outputs": [
        {
          "output_type": "stream",
          "name": "stdout",
          "text": [
            "Accuracy: 0.5263157894736842\n",
            "              precision    recall  f1-score     support\n",
            "0              0.558442  0.434343  0.488636   99.000000\n",
            "1              0.504425  0.626374  0.558824   91.000000\n",
            "accuracy       0.526316  0.526316  0.526316    0.526316\n",
            "macro avg      0.531433  0.530359  0.523730  190.000000\n",
            "weighted avg   0.532570  0.526316  0.522252  190.000000\n"
          ]
        }
      ]
    },
    {
      "cell_type": "code",
      "source": [
        "train_predict_showstats('xgbc', xtrain, xvalid, ytrain, yvalid)"
      ],
      "metadata": {
        "colab": {
          "base_uri": "https://localhost:8080/",
          "height": 141
        },
        "id": "E4XfA5FuAoPw",
        "outputId": "d90da96e-fa4a-41aa-dd5e-b02cf00867c0"
      },
      "execution_count": null,
      "outputs": [
        {
          "output_type": "error",
          "ename": "NameError",
          "evalue": "name 'train_predict_showstats' is not defined",
          "traceback": [
            "\u001b[0;31m---------------------------------------------------------------------------\u001b[0m",
            "\u001b[0;31mNameError\u001b[0m                                 Traceback (most recent call last)",
            "\u001b[0;32m<ipython-input-112-ff262e1556bb>\u001b[0m in \u001b[0;36m<cell line: 1>\u001b[0;34m()\u001b[0m\n\u001b[0;32m----> 1\u001b[0;31m \u001b[0mtrain_predict_showstats\u001b[0m\u001b[0;34m(\u001b[0m\u001b[0;34m'xgbc'\u001b[0m\u001b[0;34m,\u001b[0m \u001b[0mxtrain\u001b[0m\u001b[0;34m,\u001b[0m \u001b[0mxvalid\u001b[0m\u001b[0;34m,\u001b[0m \u001b[0mytrain\u001b[0m\u001b[0;34m,\u001b[0m \u001b[0myvalid\u001b[0m\u001b[0;34m)\u001b[0m\u001b[0;34m\u001b[0m\u001b[0;34m\u001b[0m\u001b[0m\n\u001b[0m",
            "\u001b[0;31mNameError\u001b[0m: name 'train_predict_showstats' is not defined"
          ]
        }
      ]
    },
    {
      "cell_type": "markdown",
      "source": [
        "**why no lgbmc stats ?**"
      ],
      "metadata": {
        "id": "zUAHVKIqOHh5"
      }
    },
    {
      "cell_type": "code",
      "source": [
        "test.columns"
      ],
      "metadata": {
        "colab": {
          "base_uri": "https://localhost:8080/"
        },
        "id": "ULgVXyGz7Tcg",
        "outputId": "73eb2493-dc03-40ca-c674-12ef228b4cb2"
      },
      "execution_count": null,
      "outputs": [
        {
          "output_type": "execute_result",
          "data": {
            "text/plain": [
              "Index(['match id', 'team1', 'team1_id', 'team1_roster_ids', 'team2',\n",
              "       'team2_id', 'team2_roster_ids', 'toss winner', 'toss decision', 'venue',\n",
              "       'city', 'match_dt', 'lighting', 'series_name', 'season', 'ground_id',\n",
              "       'team_count_50runs_last15', 'team_winp_last5',\n",
              "       'team1only_avg_runs_last15', 'team1_winp_team2_last15',\n",
              "       'ground_avg_runs_last15', 'toss_winner_01', 'toss_decision_01'],\n",
              "      dtype='object')"
            ]
          },
          "metadata": {},
          "execution_count": 29
        }
      ]
    },
    {
      "cell_type": "markdown",
      "source": [],
      "metadata": {
        "id": "ZxZiV9C_GP0i"
      }
    },
    {
      "cell_type": "code",
      "source": [
        "xtest = test[x_params]\n"
      ],
      "metadata": {
        "colab": {
          "base_uri": "https://localhost:8080/",
          "height": 477
        },
        "id": "1Mf92YJV5DDO",
        "outputId": "7ebcda8c-b346-4772-feec-d0784abfb8b3"
      },
      "execution_count": null,
      "outputs": [
        {
          "output_type": "error",
          "ename": "KeyError",
          "evalue": "'winner_01'",
          "traceback": [
            "\u001b[0;31m---------------------------------------------------------------------------\u001b[0m",
            "\u001b[0;31mKeyError\u001b[0m                                  Traceback (most recent call last)",
            "\u001b[0;32m/usr/local/lib/python3.10/dist-packages/pandas/core/indexes/base.py\u001b[0m in \u001b[0;36mget_loc\u001b[0;34m(self, key)\u001b[0m\n\u001b[1;32m   3652\u001b[0m         \u001b[0;32mtry\u001b[0m\u001b[0;34m:\u001b[0m\u001b[0;34m\u001b[0m\u001b[0;34m\u001b[0m\u001b[0m\n\u001b[0;32m-> 3653\u001b[0;31m             \u001b[0;32mreturn\u001b[0m \u001b[0mself\u001b[0m\u001b[0;34m.\u001b[0m\u001b[0m_engine\u001b[0m\u001b[0;34m.\u001b[0m\u001b[0mget_loc\u001b[0m\u001b[0;34m(\u001b[0m\u001b[0mcasted_key\u001b[0m\u001b[0;34m)\u001b[0m\u001b[0;34m\u001b[0m\u001b[0;34m\u001b[0m\u001b[0m\n\u001b[0m\u001b[1;32m   3654\u001b[0m         \u001b[0;32mexcept\u001b[0m \u001b[0mKeyError\u001b[0m \u001b[0;32mas\u001b[0m \u001b[0merr\u001b[0m\u001b[0;34m:\u001b[0m\u001b[0;34m\u001b[0m\u001b[0;34m\u001b[0m\u001b[0m\n",
            "\u001b[0;32m/usr/local/lib/python3.10/dist-packages/pandas/_libs/index.pyx\u001b[0m in \u001b[0;36mpandas._libs.index.IndexEngine.get_loc\u001b[0;34m()\u001b[0m\n",
            "\u001b[0;32m/usr/local/lib/python3.10/dist-packages/pandas/_libs/index.pyx\u001b[0m in \u001b[0;36mpandas._libs.index.IndexEngine.get_loc\u001b[0;34m()\u001b[0m\n",
            "\u001b[0;32mpandas/_libs/hashtable_class_helper.pxi\u001b[0m in \u001b[0;36mpandas._libs.hashtable.PyObjectHashTable.get_item\u001b[0;34m()\u001b[0m\n",
            "\u001b[0;32mpandas/_libs/hashtable_class_helper.pxi\u001b[0m in \u001b[0;36mpandas._libs.hashtable.PyObjectHashTable.get_item\u001b[0;34m()\u001b[0m\n",
            "\u001b[0;31mKeyError\u001b[0m: 'winner_01'",
            "\nThe above exception was the direct cause of the following exception:\n",
            "\u001b[0;31mKeyError\u001b[0m                                  Traceback (most recent call last)",
            "\u001b[0;32m<ipython-input-28-c3cec1d2a05d>\u001b[0m in \u001b[0;36m<cell line: 2>\u001b[0;34m()\u001b[0m\n\u001b[1;32m      1\u001b[0m \u001b[0mxtest\u001b[0m \u001b[0;34m=\u001b[0m \u001b[0mtest\u001b[0m\u001b[0;34m[\u001b[0m\u001b[0mx_params\u001b[0m\u001b[0;34m]\u001b[0m\u001b[0;34m\u001b[0m\u001b[0;34m\u001b[0m\u001b[0m\n\u001b[0;32m----> 2\u001b[0;31m \u001b[0mytest\u001b[0m \u001b[0;34m=\u001b[0m \u001b[0mtest\u001b[0m\u001b[0;34m[\u001b[0m\u001b[0;34m'winner_01'\u001b[0m\u001b[0;34m]\u001b[0m\u001b[0;34m\u001b[0m\u001b[0;34m\u001b[0m\u001b[0m\n\u001b[0m",
            "\u001b[0;32m/usr/local/lib/python3.10/dist-packages/pandas/core/frame.py\u001b[0m in \u001b[0;36m__getitem__\u001b[0;34m(self, key)\u001b[0m\n\u001b[1;32m   3759\u001b[0m             \u001b[0;32mif\u001b[0m \u001b[0mself\u001b[0m\u001b[0;34m.\u001b[0m\u001b[0mcolumns\u001b[0m\u001b[0;34m.\u001b[0m\u001b[0mnlevels\u001b[0m \u001b[0;34m>\u001b[0m \u001b[0;36m1\u001b[0m\u001b[0;34m:\u001b[0m\u001b[0;34m\u001b[0m\u001b[0;34m\u001b[0m\u001b[0m\n\u001b[1;32m   3760\u001b[0m                 \u001b[0;32mreturn\u001b[0m \u001b[0mself\u001b[0m\u001b[0;34m.\u001b[0m\u001b[0m_getitem_multilevel\u001b[0m\u001b[0;34m(\u001b[0m\u001b[0mkey\u001b[0m\u001b[0;34m)\u001b[0m\u001b[0;34m\u001b[0m\u001b[0;34m\u001b[0m\u001b[0m\n\u001b[0;32m-> 3761\u001b[0;31m             \u001b[0mindexer\u001b[0m \u001b[0;34m=\u001b[0m \u001b[0mself\u001b[0m\u001b[0;34m.\u001b[0m\u001b[0mcolumns\u001b[0m\u001b[0;34m.\u001b[0m\u001b[0mget_loc\u001b[0m\u001b[0;34m(\u001b[0m\u001b[0mkey\u001b[0m\u001b[0;34m)\u001b[0m\u001b[0;34m\u001b[0m\u001b[0;34m\u001b[0m\u001b[0m\n\u001b[0m\u001b[1;32m   3762\u001b[0m             \u001b[0;32mif\u001b[0m \u001b[0mis_integer\u001b[0m\u001b[0;34m(\u001b[0m\u001b[0mindexer\u001b[0m\u001b[0;34m)\u001b[0m\u001b[0;34m:\u001b[0m\u001b[0;34m\u001b[0m\u001b[0;34m\u001b[0m\u001b[0m\n\u001b[1;32m   3763\u001b[0m                 \u001b[0mindexer\u001b[0m \u001b[0;34m=\u001b[0m \u001b[0;34m[\u001b[0m\u001b[0mindexer\u001b[0m\u001b[0;34m]\u001b[0m\u001b[0;34m\u001b[0m\u001b[0;34m\u001b[0m\u001b[0m\n",
            "\u001b[0;32m/usr/local/lib/python3.10/dist-packages/pandas/core/indexes/base.py\u001b[0m in \u001b[0;36mget_loc\u001b[0;34m(self, key)\u001b[0m\n\u001b[1;32m   3653\u001b[0m             \u001b[0;32mreturn\u001b[0m \u001b[0mself\u001b[0m\u001b[0;34m.\u001b[0m\u001b[0m_engine\u001b[0m\u001b[0;34m.\u001b[0m\u001b[0mget_loc\u001b[0m\u001b[0;34m(\u001b[0m\u001b[0mcasted_key\u001b[0m\u001b[0;34m)\u001b[0m\u001b[0;34m\u001b[0m\u001b[0;34m\u001b[0m\u001b[0m\n\u001b[1;32m   3654\u001b[0m         \u001b[0;32mexcept\u001b[0m \u001b[0mKeyError\u001b[0m \u001b[0;32mas\u001b[0m \u001b[0merr\u001b[0m\u001b[0;34m:\u001b[0m\u001b[0;34m\u001b[0m\u001b[0;34m\u001b[0m\u001b[0m\n\u001b[0;32m-> 3655\u001b[0;31m             \u001b[0;32mraise\u001b[0m \u001b[0mKeyError\u001b[0m\u001b[0;34m(\u001b[0m\u001b[0mkey\u001b[0m\u001b[0;34m)\u001b[0m \u001b[0;32mfrom\u001b[0m \u001b[0merr\u001b[0m\u001b[0;34m\u001b[0m\u001b[0;34m\u001b[0m\u001b[0m\n\u001b[0m\u001b[1;32m   3656\u001b[0m         \u001b[0;32mexcept\u001b[0m \u001b[0mTypeError\u001b[0m\u001b[0;34m:\u001b[0m\u001b[0;34m\u001b[0m\u001b[0;34m\u001b[0m\u001b[0m\n\u001b[1;32m   3657\u001b[0m             \u001b[0;31m# If we have a listlike key, _check_indexing_error will raise\u001b[0m\u001b[0;34m\u001b[0m\u001b[0;34m\u001b[0m\u001b[0m\n",
            "\u001b[0;31mKeyError\u001b[0m: 'winner_01'"
          ]
        }
      ]
    },
    {
      "cell_type": "markdown",
      "source": [
        "# Aruneema's Workspace"
      ],
      "metadata": {
        "id": "ZmMMw5V6444J"
      }
    },
    {
      "cell_type": "markdown",
      "source": [
        "## Reproduce Cheatsheet code"
      ],
      "metadata": {
        "id": "z-XGPUVN49y-"
      }
    },
    {
      "cell_type": "markdown",
      "source": [
        "Feature importance"
      ],
      "metadata": {
        "id": "AoiZZmqjXzEH"
      }
    },
    {
      "cell_type": "code",
      "source": [
        "def createRnP(X_12, feature, N=5, ylim_lb=0.3, ylim_ub=0.7):\n"
      ],
      "metadata": {
        "id": "mea0VngIUp6H"
      },
      "execution_count": null,
      "outputs": []
    },
    {
      "cell_type": "code",
      "source": [
        "returns- None\n",
        "      df = X_12.copy()\n",
        "    df[f'{feature}_bin'] = df[feature].rank(pct=True)//(1/N) # divide feature values for all games in 5 equi-volume buckets.\n",
        "    df['count'] = 1\n",
        "    df['team1_win%'] = df['winner_01'].apply(lambda x: 1-x) # invert winner_01 to get team1 winner indicator\n",
        "    df['team2_win%'] = df['winner_01'].copy()\n",
        "    df[f'{feature}_min'] = df[feature].copy()\n",
        "    df[f'{feature}_max'] = df[feature].copy()\n",
        "    df_g = df.groupby(f'{feature}_bin').agg({'team1_win%':'mean', 'team2_win%':'mean', 'count':'sum', f'{feature}_min':'min',\\\n",
        "                                            f'{feature}_max':'max'}).reset_index()\n",
        "    N = min(N,df_g.shape[0])\n",
        "    blue_bar = df_g['team1_win%'].values.tolist()\n",
        "    ind = np.arange(N)\n",
        "    # plotting starts\n",
        "    plt.figure(figsize=(10,5));\n",
        "    plt.bar(ind, blue_bar, label='Team 1 win%');\n",
        "    plt.axhline(y=0.5, linewidth=0.5, color='k', linestyle = '--')\n",
        "    xlabel = re.sub('team_','ratio_',feature)\n",
        "    plt.xlabel(f'{xlabel} (team1 / team2) bins');\n",
        "    plt.ylabel('Win %');\n",
        "    plt.title(f'RnP - {feature} vs win');\n",
        "    df_g['xticks'] = df_g.apply(lambda x: str(round(x[f'{feature}_min'],2)) + ' - ' + str(round(x[f'{feature}_max'],2)), axis=1)\n",
        "    plt.xticks(ind, df_g['xticks']);\n",
        "    plt.ylim([ylim_lb,ylim_ub]);\n",
        "    plt.legend(loc='best');\n",
        "    x2,x1 = blue_bar[-1],blue_bar[0]\n",
        "    slope = x2/x1\n",
        "    if slope < 1:\n",
        "        slope = 1/slope\n",
        "        x1,x2 = x2,x1\n",
        "    print('slope:', round(x2,2),'/',round(x1,2), '= ',round(slope,2))\n",
        "    plt.show();\n"
      ],
      "metadata": {
        "id": "D1g0QoEY48bu"
      },
      "execution_count": null,
      "outputs": []
    },
    {
      "cell_type": "markdown",
      "source": [
        "Statistics"
      ],
      "metadata": {
        "id": "K2uw8BAbDvy0"
      }
    },
    {
      "cell_type": "code",
      "source": [
        "train['toss_winner_01'].value_counts()"
      ],
      "metadata": {
        "id": "y9EgkF2s6Qtr",
        "colab": {
          "base_uri": "https://localhost:8080/"
        },
        "outputId": "90d49331-27c5-4cb6-841f-ffb6b8722d6b"
      },
      "execution_count": null,
      "outputs": [
        {
          "output_type": "execute_result",
          "data": {
            "text/plain": [
              "toss_winner_01\n",
              "0    617\n",
              "1    331\n",
              "Name: count, dtype: int64"
            ]
          },
          "metadata": {},
          "execution_count": 10
        }
      ]
    },
    {
      "cell_type": "code",
      "source": [
        "train['toss_decision_01'].value_counts()"
      ],
      "metadata": {
        "colab": {
          "base_uri": "https://localhost:8080/"
        },
        "id": "TNaAQUEZD52P",
        "outputId": "dc81a82d-c45d-417c-b52f-8b010fb5f85a"
      },
      "execution_count": null,
      "outputs": [
        {
          "output_type": "execute_result",
          "data": {
            "text/plain": [
              "toss_decision_01\n",
              "0    617\n",
              "1    331\n",
              "Name: count, dtype: int64"
            ]
          },
          "metadata": {},
          "execution_count": 11
        }
      ]
    },
    {
      "cell_type": "code",
      "source": [
        "train['team_count_50runs_last15'].describe()"
      ],
      "metadata": {
        "colab": {
          "base_uri": "https://localhost:8080/"
        },
        "id": "bFTapurXD8qr",
        "outputId": "d0f864a9-f18d-4e13-d974-0e107deace51"
      },
      "execution_count": null,
      "outputs": [
        {
          "output_type": "execute_result",
          "data": {
            "text/plain": [
              "count    948.000000\n",
              "mean       1.202602\n",
              "std        1.008793\n",
              "min        0.083333\n",
              "25%        0.686678\n",
              "50%        1.000000\n",
              "75%        1.400000\n",
              "max       11.000000\n",
              "Name: team_count_50runs_last15, dtype: float64"
            ]
          },
          "metadata": {},
          "execution_count": 12
        }
      ]
    },
    {
      "cell_type": "code",
      "source": [],
      "metadata": {
        "id": "g1oQycBwhNHf"
      },
      "execution_count": null,
      "outputs": []
    },
    {
      "cell_type": "code",
      "source": [],
      "metadata": {
        "id": "sWqzzGmThM5L"
      },
      "execution_count": null,
      "outputs": []
    },
    {
      "cell_type": "markdown",
      "source": [
        "## Hyperparameter tuning"
      ],
      "metadata": {
        "id": "ZyFuBsGo5ECj"
      }
    },
    {
      "cell_type": "code",
      "source": [
        "def aruneema_predict_model(model, xtrain, xvalid, ytrain, yvalid):\n",
        "  model.fit(xtrain, ytrain)\n",
        "  ypred = model.predict(xvalid)\n",
        "  print(\"Accuracy:\", acc(yvalid, ypred))\n",
        "  print(pd.DataFrame(classrep(yvalid, ypred, output_dict=True)).transpose())"
      ],
      "metadata": {
        "id": "FxXLX_KX48gq"
      },
      "execution_count": null,
      "outputs": []
    },
    {
      "cell_type": "code",
      "source": [
        "model = gbc(n_estimators=300, learning_rate=0.1, max_depth=4)\n",
        "aruneema_predict_model(model, xtrain, xvalid, ytrain, yvalid)"
      ],
      "metadata": {
        "id": "BZHx4Yz_48lO",
        "colab": {
          "base_uri": "https://localhost:8080/"
        },
        "outputId": "53be79e9-1e98-46ed-87b9-8dbb0b05872f"
      },
      "execution_count": null,
      "outputs": [
        {
          "output_type": "stream",
          "name": "stdout",
          "text": [
            "Accuracy: 0.5157894736842106\n",
            "              precision    recall  f1-score     support\n",
            "0              0.495327  0.582418  0.535354   91.000000\n",
            "1              0.542169  0.454545  0.494505   99.000000\n",
            "accuracy       0.515789  0.515789  0.515789    0.515789\n",
            "macro avg      0.518748  0.518482  0.514930  190.000000\n",
            "weighted avg   0.519734  0.515789  0.514070  190.000000\n"
          ]
        }
      ]
    },
    {
      "cell_type": "code",
      "source": [
        "model = xgbc(max_depth=6, eta=0.3, gamma=15)\n",
        "aruneema_predict_model(model, xtrain, xvalid, ytrain, yvalid)"
      ],
      "metadata": {
        "id": "KxvaozUS48vC",
        "colab": {
          "base_uri": "https://localhost:8080/"
        },
        "outputId": "25a96fd2-da4f-4dc2-bdc3-53edec54d2be"
      },
      "execution_count": null,
      "outputs": [
        {
          "output_type": "stream",
          "name": "stdout",
          "text": [
            "Accuracy: 0.5789473684210527\n",
            "              precision    recall  f1-score     support\n",
            "0              0.547009  0.703297  0.615385   91.000000\n",
            "1              0.630137  0.464646  0.534884   99.000000\n",
            "accuracy       0.578947  0.578947  0.578947    0.578947\n",
            "macro avg      0.588573  0.583972  0.575134  190.000000\n",
            "weighted avg   0.590323  0.578947  0.573439  190.000000\n"
          ]
        }
      ]
    },
    {
      "cell_type": "code",
      "source": [
        "model = cbc(loss_function='Logloss', eval_metric='AUC', iterations=200, random_seed=69, verbose=0)\n",
        "aruneema_predict_model(model, xtrain, xvalid, ytrain, yvalid)"
      ],
      "metadata": {
        "colab": {
          "base_uri": "https://localhost:8080/"
        },
        "id": "rpwjy4nNRr4u",
        "outputId": "32e05901-f6f2-4d0a-a856-ef4e469897bb"
      },
      "execution_count": null,
      "outputs": [
        {
          "output_type": "stream",
          "name": "stdout",
          "text": [
            "Accuracy: 0.5368421052631579\n",
            "              precision    recall  f1-score     support\n",
            "0              0.514019  0.604396  0.555556   91.000000\n",
            "1              0.566265  0.474747  0.516484   99.000000\n",
            "accuracy       0.536842  0.536842  0.536842    0.536842\n",
            "macro avg      0.540142  0.539572  0.536020  190.000000\n",
            "weighted avg   0.541242  0.536842  0.535197  190.000000\n"
          ]
        }
      ]
    },
    {
      "cell_type": "code",
      "source": [],
      "metadata": {
        "id": "HdrVJM1lRrw8"
      },
      "execution_count": null,
      "outputs": []
    },
    {
      "cell_type": "code",
      "source": [],
      "metadata": {
        "id": "DF_hdRUARrjk"
      },
      "execution_count": null,
      "outputs": []
    },
    {
      "cell_type": "code",
      "source": [
        "from sklearn.model_selection import RandomizedSearchCV, GridSearchCV"
      ],
      "metadata": {
        "id": "srPClW5kN2w-"
      },
      "execution_count": null,
      "outputs": []
    },
    {
      "cell_type": "code",
      "source": [],
      "metadata": {
        "id": "gStzeVu529_5"
      },
      "execution_count": null,
      "outputs": []
    },
    {
      "cell_type": "code",
      "source": [
        "model = lgbmc()"
      ],
      "metadata": {
        "id": "oLXBHD_0-PWA"
      },
      "execution_count": null,
      "outputs": []
    },
    {
      "cell_type": "code",
      "source": [
        "model = cbc(loss_function='Logloss', eval_metric='AUC', iterations=200, random_seed=69, verbose=0)"
      ],
      "metadata": {
        "id": "2bLk_pJr-PlY"
      },
      "execution_count": null,
      "outputs": []
    },
    {
      "cell_type": "code",
      "source": [],
      "metadata": {
        "id": "im25qK2JuoXP"
      },
      "execution_count": null,
      "outputs": []
    },
    {
      "cell_type": "markdown",
      "source": [
        "## Feature Importance"
      ],
      "metadata": {
        "id": "xujzn9dvN427"
      }
    },
    {
      "cell_type": "code",
      "source": [
        "xgbc(max_depth=6, eta=0.3, gamma=15).fit(xtrain, ytrain)\n",
        "df_feat_importance = pd.DataFrame({\n",
        "    'feat_name': xtrain.columns.tolist(),\n",
        "    'model_feat_imp_train': model.feature_importances_\n",
        "})\n",
        "df_feat_importance = df_feat_importance.sort_values(by='model_feat_imp_train', ascending=False)\\\n",
        "                                       .reset_index(drop=True).head(10)\n",
        "print(df_feat_importance)"
      ],
      "metadata": {
        "colab": {
          "base_uri": "https://localhost:8080/"
        },
        "id": "O3gQVjhohNRq",
        "outputId": "3c0d961d-8fea-4298-f305-09f83c303e6c"
      },
      "execution_count": null,
      "outputs": [
        {
          "output_type": "stream",
          "name": "stdout",
          "text": [
            "                   feat_name  model_feat_imp_train\n",
            "0   team_count_50runs_last15                   1.0\n",
            "1             toss_winner_01                   0.0\n",
            "2           toss_decision_01                   0.0\n",
            "3            team_winp_last5                   0.0\n",
            "4  team1only_avg_runs_last15                   0.0\n",
            "5    team1_winp_team2_last15                   0.0\n",
            "6     ground_avg_runs_last15                   0.0\n"
          ]
        }
      ]
    },
    {
      "cell_type": "code",
      "source": [
        "cbc(loss_function='Logloss', eval_metric='AUC', iterations=200, random_seed=69, verbose=0).fit(xtrain, ytrain)\n",
        "df_feat_importance = pd.DataFrame({\n",
        "    'feat_name': xtrain.columns.tolist(),\n",
        "    'model_feat_imp_train': model.feature_importances_\n",
        "})\n",
        "df_feat_importance = df_feat_importance.sort_values(by='model_feat_imp_train', ascending=False)\\\n",
        "                                       .reset_index(drop=True).head(10)\n",
        "print(df_feat_importance)"
      ],
      "metadata": {
        "id": "cvDPUkxh2zG_",
        "colab": {
          "base_uri": "https://localhost:8080/"
        },
        "outputId": "f8386ed2-63d3-49ec-f9e0-323d5af44f52"
      },
      "execution_count": null,
      "outputs": [
        {
          "output_type": "stream",
          "name": "stdout",
          "text": [
            "                   feat_name  model_feat_imp_train\n",
            "0   team_count_50runs_last15             21.756374\n",
            "1  team1only_avg_runs_last15             21.176642\n",
            "2     ground_avg_runs_last15             17.824485\n",
            "3            team_winp_last5             15.387509\n",
            "4    team1_winp_team2_last15             13.470517\n",
            "5             toss_winner_01              5.604934\n",
            "6           toss_decision_01              4.779538\n"
          ]
        }
      ]
    },
    {
      "cell_type": "markdown",
      "source": [
        "# Ritwiz"
      ],
      "metadata": {
        "id": "vqHDIM78uoq-"
      }
    },
    {
      "cell_type": "markdown",
      "source": [
        "In file 1"
      ],
      "metadata": {
        "id": "IVgnWuSn1dRs"
      }
    },
    {
      "cell_type": "code",
      "source": [
        "## refactor\n",
        "\n",
        "df_file1 = pd.concat([test_data[['match id','dataset_type','win_pred_team_id','win_pred_score',] + list(df_feat_importance['feat_name'].head(10))], \\\n",
        "                     train_data[['match id','dataset_type','win_pred_team_id','win_pred_score',] + list(df_feat_importance['feat_name'].head(10))]])\n",
        "\n",
        "renaming_dict = {}\n",
        "for i,col in enumerate(list(df_feat_importance['feat_name'].head(10))):\n",
        "    renaming_dict[col] = f'indep_feat_id{i+1}'\n",
        "df_file1.rename(columns=renaming_dict, inplace=True)\n",
        "\n",
        "for i in range(1,11):\n",
        "    if f'indep_feat_id{i}' not in df_file1.columns:\n",
        "        df_file1[f'indep_feat_id{i}'] = np.nan\n",
        "\n",
        "df_file1['train_algorithm'] = algo_name\n",
        "df_file1['is_ensemble'] = is_ensemble\n",
        "df_file1['train_hps_trees'] = n_trees\n",
        "df_file1['train_hps_depth'] = depth\n",
        "df_file1['train_hps_lr'] = lr"
      ],
      "metadata": {
        "id": "PkSXoVkwuozm"
      },
      "execution_count": null,
      "outputs": []
    },
    {
      "cell_type": "code",
      "source": [
        "df_file1.shape\n",
        "df_file1.head()"
      ],
      "metadata": {
        "id": "2aXcVNExuzAc"
      },
      "execution_count": null,
      "outputs": []
    },
    {
      "cell_type": "markdown",
      "source": [
        "In file 2"
      ],
      "metadata": {
        "id": "2e36C-Ot1gPr"
      }
    },
    {
      "cell_type": "code",
      "source": [
        "feature_desc = {'team_count_50runs_last15':'Ratio of number of 50s by players in team1 to number of 50s by players in team2 in last 15 games',\\\n",
        "               'team_winp_last5':'Ratio of team1\\'s win % to team2\\'s win % in last 5 games',\\\n",
        "               'ground_avg_runs_last15':'average runs scored in the ground in last 15 games',\\\n",
        "               'team1_winp_team2_last15':'Team1\\'s win percentage against Team2 in last 15 games',\\\n",
        "               'team1only_avg_runs_last15':'team1\\'s avg inning runs in last 15 games',\\\n",
        "\n",
        "               'season_num' : 'Numerical form of season. Takes 1 for oldest season and increases for latest seasons.',\\\n",
        "               'toss_winner_01' : 'Toss winner to numerical - 1 if team2 wins, else 0',\\\n",
        "               'toss_decision_01' : 'Toss decision - categorical - 1 if winner bats, 0 otherwise'}"
      ],
      "metadata": {
        "id": "yhmehlMOj5q6"
      },
      "execution_count": null,
      "outputs": []
    },
    {
      "cell_type": "code",
      "source": [
        "df_feat_importance.rename(index={0:'feat_id'}, inplace=True)\n",
        "df_file2 = df_feat_importance\n",
        "df_file2['feat_id'] = [i+1 for i in df_file2.index]\n",
        "df_file2['feat_rank_train'] = [i+1 for i in df_file2.index]\n",
        "df_file2 = df_file2.set_index('feat_id')\n",
        "df_file2['feat_description'] = df_file2['feat_name'].map(feature_desc)"
      ],
      "metadata": {
        "id": "AUVl41l31lwM"
      },
      "execution_count": null,
      "outputs": []
    },
    {
      "cell_type": "code",
      "source": [
        "df_file2\n",
        "\n",
        "\n",
        "# ## Save\n",
        "\n",
        "df_file1.to_csv('file1.csv', index=False)\n",
        "df_file2.to_csv('file2.csv')\n"
      ],
      "metadata": {
        "id": "Mssng1R31pZ7"
      },
      "execution_count": null,
      "outputs": []
    }
  ]
}